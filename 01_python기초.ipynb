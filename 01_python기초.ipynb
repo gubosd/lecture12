{
 "cells": [
  {
   "cell_type": "markdown",
   "metadata": {},
   "source": [
    "## 파이썬 기초\n",
    "# 4일차 (list, for)"
   ]
  },
  {
   "cell_type": "markdown",
   "metadata": {},
   "source": [
    "### 주피터 노트북 사용법\n",
    "- shift-enter : 실행후 다음창 이동/생성\n",
    "- ctrl-enter : 실행하고 현재창에 그대로 있음\n",
    "- a : 위에 창을 만듦\n",
    "- b : 아래에 창을 만듦\n",
    "- dd : 창 삭제\n",
    "- Markdown : 문서 편집기"
   ]
  },
  {
   "cell_type": "code",
   "execution_count": 7,
   "metadata": {},
   "outputs": [
    {
     "name": "stdout",
     "output_type": "stream",
     "text": [
      "1 1\n",
      "2 4\n",
      "3 9\n",
      "4 16\n",
      "5 25\n"
     ]
    }
   ],
   "source": [
    "a = [1,2,3,4,5]\n",
    "for i in a:\n",
    "    print(i, i*i)"
   ]
  },
  {
   "cell_type": "code",
   "execution_count": 13,
   "metadata": {},
   "outputs": [
    {
     "name": "stdout",
     "output_type": "stream",
     "text": [
      "1\n",
      "2\n",
      "2\n",
      "3\n",
      "3\n",
      "4\n",
      "4\n",
      "5\n",
      "5\n",
      "6\n"
     ]
    }
   ],
   "source": [
    "for i in a:\n",
    "    print(i)\n",
    "    print(i+1)"
   ]
  },
  {
   "cell_type": "code",
   "execution_count": 15,
   "metadata": {},
   "outputs": [
    {
     "name": "stdout",
     "output_type": "stream",
     "text": [
      "1\n",
      "2\n",
      "3\n",
      "4\n",
      "5\n",
      "둘리\n"
     ]
    }
   ],
   "source": [
    "l = [1,2,3,4,5,'둘리']\n",
    "for i in l:\n",
    "    print(i)"
   ]
  },
  {
   "cell_type": "markdown",
   "metadata": {},
   "source": [
    "# 5일차 (if, ...)"
   ]
  },
  {
   "cell_type": "markdown",
   "metadata": {},
   "source": [
    "### 연습문제1 (2020.7.10)\n",
    "> 10분간 풀어보세요~\n",
    "\n",
    "\n",
    "```\n",
    "data = [['홍길동',22,'서울'],\n",
    "\t['장길산',35,'평양'],\n",
    "\t['둘리',5,'우주'],\n",
    "\t['신사임당',60,'강릉']]\n",
    "\n",
    "위의 데이터에서 나이의 평균을 구하시오.\n",
    "for 문을 이용해서 푸세요.\n",
    "```"
   ]
  },
  {
   "cell_type": "code",
   "execution_count": 1,
   "metadata": {},
   "outputs": [],
   "source": [
    "data = [['홍길동',22,'서울'],\n",
    "    ['장길산',35,'평양'],\n",
    "    ['둘리',5,'우주'],\n",
    "    ['신사임당',60,'강릉']]"
   ]
  },
  {
   "cell_type": "code",
   "execution_count": 3,
   "metadata": {},
   "outputs": [
    {
     "name": "stdout",
     "output_type": "stream",
     "text": [
      "['홍길동', 22, '서울']\n",
      "['장길산', 35, '평양']\n",
      "['둘리', 5, '우주']\n",
      "['신사임당', 60, '강릉']\n"
     ]
    }
   ],
   "source": [
    "for student in data:\n",
    "    print(student)"
   ]
  },
  {
   "cell_type": "code",
   "execution_count": 7,
   "metadata": {},
   "outputs": [
    {
     "name": "stdout",
     "output_type": "stream",
     "text": [
      "평균은 30.5\n"
     ]
    }
   ],
   "source": [
    "n = 0\n",
    "for student in data:\n",
    "    n = n + student[1]\n",
    "    \n",
    "print('평균은',n/4)"
   ]
  },
  {
   "cell_type": "code",
   "execution_count": 11,
   "metadata": {},
   "outputs": [
    {
     "name": "stdout",
     "output_type": "stream",
     "text": [
      "30.5\n"
     ]
    }
   ],
   "source": [
    "age = []\n",
    "for student in data:\n",
    "    age.append(student[1])\n",
    "    \n",
    "print(sum(age)/len(data))"
   ]
  },
  {
   "cell_type": "code",
   "execution_count": 14,
   "metadata": {},
   "outputs": [
    {
     "name": "stdout",
     "output_type": "stream",
     "text": [
      "큰일이다\n"
     ]
    }
   ],
   "source": [
    "score = 79\n",
    "\n",
    "if score>=90:\n",
    "    print('수')\n",
    "elif score>=80:\n",
    "    print('우')\n",
    "else:\n",
    "    print('큰일이다')"
   ]
  },
  {
   "cell_type": "code",
   "execution_count": 17,
   "metadata": {},
   "outputs": [
    {
     "name": "stdout",
     "output_type": "stream",
     "text": [
      "체크함\n",
      "99 우수함\n",
      "체크함\n",
      "체크함\n",
      "91 우수함\n",
      "체크함\n"
     ]
    }
   ],
   "source": [
    "l = [10,99,87,91]\n",
    "\n",
    "for i in l:\n",
    "    if i>90:\n",
    "        print(i, '우수함')\n",
    "        \n",
    "    print('체크함')"
   ]
  },
  {
   "cell_type": "code",
   "execution_count": null,
   "metadata": {},
   "outputs": [],
   "source": []
  },
  {
   "cell_type": "code",
   "execution_count": null,
   "metadata": {},
   "outputs": [],
   "source": []
  },
  {
   "cell_type": "markdown",
   "metadata": {},
   "source": [
    "### 연습문제2 (2020.7.10)\n",
    "\n",
    "```\n",
    "data = [['홍길동',22,'서울'],\n",
    "\t['장길산',35,'평양'],\n",
    "\t['둘리',5,'우주'],\n",
    "\t['신사임당',60,'강릉']]\n",
    "\n",
    "위의 데이터에서 나이가 30보다 어린 학생들을 뽑아서\n",
    "data2 를 만드시오.\n",
    "그리고, 이름이 3자가 아닌 학생들의 이름을 출력하시오.\n",
    "for 와 if 를 사용한다\n",
    "```"
   ]
  },
  {
   "cell_type": "code",
   "execution_count": 19,
   "metadata": {},
   "outputs": [
    {
     "name": "stdout",
     "output_type": "stream",
     "text": [
      "[['홍길동', 22, '서울'], ['둘리', 5, '우주']]\n"
     ]
    }
   ],
   "source": [
    "data2 = []\n",
    "\n",
    "for i in data:\n",
    "    if i[1]<30:\n",
    "        data2.append(i)\n",
    "        \n",
    "print(data2)"
   ]
  },
  {
   "cell_type": "code",
   "execution_count": 20,
   "metadata": {},
   "outputs": [
    {
     "name": "stdout",
     "output_type": "stream",
     "text": [
      "둘리\n",
      "신사임당\n"
     ]
    }
   ],
   "source": [
    "for i in data:\n",
    "    if len(i[0]) != 3:\n",
    "        print(i[0])"
   ]
  },
  {
   "cell_type": "code",
   "execution_count": 22,
   "metadata": {},
   "outputs": [
    {
     "data": {
      "text/plain": [
       "'     ****************************************************************************************************'"
      ]
     },
     "execution_count": 22,
     "metadata": {},
     "output_type": "execute_result"
    }
   ],
   "source": [
    "' '*5 + '*'*100"
   ]
  },
  {
   "cell_type": "code",
   "execution_count": 25,
   "metadata": {},
   "outputs": [],
   "source": [
    "t = (3,)"
   ]
  },
  {
   "cell_type": "code",
   "execution_count": 27,
   "metadata": {},
   "outputs": [
    {
     "data": {
      "text/plain": [
       "tuple"
      ]
     },
     "execution_count": 27,
     "metadata": {},
     "output_type": "execute_result"
    }
   ],
   "source": [
    "type(t)"
   ]
  },
  {
   "cell_type": "code",
   "execution_count": null,
   "metadata": {},
   "outputs": [],
   "source": [
    "(1+2)+(3)"
   ]
  },
  {
   "cell_type": "code",
   "execution_count": 28,
   "metadata": {},
   "outputs": [
    {
     "data": {
      "text/plain": [
       "(1, 2, 3, 4, 5)"
      ]
     },
     "execution_count": 28,
     "metadata": {},
     "output_type": "execute_result"
    }
   ],
   "source": [
    "t = (1,2,3,4,5)\n",
    "t"
   ]
  },
  {
   "cell_type": "code",
   "execution_count": 29,
   "metadata": {},
   "outputs": [
    {
     "data": {
      "text/plain": [
       "tuple"
      ]
     },
     "execution_count": 29,
     "metadata": {},
     "output_type": "execute_result"
    }
   ],
   "source": [
    "type(t)"
   ]
  },
  {
   "cell_type": "code",
   "execution_count": 30,
   "metadata": {},
   "outputs": [
    {
     "data": {
      "text/plain": [
       "(1, 2, 3)"
      ]
     },
     "execution_count": 30,
     "metadata": {},
     "output_type": "execute_result"
    }
   ],
   "source": [
    "tuple([1,2,3])"
   ]
  },
  {
   "cell_type": "code",
   "execution_count": 31,
   "metadata": {},
   "outputs": [
    {
     "ename": "TypeError",
     "evalue": "'tuple' object does not support item assignment",
     "output_type": "error",
     "traceback": [
      "\u001b[1;31m---------------------------------------------------------------------------\u001b[0m",
      "\u001b[1;31mTypeError\u001b[0m                                 Traceback (most recent call last)",
      "\u001b[1;32m<ipython-input-31-bc1815b3849b>\u001b[0m in \u001b[0;36m<module>\u001b[1;34m()\u001b[0m\n\u001b[1;32m----> 1\u001b[1;33m \u001b[0mt\u001b[0m\u001b[1;33m[\u001b[0m\u001b[1;36m0\u001b[0m\u001b[1;33m]\u001b[0m \u001b[1;33m=\u001b[0m \u001b[1;36m999\u001b[0m\u001b[1;33m\u001b[0m\u001b[0m\n\u001b[0m",
      "\u001b[1;31mTypeError\u001b[0m: 'tuple' object does not support item assignment"
     ]
    }
   ],
   "source": [
    "t[0] = 999"
   ]
  },
  {
   "cell_type": "code",
   "execution_count": 35,
   "metadata": {},
   "outputs": [],
   "source": [
    "t = 1,2"
   ]
  },
  {
   "cell_type": "code",
   "execution_count": 36,
   "metadata": {},
   "outputs": [
    {
     "data": {
      "text/plain": [
       "(1, 2)"
      ]
     },
     "execution_count": 36,
     "metadata": {},
     "output_type": "execute_result"
    }
   ],
   "source": [
    "t"
   ]
  },
  {
   "cell_type": "code",
   "execution_count": 41,
   "metadata": {},
   "outputs": [],
   "source": [
    "(a,b) = [99,999]"
   ]
  },
  {
   "cell_type": "code",
   "execution_count": 42,
   "metadata": {},
   "outputs": [
    {
     "data": {
      "text/plain": [
       "99"
      ]
     },
     "execution_count": 42,
     "metadata": {},
     "output_type": "execute_result"
    }
   ],
   "source": [
    "a"
   ]
  },
  {
   "cell_type": "code",
   "execution_count": 43,
   "metadata": {},
   "outputs": [
    {
     "data": {
      "text/plain": [
       "999"
      ]
     },
     "execution_count": 43,
     "metadata": {},
     "output_type": "execute_result"
    }
   ],
   "source": [
    "b"
   ]
  },
  {
   "cell_type": "code",
   "execution_count": 40,
   "metadata": {},
   "outputs": [],
   "source": [
    "a,b = [[1,2,3,4,5], [10,11,12,13,14]]"
   ]
  },
  {
   "cell_type": "code",
   "execution_count": 44,
   "metadata": {},
   "outputs": [],
   "source": [
    "d = {'apple': 'this is a fruit and is red', 'orange': 'yellow type'}"
   ]
  },
  {
   "cell_type": "code",
   "execution_count": 45,
   "metadata": {},
   "outputs": [
    {
     "data": {
      "text/plain": [
       "{'apple': 'this is a fruit and is red', 'orange': 'yellow type'}"
      ]
     },
     "execution_count": 45,
     "metadata": {},
     "output_type": "execute_result"
    }
   ],
   "source": [
    "d"
   ]
  },
  {
   "cell_type": "code",
   "execution_count": 46,
   "metadata": {},
   "outputs": [
    {
     "data": {
      "text/plain": [
       "{1: 'a', 2: 'b'}"
      ]
     },
     "execution_count": 46,
     "metadata": {},
     "output_type": "execute_result"
    }
   ],
   "source": [
    "d = {1: 'a', 2: 'b'}\n",
    "d"
   ]
  },
  {
   "cell_type": "code",
   "execution_count": 47,
   "metadata": {},
   "outputs": [
    {
     "data": {
      "text/plain": [
       "{'a': 1, 'b': 2}"
      ]
     },
     "execution_count": 47,
     "metadata": {},
     "output_type": "execute_result"
    }
   ],
   "source": [
    "d = {'a': 1, 'b': 2}\n",
    "d"
   ]
  },
  {
   "cell_type": "code",
   "execution_count": 48,
   "metadata": {},
   "outputs": [
    {
     "data": {
      "text/plain": [
       "{'a': [1, 2, 3, 4, 5], 'b': (3, 4, 7)}"
      ]
     },
     "execution_count": 48,
     "metadata": {},
     "output_type": "execute_result"
    }
   ],
   "source": [
    "d = {'a':[1,2,3,4,5], 'b': (3,4,7)}\n",
    "d"
   ]
  },
  {
   "cell_type": "code",
   "execution_count": 50,
   "metadata": {},
   "outputs": [
    {
     "data": {
      "text/plain": [
       "{'나이': 22, '이름': '홍길동', '주소': '서울'}"
      ]
     },
     "execution_count": 50,
     "metadata": {},
     "output_type": "execute_result"
    }
   ],
   "source": [
    "d = {}\n",
    "d['이름']='홍길동'\n",
    "d['나이']=22\n",
    "d['주소']='서울'\n",
    "d"
   ]
  },
  {
   "cell_type": "code",
   "execution_count": 51,
   "metadata": {},
   "outputs": [
    {
     "data": {
      "text/plain": [
       "22"
      ]
     },
     "execution_count": 51,
     "metadata": {},
     "output_type": "execute_result"
    }
   ],
   "source": [
    "d['나이']"
   ]
  },
  {
   "cell_type": "code",
   "execution_count": 52,
   "metadata": {},
   "outputs": [
    {
     "data": {
      "text/plain": [
       "{'나이': 23, '이름': '홍길동', '주소': '서울'}"
      ]
     },
     "execution_count": 52,
     "metadata": {},
     "output_type": "execute_result"
    }
   ],
   "source": [
    "d['나이']=23\n",
    "d"
   ]
  },
  {
   "cell_type": "code",
   "execution_count": 54,
   "metadata": {},
   "outputs": [
    {
     "name": "stdout",
     "output_type": "stream",
     "text": [
      "a 333\n",
      "b 222\n",
      "c 777\n"
     ]
    }
   ],
   "source": [
    "d = {'a':333, 'b':222, 'c':777}\n",
    "\n",
    "for i in d:\n",
    "    print(i, d[i])"
   ]
  },
  {
   "cell_type": "code",
   "execution_count": 55,
   "metadata": {},
   "outputs": [
    {
     "name": "stdout",
     "output_type": "stream",
     "text": [
      "a 333\n",
      "b 222\n",
      "c 777\n"
     ]
    }
   ],
   "source": [
    "d = {'a':333, 'b':222, 'c':777}\n",
    "\n",
    "for i in d.keys():\n",
    "    print(i, d[i])"
   ]
  },
  {
   "cell_type": "code",
   "execution_count": 57,
   "metadata": {},
   "outputs": [
    {
     "data": {
      "text/plain": [
       "['a', 'b', 'c']"
      ]
     },
     "execution_count": 57,
     "metadata": {},
     "output_type": "execute_result"
    }
   ],
   "source": [
    "list(d.keys())"
   ]
  },
  {
   "cell_type": "code",
   "execution_count": 59,
   "metadata": {},
   "outputs": [
    {
     "data": {
      "text/plain": [
       "[('a', 333), ('b', 222), ('c', 777)]"
      ]
     },
     "execution_count": 59,
     "metadata": {},
     "output_type": "execute_result"
    }
   ],
   "source": [
    "list(d.items())"
   ]
  },
  {
   "cell_type": "code",
   "execution_count": 61,
   "metadata": {},
   "outputs": [
    {
     "name": "stdout",
     "output_type": "stream",
     "text": [
      "a => 333\n",
      "b => 222\n",
      "c => 777\n"
     ]
    }
   ],
   "source": [
    "for key, value in d.items():\n",
    "    print(key, '=>', value)"
   ]
  },
  {
   "cell_type": "code",
   "execution_count": null,
   "metadata": {},
   "outputs": [],
   "source": []
  },
  {
   "cell_type": "code",
   "execution_count": 62,
   "metadata": {},
   "outputs": [],
   "source": [
    "A = {1,2,3,4,5}\n",
    "B = {4,5,6,7,8}"
   ]
  },
  {
   "cell_type": "code",
   "execution_count": 63,
   "metadata": {},
   "outputs": [
    {
     "data": {
      "text/plain": [
       "{1, 2, 3, 4, 5}"
      ]
     },
     "execution_count": 63,
     "metadata": {},
     "output_type": "execute_result"
    }
   ],
   "source": [
    "A"
   ]
  },
  {
   "cell_type": "code",
   "execution_count": 64,
   "metadata": {},
   "outputs": [
    {
     "data": {
      "text/plain": [
       "{4, 5, 6, 7, 8}"
      ]
     },
     "execution_count": 64,
     "metadata": {},
     "output_type": "execute_result"
    }
   ],
   "source": [
    "B"
   ]
  },
  {
   "cell_type": "code",
   "execution_count": 65,
   "metadata": {},
   "outputs": [
    {
     "data": {
      "text/plain": [
       "set"
      ]
     },
     "execution_count": 65,
     "metadata": {},
     "output_type": "execute_result"
    }
   ],
   "source": [
    "type(A)"
   ]
  },
  {
   "cell_type": "code",
   "execution_count": 66,
   "metadata": {},
   "outputs": [
    {
     "data": {
      "text/plain": [
       "{1, 2, 3, 4, 5}"
      ]
     },
     "execution_count": 66,
     "metadata": {},
     "output_type": "execute_result"
    }
   ],
   "source": [
    "set([1,2,3,4,5])"
   ]
  },
  {
   "cell_type": "code",
   "execution_count": 67,
   "metadata": {},
   "outputs": [
    {
     "data": {
      "text/plain": [
       "{1, 2, 3, 4, 5, 6, 7, 8}"
      ]
     },
     "execution_count": 67,
     "metadata": {},
     "output_type": "execute_result"
    }
   ],
   "source": [
    "A | B"
   ]
  },
  {
   "cell_type": "code",
   "execution_count": 68,
   "metadata": {},
   "outputs": [
    {
     "data": {
      "text/plain": [
       "{4, 5}"
      ]
     },
     "execution_count": 68,
     "metadata": {},
     "output_type": "execute_result"
    }
   ],
   "source": [
    "A & B"
   ]
  },
  {
   "cell_type": "code",
   "execution_count": 69,
   "metadata": {},
   "outputs": [
    {
     "data": {
      "text/plain": [
       "{1, 2, 3}"
      ]
     },
     "execution_count": 69,
     "metadata": {},
     "output_type": "execute_result"
    }
   ],
   "source": [
    "A - B"
   ]
  },
  {
   "cell_type": "code",
   "execution_count": 70,
   "metadata": {},
   "outputs": [
    {
     "data": {
      "text/plain": [
       "{6, 7, 8}"
      ]
     },
     "execution_count": 70,
     "metadata": {},
     "output_type": "execute_result"
    }
   ],
   "source": [
    "B - A"
   ]
  },
  {
   "cell_type": "code",
   "execution_count": 71,
   "metadata": {},
   "outputs": [],
   "source": [
    "A = {0,1,2,3,4,5}\n",
    "B = {0,1,2,4,5,6}"
   ]
  },
  {
   "cell_type": "code",
   "execution_count": 72,
   "metadata": {},
   "outputs": [
    {
     "data": {
      "text/plain": [
       "{3}"
      ]
     },
     "execution_count": 72,
     "metadata": {},
     "output_type": "execute_result"
    }
   ],
   "source": [
    "A - B"
   ]
  },
  {
   "cell_type": "code",
   "execution_count": 73,
   "metadata": {},
   "outputs": [
    {
     "data": {
      "text/plain": [
       "{6}"
      ]
     },
     "execution_count": 73,
     "metadata": {},
     "output_type": "execute_result"
    }
   ],
   "source": [
    "B - A"
   ]
  },
  {
   "cell_type": "code",
   "execution_count": 74,
   "metadata": {},
   "outputs": [
    {
     "data": {
      "text/plain": [
       "{1, 2, 3, 4, 5}"
      ]
     },
     "execution_count": 74,
     "metadata": {},
     "output_type": "execute_result"
    }
   ],
   "source": [
    "a = [1,2,3,4,5,2,4]\n",
    "a2 = set(a)\n",
    "a2"
   ]
  },
  {
   "cell_type": "code",
   "execution_count": 75,
   "metadata": {},
   "outputs": [
    {
     "data": {
      "text/plain": [
       "[1, 2, 3, 4, 5]"
      ]
     },
     "execution_count": 75,
     "metadata": {},
     "output_type": "execute_result"
    }
   ],
   "source": [
    "list(a2)"
   ]
  },
  {
   "cell_type": "code",
   "execution_count": 76,
   "metadata": {},
   "outputs": [
    {
     "data": {
      "text/plain": [
       "{1, 2, 3}"
      ]
     },
     "execution_count": 76,
     "metadata": {},
     "output_type": "execute_result"
    }
   ],
   "source": [
    "{1,2,2,2,2,2,2,2,3}"
   ]
  },
  {
   "cell_type": "code",
   "execution_count": 77,
   "metadata": {},
   "outputs": [
    {
     "data": {
      "text/plain": [
       "[1, 2, 3, 4, 5]"
      ]
     },
     "execution_count": 77,
     "metadata": {},
     "output_type": "execute_result"
    }
   ],
   "source": [
    "list(set(a))"
   ]
  },
  {
   "cell_type": "code",
   "execution_count": 78,
   "metadata": {},
   "outputs": [
    {
     "data": {
      "text/plain": [
       "bool"
      ]
     },
     "execution_count": 78,
     "metadata": {},
     "output_type": "execute_result"
    }
   ],
   "source": [
    "type(True)"
   ]
  },
  {
   "cell_type": "code",
   "execution_count": 79,
   "metadata": {},
   "outputs": [
    {
     "data": {
      "text/plain": [
       "True"
      ]
     },
     "execution_count": 79,
     "metadata": {},
     "output_type": "execute_result"
    }
   ],
   "source": [
    "bool(1)"
   ]
  },
  {
   "cell_type": "code",
   "execution_count": 83,
   "metadata": {},
   "outputs": [
    {
     "data": {
      "text/plain": [
       "False"
      ]
     },
     "execution_count": 83,
     "metadata": {},
     "output_type": "execute_result"
    }
   ],
   "source": [
    "bool(0)"
   ]
  },
  {
   "cell_type": "code",
   "execution_count": 81,
   "metadata": {},
   "outputs": [
    {
     "data": {
      "text/plain": [
       "True"
      ]
     },
     "execution_count": 81,
     "metadata": {},
     "output_type": "execute_result"
    }
   ],
   "source": [
    "bool(-1)"
   ]
  },
  {
   "cell_type": "code",
   "execution_count": 88,
   "metadata": {},
   "outputs": [
    {
     "name": "stdout",
     "output_type": "stream",
     "text": [
      "거짓\n"
     ]
    }
   ],
   "source": [
    "if 2==0:\n",
    "    print('참')\n",
    "else:\n",
    "    print('거짓')"
   ]
  },
  {
   "cell_type": "code",
   "execution_count": 89,
   "metadata": {},
   "outputs": [
    {
     "data": {
      "text/plain": [
       "False"
      ]
     },
     "execution_count": 89,
     "metadata": {},
     "output_type": "execute_result"
    }
   ],
   "source": [
    "2==0"
   ]
  },
  {
   "cell_type": "code",
   "execution_count": 91,
   "metadata": {},
   "outputs": [
    {
     "data": {
      "text/plain": [
       "False"
      ]
     },
     "execution_count": 91,
     "metadata": {},
     "output_type": "execute_result"
    }
   ],
   "source": [
    "0 in [1,2,3]"
   ]
  },
  {
   "cell_type": "code",
   "execution_count": 93,
   "metadata": {},
   "outputs": [
    {
     "data": {
      "text/plain": [
       "True"
      ]
     },
     "execution_count": 93,
     "metadata": {},
     "output_type": "execute_result"
    }
   ],
   "source": [
    "'o' in 'Hello'"
   ]
  },
  {
   "cell_type": "code",
   "execution_count": 95,
   "metadata": {},
   "outputs": [
    {
     "data": {
      "text/plain": [
       "True"
      ]
     },
     "execution_count": 95,
     "metadata": {},
     "output_type": "execute_result"
    }
   ],
   "source": [
    "n = 1\n",
    "(n>0) or (n<10)"
   ]
  },
  {
   "cell_type": "code",
   "execution_count": 96,
   "metadata": {},
   "outputs": [
    {
     "data": {
      "text/plain": [
       "False"
      ]
     },
     "execution_count": 96,
     "metadata": {},
     "output_type": "execute_result"
    }
   ],
   "source": [
    "not (n>0)"
   ]
  },
  {
   "cell_type": "code",
   "execution_count": 97,
   "metadata": {},
   "outputs": [
    {
     "data": {
      "text/plain": [
       "0"
      ]
     },
     "execution_count": 97,
     "metadata": {},
     "output_type": "execute_result"
    }
   ],
   "source": [
    "True * False"
   ]
  },
  {
   "cell_type": "code",
   "execution_count": null,
   "metadata": {},
   "outputs": [],
   "source": [
    "a = 1\n",
    "b = 2\n",
    "c = [1,2,3]"
   ]
  },
  {
   "cell_type": "code",
   "execution_count": null,
   "metadata": {},
   "outputs": [],
   "source": []
  },
  {
   "cell_type": "code",
   "execution_count": 98,
   "metadata": {},
   "outputs": [
    {
     "data": {
      "text/plain": [
       "[1, 2, 3]"
      ]
     },
     "execution_count": 98,
     "metadata": {},
     "output_type": "execute_result"
    }
   ],
   "source": [
    "l = [1,2,3]\n",
    "l"
   ]
  },
  {
   "cell_type": "code",
   "execution_count": 99,
   "metadata": {},
   "outputs": [
    {
     "data": {
      "text/plain": [
       "[1, 0, 3]"
      ]
     },
     "execution_count": 99,
     "metadata": {},
     "output_type": "execute_result"
    }
   ],
   "source": [
    "l[1] = 0\n",
    "l"
   ]
  },
  {
   "cell_type": "code",
   "execution_count": 102,
   "metadata": {},
   "outputs": [
    {
     "data": {
      "text/plain": [
       "[1, 0, 3]"
      ]
     },
     "execution_count": 102,
     "metadata": {},
     "output_type": "execute_result"
    }
   ],
   "source": [
    "l=[1,2,3]\n",
    "l2 = l.copy()\n",
    "l2[1]=0\n",
    "l2"
   ]
  },
  {
   "cell_type": "code",
   "execution_count": 103,
   "metadata": {},
   "outputs": [
    {
     "data": {
      "text/plain": [
       "[1, 2, 3]"
      ]
     },
     "execution_count": 103,
     "metadata": {},
     "output_type": "execute_result"
    }
   ],
   "source": [
    "l"
   ]
  },
  {
   "cell_type": "code",
   "execution_count": 105,
   "metadata": {},
   "outputs": [],
   "source": [
    "n = 1\n",
    "n2 = n"
   ]
  },
  {
   "cell_type": "code",
   "execution_count": 106,
   "metadata": {},
   "outputs": [
    {
     "data": {
      "text/plain": [
       "(1, 999)"
      ]
     },
     "execution_count": 106,
     "metadata": {},
     "output_type": "execute_result"
    }
   ],
   "source": [
    "n2 = 999\n",
    "n, n2"
   ]
  },
  {
   "cell_type": "code",
   "execution_count": 107,
   "metadata": {},
   "outputs": [
    {
     "data": {
      "text/plain": [
       "([1, 999, 3], [1, 999, 3])"
      ]
     },
     "execution_count": 107,
     "metadata": {},
     "output_type": "execute_result"
    }
   ],
   "source": [
    "l = [1,2,3]\n",
    "l2 = l\n",
    "\n",
    "l2[1] = 999\n",
    "l, l2"
   ]
  },
  {
   "cell_type": "markdown",
   "metadata": {},
   "source": [
    "### 6일차"
   ]
  },
  {
   "cell_type": "code",
   "execution_count": 1,
   "metadata": {},
   "outputs": [],
   "source": [
    "a = 1\n",
    "b = a\n"
   ]
  },
  {
   "cell_type": "code",
   "execution_count": 2,
   "metadata": {},
   "outputs": [
    {
     "data": {
      "text/plain": [
       "(1, 2)"
      ]
     },
     "execution_count": 2,
     "metadata": {},
     "output_type": "execute_result"
    }
   ],
   "source": [
    "b = 2\n",
    "a, b"
   ]
  },
  {
   "cell_type": "code",
   "execution_count": 3,
   "metadata": {},
   "outputs": [],
   "source": [
    "a = [1,2,3]\n",
    "b = a"
   ]
  },
  {
   "cell_type": "code",
   "execution_count": 4,
   "metadata": {},
   "outputs": [
    {
     "data": {
      "text/plain": [
       "[999, 2, 3]"
      ]
     },
     "execution_count": 4,
     "metadata": {},
     "output_type": "execute_result"
    }
   ],
   "source": [
    "b[0]=999\n",
    "b"
   ]
  },
  {
   "cell_type": "code",
   "execution_count": 5,
   "metadata": {},
   "outputs": [
    {
     "data": {
      "text/plain": [
       "[999, 2, 3]"
      ]
     },
     "execution_count": 5,
     "metadata": {},
     "output_type": "execute_result"
    }
   ],
   "source": [
    "a"
   ]
  },
  {
   "cell_type": "code",
   "execution_count": 6,
   "metadata": {},
   "outputs": [
    {
     "data": {
      "text/plain": [
       "[[], [], []]"
      ]
     },
     "execution_count": 6,
     "metadata": {},
     "output_type": "execute_result"
    }
   ],
   "source": [
    "l = []\n",
    "a = [l,l,l]\n",
    "a"
   ]
  },
  {
   "cell_type": "code",
   "execution_count": 7,
   "metadata": {},
   "outputs": [
    {
     "data": {
      "text/plain": [
       "[[999], [999], [999]]"
      ]
     },
     "execution_count": 7,
     "metadata": {},
     "output_type": "execute_result"
    }
   ],
   "source": [
    "l.append(999)\n",
    "a"
   ]
  },
  {
   "cell_type": "code",
   "execution_count": 8,
   "metadata": {},
   "outputs": [
    {
     "data": {
      "text/plain": [
       "[[-1], [-1], [-1]]"
      ]
     },
     "execution_count": 8,
     "metadata": {},
     "output_type": "execute_result"
    }
   ],
   "source": [
    "a[0][0]=-1\n",
    "a"
   ]
  },
  {
   "cell_type": "code",
   "execution_count": 12,
   "metadata": {},
   "outputs": [],
   "source": [
    "a = [1,2,3]\n",
    "#b = a.copy()\n",
    "b = a[:]\n",
    "b[0]=999"
   ]
  },
  {
   "cell_type": "code",
   "execution_count": 13,
   "metadata": {},
   "outputs": [
    {
     "data": {
      "text/plain": [
       "[1, 2, 3]"
      ]
     },
     "execution_count": 13,
     "metadata": {},
     "output_type": "execute_result"
    }
   ],
   "source": [
    "a"
   ]
  },
  {
   "cell_type": "code",
   "execution_count": 14,
   "metadata": {},
   "outputs": [
    {
     "data": {
      "text/plain": [
       "[999, 2, 3]"
      ]
     },
     "execution_count": 14,
     "metadata": {},
     "output_type": "execute_result"
    }
   ],
   "source": [
    "b"
   ]
  },
  {
   "cell_type": "code",
   "execution_count": 23,
   "metadata": {},
   "outputs": [],
   "source": [
    "a,(b,c,d,e) = [1,[2,3,4,5]]"
   ]
  },
  {
   "cell_type": "code",
   "execution_count": 24,
   "metadata": {},
   "outputs": [
    {
     "data": {
      "text/plain": [
       "1"
      ]
     },
     "execution_count": 24,
     "metadata": {},
     "output_type": "execute_result"
    }
   ],
   "source": [
    "a"
   ]
  },
  {
   "cell_type": "code",
   "execution_count": 25,
   "metadata": {},
   "outputs": [
    {
     "data": {
      "text/plain": [
       "(2, 3, 4, 5)"
      ]
     },
     "execution_count": 25,
     "metadata": {},
     "output_type": "execute_result"
    }
   ],
   "source": [
    "b,c,d,e"
   ]
  },
  {
   "cell_type": "code",
   "execution_count": null,
   "metadata": {},
   "outputs": [],
   "source": []
  },
  {
   "cell_type": "code",
   "execution_count": 32,
   "metadata": {},
   "outputs": [
    {
     "name": "stdout",
     "output_type": "stream",
     "text": [
      "양수\n"
     ]
    }
   ],
   "source": [
    "n = 7\n",
    "\n",
    "if (n>0 or n<5) and n!=3:\n",
    "    print('양수')"
   ]
  },
  {
   "cell_type": "code",
   "execution_count": 33,
   "metadata": {},
   "outputs": [
    {
     "name": "stdout",
     "output_type": "stream",
     "text": [
      "good\n"
     ]
    }
   ],
   "source": [
    "if n in [5,6,7]:\n",
    "    print('good')"
   ]
  },
  {
   "cell_type": "code",
   "execution_count": 34,
   "metadata": {},
   "outputs": [],
   "source": [
    "n = -999\n",
    "a = 1 if n>0 else -1"
   ]
  },
  {
   "cell_type": "code",
   "execution_count": 35,
   "metadata": {},
   "outputs": [
    {
     "data": {
      "text/plain": [
       "-1"
      ]
     },
     "execution_count": 35,
     "metadata": {},
     "output_type": "execute_result"
    }
   ],
   "source": [
    "a"
   ]
  },
  {
   "cell_type": "code",
   "execution_count": 36,
   "metadata": {},
   "outputs": [
    {
     "data": {
      "text/plain": [
       "-1"
      ]
     },
     "execution_count": 36,
     "metadata": {},
     "output_type": "execute_result"
    }
   ],
   "source": [
    "a = 0\n",
    "if n>0:\n",
    "    a = 1\n",
    "else:\n",
    "    a = -1\n",
    "    \n",
    "a"
   ]
  },
  {
   "cell_type": "code",
   "execution_count": 39,
   "metadata": {},
   "outputs": [
    {
     "name": "stdout",
     "output_type": "stream",
     "text": [
      "check\n"
     ]
    }
   ],
   "source": [
    "n = -3\n",
    "if n>0:\n",
    "    #print('good')\n",
    "    pass\n",
    "else:\n",
    "    print('check')"
   ]
  },
  {
   "cell_type": "code",
   "execution_count": 40,
   "metadata": {},
   "outputs": [
    {
     "name": "stdout",
     "output_type": "stream",
     "text": [
      "1\n",
      "3\n",
      "5\n"
     ]
    }
   ],
   "source": [
    "for i in [1,3,5]:\n",
    "    print(i)"
   ]
  },
  {
   "cell_type": "code",
   "execution_count": 41,
   "metadata": {},
   "outputs": [
    {
     "name": "stdout",
     "output_type": "stream",
     "text": [
      "gogo\n"
     ]
    }
   ],
   "source": [
    "running = True\n",
    "\n",
    "while running:\n",
    "    print('now')\n",
    "    continue\n",
    "    print('gogo')\n",
    "    break"
   ]
  },
  {
   "cell_type": "code",
   "execution_count": 11,
   "metadata": {},
   "outputs": [
    {
     "name": "stdout",
     "output_type": "stream",
     "text": [
      "*\n",
      "**\n",
      "***\n",
      "****\n",
      "*****\n",
      "******\n",
      "*******\n",
      "********\n",
      "*********\n",
      "**********\n"
     ]
    }
   ],
   "source": [
    "for i in range(1,11):\n",
    "    print(i*'*')"
   ]
  },
  {
   "cell_type": "code",
   "execution_count": 12,
   "metadata": {},
   "outputs": [
    {
     "data": {
      "text/plain": [
       "[1, 3, 5]"
      ]
     },
     "execution_count": 12,
     "metadata": {},
     "output_type": "execute_result"
    }
   ],
   "source": [
    "l = [1,2,3,4,5]\n",
    "l[::2]"
   ]
  },
  {
   "cell_type": "code",
   "execution_count": 13,
   "metadata": {},
   "outputs": [
    {
     "name": "stdout",
     "output_type": "stream",
     "text": [
      "*\n",
      "***\n",
      "*****\n",
      "*******\n",
      "*********\n"
     ]
    }
   ],
   "source": [
    "for i in range(1,11,2):\n",
    "    print(i*'*')"
   ]
  },
  {
   "cell_type": "code",
   "execution_count": 19,
   "metadata": {
    "collapsed": true
   },
   "outputs": [
    {
     "name": "stdout",
     "output_type": "stream",
     "text": [
      "2 곱하기 1 은(는) 2\n",
      "2 곱하기 2 은(는) 4\n",
      "2 곱하기 3 은(는) 6\n",
      "2 곱하기 4 은(는) 8\n",
      "2 곱하기 5 은(는) 10\n",
      "2 곱하기 6 은(는) 12\n",
      "2 곱하기 7 은(는) 14\n",
      "2 곱하기 8 은(는) 16\n",
      "2 곱하기 9 은(는) 18\n",
      "3 곱하기 1 은(는) 3\n",
      "3 곱하기 2 은(는) 6\n",
      "3 곱하기 3 은(는) 9\n",
      "3 곱하기 4 은(는) 12\n",
      "3 곱하기 5 은(는) 15\n",
      "3 곱하기 6 은(는) 18\n",
      "3 곱하기 7 은(는) 21\n",
      "3 곱하기 8 은(는) 24\n",
      "3 곱하기 9 은(는) 27\n",
      "4 곱하기 1 은(는) 4\n",
      "4 곱하기 2 은(는) 8\n",
      "4 곱하기 3 은(는) 12\n",
      "4 곱하기 4 은(는) 16\n",
      "4 곱하기 5 은(는) 20\n",
      "4 곱하기 6 은(는) 24\n",
      "4 곱하기 7 은(는) 28\n",
      "4 곱하기 8 은(는) 32\n",
      "4 곱하기 9 은(는) 36\n",
      "5 곱하기 1 은(는) 5\n",
      "5 곱하기 2 은(는) 10\n",
      "5 곱하기 3 은(는) 15\n",
      "5 곱하기 4 은(는) 20\n",
      "5 곱하기 5 은(는) 25\n",
      "5 곱하기 6 은(는) 30\n",
      "5 곱하기 7 은(는) 35\n",
      "5 곱하기 8 은(는) 40\n",
      "5 곱하기 9 은(는) 45\n",
      "6 곱하기 1 은(는) 6\n",
      "6 곱하기 2 은(는) 12\n",
      "6 곱하기 3 은(는) 18\n",
      "6 곱하기 4 은(는) 24\n",
      "6 곱하기 5 은(는) 30\n",
      "6 곱하기 6 은(는) 36\n",
      "6 곱하기 7 은(는) 42\n",
      "6 곱하기 8 은(는) 48\n",
      "6 곱하기 9 은(는) 54\n",
      "7 곱하기 1 은(는) 7\n",
      "7 곱하기 2 은(는) 14\n",
      "7 곱하기 3 은(는) 21\n",
      "7 곱하기 4 은(는) 28\n",
      "7 곱하기 5 은(는) 35\n",
      "7 곱하기 6 은(는) 42\n",
      "7 곱하기 7 은(는) 49\n",
      "7 곱하기 8 은(는) 56\n",
      "7 곱하기 9 은(는) 63\n",
      "8 곱하기 1 은(는) 8\n",
      "8 곱하기 2 은(는) 16\n",
      "8 곱하기 3 은(는) 24\n",
      "8 곱하기 4 은(는) 32\n",
      "8 곱하기 5 은(는) 40\n",
      "8 곱하기 6 은(는) 48\n",
      "8 곱하기 7 은(는) 56\n",
      "8 곱하기 8 은(는) 64\n",
      "8 곱하기 9 은(는) 72\n",
      "9 곱하기 1 은(는) 9\n",
      "9 곱하기 2 은(는) 18\n",
      "9 곱하기 3 은(는) 27\n",
      "9 곱하기 4 은(는) 36\n",
      "9 곱하기 5 은(는) 45\n",
      "9 곱하기 6 은(는) 54\n",
      "9 곱하기 7 은(는) 63\n",
      "9 곱하기 8 은(는) 72\n",
      "9 곱하기 9 은(는) 81\n"
     ]
    }
   ],
   "source": [
    "for i in range(2,10): # i => 0,1,2,3,4\n",
    "    for j in range(1,10): # j => 0,1,2,3,4\n",
    "        print(i,'곱하기',j,'은(는)',i*j)"
   ]
  },
  {
   "cell_type": "code",
   "execution_count": 21,
   "metadata": {},
   "outputs": [
    {
     "data": {
      "text/plain": [
       "[[2, 4, 6, 8, 10, 12, 14, 16, 18],\n",
       " [3, 6, 9, 12, 15, 18, 21, 24, 27],\n",
       " [4, 8, 12, 16, 20, 24, 28, 32, 36],\n",
       " [5, 10, 15, 20, 25, 30, 35, 40, 45],\n",
       " [6, 12, 18, 24, 30, 36, 42, 48, 54],\n",
       " [7, 14, 21, 28, 35, 42, 49, 56, 63],\n",
       " [8, 16, 24, 32, 40, 48, 56, 64, 72],\n",
       " [9, 18, 27, 36, 45, 54, 63, 72, 81]]"
      ]
     },
     "execution_count": 21,
     "metadata": {},
     "output_type": "execute_result"
    }
   ],
   "source": [
    "구구단 = []\n",
    "\n",
    "for i in range(2,10): # i => 2,3,4,5,6,7,8,9\n",
    "    temp = []\n",
    "    for j in range(1,10): # j => 1~9\n",
    "        temp.append(i*j)\n",
    "    구구단.append(temp)\n",
    "    \n",
    "구구단"
   ]
  },
  {
   "cell_type": "code",
   "execution_count": 22,
   "metadata": {},
   "outputs": [
    {
     "data": {
      "text/plain": [
       "[14, 21, 28, 35, 42, 49, 56, 63]"
      ]
     },
     "execution_count": 22,
     "metadata": {},
     "output_type": "execute_result"
    }
   ],
   "source": [
    "# 14,21,28,...,63 열을 뽑아서 리스트를 만드시오\n",
    "l = []\n",
    "for 행 in 구구단:\n",
    "    l.append(행[-3])\n",
    "    \n",
    "l"
   ]
  },
  {
   "cell_type": "code",
   "execution_count": 23,
   "metadata": {},
   "outputs": [
    {
     "data": {
      "text/plain": [
       "range(0, 10)"
      ]
     },
     "execution_count": 23,
     "metadata": {},
     "output_type": "execute_result"
    }
   ],
   "source": [
    "range(10)"
   ]
  },
  {
   "cell_type": "code",
   "execution_count": 24,
   "metadata": {},
   "outputs": [
    {
     "data": {
      "text/plain": [
       "[0, 1, 2, 3, 4, 5, 6, 7, 8, 9]"
      ]
     },
     "execution_count": 24,
     "metadata": {},
     "output_type": "execute_result"
    }
   ],
   "source": [
    "list(range(10))"
   ]
  },
  {
   "cell_type": "code",
   "execution_count": 25,
   "metadata": {
    "scrolled": true
   },
   "outputs": [
    {
     "data": {
      "text/plain": [
       "[1,\n",
       " 3,\n",
       " 5,\n",
       " 7,\n",
       " 9,\n",
       " 11,\n",
       " 13,\n",
       " 15,\n",
       " 17,\n",
       " 19,\n",
       " 21,\n",
       " 23,\n",
       " 25,\n",
       " 27,\n",
       " 29,\n",
       " 31,\n",
       " 33,\n",
       " 35,\n",
       " 37,\n",
       " 39,\n",
       " 41,\n",
       " 43,\n",
       " 45,\n",
       " 47,\n",
       " 49,\n",
       " 51,\n",
       " 53,\n",
       " 55,\n",
       " 57,\n",
       " 59,\n",
       " 61,\n",
       " 63,\n",
       " 65,\n",
       " 67,\n",
       " 69,\n",
       " 71,\n",
       " 73,\n",
       " 75,\n",
       " 77,\n",
       " 79,\n",
       " 81,\n",
       " 83,\n",
       " 85,\n",
       " 87,\n",
       " 89,\n",
       " 91,\n",
       " 93,\n",
       " 95,\n",
       " 97,\n",
       " 99,\n",
       " 101,\n",
       " 103,\n",
       " 105,\n",
       " 107,\n",
       " 109,\n",
       " 111,\n",
       " 113,\n",
       " 115,\n",
       " 117,\n",
       " 119,\n",
       " 121,\n",
       " 123,\n",
       " 125,\n",
       " 127,\n",
       " 129,\n",
       " 131,\n",
       " 133,\n",
       " 135,\n",
       " 137,\n",
       " 139,\n",
       " 141,\n",
       " 143,\n",
       " 145,\n",
       " 147,\n",
       " 149,\n",
       " 151,\n",
       " 153,\n",
       " 155,\n",
       " 157,\n",
       " 159,\n",
       " 161,\n",
       " 163,\n",
       " 165,\n",
       " 167,\n",
       " 169,\n",
       " 171,\n",
       " 173,\n",
       " 175,\n",
       " 177,\n",
       " 179,\n",
       " 181,\n",
       " 183,\n",
       " 185,\n",
       " 187,\n",
       " 189,\n",
       " 191,\n",
       " 193,\n",
       " 195,\n",
       " 197,\n",
       " 199]"
      ]
     },
     "execution_count": 25,
     "metadata": {},
     "output_type": "execute_result"
    }
   ],
   "source": [
    "list(range(1,200,2))"
   ]
  },
  {
   "cell_type": "code",
   "execution_count": 26,
   "metadata": {},
   "outputs": [
    {
     "name": "stdout",
     "output_type": "stream",
     "text": [
      "1 2 3\n",
      "4 5 6\n",
      "7 8 9\n"
     ]
    }
   ],
   "source": [
    "l = [[1,2,3],[4,5,6],[7,8,9]]\n",
    "\n",
    "for i in l:\n",
    "    print(i[0],i[1],i[2])"
   ]
  },
  {
   "cell_type": "code",
   "execution_count": 28,
   "metadata": {},
   "outputs": [
    {
     "name": "stdout",
     "output_type": "stream",
     "text": [
      "1 2 3\n",
      "4 5 6\n",
      "7 8 9\n"
     ]
    }
   ],
   "source": [
    "l = [[1,2,3],[4,5,6],[7,8,9]]\n",
    "\n",
    "for a,b,c in l:\n",
    "    print(a,b,c)"
   ]
  },
  {
   "cell_type": "code",
   "execution_count": 32,
   "metadata": {},
   "outputs": [
    {
     "name": "stdout",
     "output_type": "stream",
     "text": [
      "1\n",
      "2\n",
      "3\n",
      "4\n",
      "5\n",
      "6\n",
      "7\n",
      "8\n",
      "9\n"
     ]
    }
   ],
   "source": [
    "l = [[1,2,3],[4,5,6],[7,8,9]]\n",
    "\n",
    "for line in l:\n",
    "    for num in line:\n",
    "        print(num)"
   ]
  },
  {
   "cell_type": "code",
   "execution_count": 33,
   "metadata": {},
   "outputs": [
    {
     "data": {
      "text/plain": [
       "[0, 2, 4, 6, 8, 10, 12, 14, 16, 18]"
      ]
     },
     "execution_count": 33,
     "metadata": {},
     "output_type": "execute_result"
    }
   ],
   "source": [
    "l = []\n",
    "for i in range(10):\n",
    "    l.append(i*2)\n",
    "    \n",
    "l"
   ]
  },
  {
   "cell_type": "code",
   "execution_count": 34,
   "metadata": {},
   "outputs": [
    {
     "data": {
      "text/plain": [
       "[0, 2, 4, 6, 8, 10, 12, 14, 16, 18]"
      ]
     },
     "execution_count": 34,
     "metadata": {},
     "output_type": "execute_result"
    }
   ],
   "source": [
    "l = [i*2 for i in range(10)]\n",
    "l"
   ]
  },
  {
   "cell_type": "code",
   "execution_count": 37,
   "metadata": {
    "scrolled": true
   },
   "outputs": [
    {
     "data": {
      "text/plain": [
       "[0,\n",
       " 3,\n",
       " 6,\n",
       " 9,\n",
       " 12,\n",
       " 15,\n",
       " 18,\n",
       " 21,\n",
       " 24,\n",
       " 27,\n",
       " 30,\n",
       " 33,\n",
       " 36,\n",
       " 39,\n",
       " 42,\n",
       " 45,\n",
       " 48,\n",
       " 51,\n",
       " 54,\n",
       " 57,\n",
       " 60,\n",
       " 63,\n",
       " 66,\n",
       " 69,\n",
       " 72,\n",
       " 75,\n",
       " 78,\n",
       " 81,\n",
       " 84,\n",
       " 87,\n",
       " 90,\n",
       " 93,\n",
       " 96,\n",
       " 99]"
      ]
     },
     "execution_count": 37,
     "metadata": {},
     "output_type": "execute_result"
    }
   ],
   "source": [
    "l = []\n",
    "for i in range(100):\n",
    "    if i%3==0:\n",
    "        l.append(i)\n",
    "        \n",
    "l"
   ]
  },
  {
   "cell_type": "code",
   "execution_count": 40,
   "metadata": {
    "scrolled": true
   },
   "outputs": [
    {
     "data": {
      "text/plain": [
       "[0,\n",
       " -1,\n",
       " -1,\n",
       " 3,\n",
       " -1,\n",
       " -1,\n",
       " 6,\n",
       " -1,\n",
       " -1,\n",
       " 9,\n",
       " -1,\n",
       " -1,\n",
       " 12,\n",
       " -1,\n",
       " -1,\n",
       " 15,\n",
       " -1,\n",
       " -1,\n",
       " 18,\n",
       " -1,\n",
       " -1,\n",
       " 21,\n",
       " -1,\n",
       " -1,\n",
       " 24,\n",
       " -1,\n",
       " -1,\n",
       " 27,\n",
       " -1,\n",
       " -1,\n",
       " 30,\n",
       " -1,\n",
       " -1,\n",
       " 33,\n",
       " -1,\n",
       " -1,\n",
       " 36,\n",
       " -1,\n",
       " -1,\n",
       " 39,\n",
       " -1,\n",
       " -1,\n",
       " 42,\n",
       " -1,\n",
       " -1,\n",
       " 45,\n",
       " -1,\n",
       " -1,\n",
       " 48,\n",
       " -1,\n",
       " -1,\n",
       " 51,\n",
       " -1,\n",
       " -1,\n",
       " 54,\n",
       " -1,\n",
       " -1,\n",
       " 57,\n",
       " -1,\n",
       " -1,\n",
       " 60,\n",
       " -1,\n",
       " -1,\n",
       " 63,\n",
       " -1,\n",
       " -1,\n",
       " 66,\n",
       " -1,\n",
       " -1,\n",
       " 69,\n",
       " -1,\n",
       " -1,\n",
       " 72,\n",
       " -1,\n",
       " -1,\n",
       " 75,\n",
       " -1,\n",
       " -1,\n",
       " 78,\n",
       " -1,\n",
       " -1,\n",
       " 81,\n",
       " -1,\n",
       " -1,\n",
       " 84,\n",
       " -1,\n",
       " -1,\n",
       " 87,\n",
       " -1,\n",
       " -1,\n",
       " 90,\n",
       " -1,\n",
       " -1,\n",
       " 93,\n",
       " -1,\n",
       " -1,\n",
       " 96,\n",
       " -1,\n",
       " -1,\n",
       " 99]"
      ]
     },
     "execution_count": 40,
     "metadata": {},
     "output_type": "execute_result"
    }
   ],
   "source": [
    "l = [(i if i%3==0 else -1) for i in range(100)]\n",
    "l"
   ]
  },
  {
   "cell_type": "code",
   "execution_count": null,
   "metadata": {},
   "outputs": [],
   "source": [
    "n = 77\n",
    "m = 1 if n>0 else -1"
   ]
  },
  {
   "cell_type": "code",
   "execution_count": null,
   "metadata": {},
   "outputs": [],
   "source": []
  },
  {
   "cell_type": "code",
   "execution_count": 43,
   "metadata": {},
   "outputs": [],
   "source": [
    "def myadd(n1,n2):\n",
    "    result = n1+n2\n",
    "    return result"
   ]
  },
  {
   "cell_type": "code",
   "execution_count": 45,
   "metadata": {},
   "outputs": [
    {
     "name": "stdout",
     "output_type": "stream",
     "text": [
      "3\n"
     ]
    }
   ],
   "source": [
    "n = myadd(1,2)\n",
    "print(n)"
   ]
  },
  {
   "cell_type": "code",
   "execution_count": 46,
   "metadata": {},
   "outputs": [
    {
     "data": {
      "text/plain": [
       "'12'"
      ]
     },
     "execution_count": 46,
     "metadata": {},
     "output_type": "execute_result"
    }
   ],
   "source": [
    "myadd('1','2')"
   ]
  },
  {
   "cell_type": "markdown",
   "metadata": {},
   "source": [
    "### 7일차"
   ]
  },
  {
   "cell_type": "markdown",
   "metadata": {},
   "source": [
    "### 연습문제 (20200714)\n",
    "```\n",
    "mat[i][j] 의 값이 i*j 가 되도록 리스트 mat를 만드시오.\n",
    "- i 와 j 는 0~9 의 값을 가진다.\n",
    "- 10분간\n",
    "- 리스트 내포를 이용해서도 구해보세요.\n",
    "- 5번째 열을 뽑아 리스트로 만들어 보세요.\n",
    "```"
   ]
  },
  {
   "cell_type": "code",
   "execution_count": 2,
   "metadata": {},
   "outputs": [
    {
     "data": {
      "text/plain": [
       "[[0, 0, 0, 0, 0, 0, 0, 0, 0, 0],\n",
       " [0, 1, 2, 3, 4, 5, 6, 7, 8, 9],\n",
       " [0, 2, 4, 6, 8, 10, 12, 14, 16, 18],\n",
       " [0, 3, 6, 9, 12, 15, 18, 21, 24, 27],\n",
       " [0, 4, 8, 12, 16, 20, 24, 28, 32, 36],\n",
       " [0, 5, 10, 15, 20, 25, 30, 35, 40, 45],\n",
       " [0, 6, 12, 18, 24, 30, 36, 42, 48, 54],\n",
       " [0, 7, 14, 21, 28, 35, 42, 49, 56, 63],\n",
       " [0, 8, 16, 24, 32, 40, 48, 56, 64, 72],\n",
       " [0, 9, 18, 27, 36, 45, 54, 63, 72, 81]]"
      ]
     },
     "execution_count": 2,
     "metadata": {},
     "output_type": "execute_result"
    }
   ],
   "source": [
    "mat = []\n",
    "for i in range(10):\n",
    "    temp = []\n",
    "    for j in range(10):\n",
    "        temp.append(i*j)\n",
    "    mat.append(temp)\n",
    "    \n",
    "mat"
   ]
  },
  {
   "cell_type": "code",
   "execution_count": 3,
   "metadata": {},
   "outputs": [
    {
     "data": {
      "text/plain": [
       "15"
      ]
     },
     "execution_count": 3,
     "metadata": {},
     "output_type": "execute_result"
    }
   ],
   "source": [
    "mat[5][3]"
   ]
  },
  {
   "cell_type": "code",
   "execution_count": 1,
   "metadata": {},
   "outputs": [
    {
     "data": {
      "text/plain": [
       "[[0, 0, 0, 0, 0, 0, 0, 0, 0, 0],\n",
       " [0, 1, 2, 3, 4, 5, 6, 7, 8, 9],\n",
       " [0, 2, 4, 6, 8, 10, 12, 14, 16, 18],\n",
       " [0, 3, 6, 9, 12, 15, 18, 21, 24, 27],\n",
       " [0, 4, 8, 12, 16, 20, 24, 28, 32, 36],\n",
       " [0, 5, 10, 15, 20, 25, 30, 35, 40, 45],\n",
       " [0, 6, 12, 18, 24, 30, 36, 42, 48, 54],\n",
       " [0, 7, 14, 21, 28, 35, 42, 49, 56, 63],\n",
       " [0, 8, 16, 24, 32, 40, 48, 56, 64, 72],\n",
       " [0, 9, 18, 27, 36, 45, 54, 63, 72, 81]]"
      ]
     },
     "execution_count": 1,
     "metadata": {},
     "output_type": "execute_result"
    }
   ],
   "source": [
    "mat = [[i*j for j in range(10)] for i in range(10)]\n",
    "mat"
   ]
  },
  {
   "cell_type": "code",
   "execution_count": 4,
   "metadata": {},
   "outputs": [
    {
     "data": {
      "text/plain": [
       "[0, 4, 8, 12, 16, 20, 24, 28, 32, 36]"
      ]
     },
     "execution_count": 4,
     "metadata": {},
     "output_type": "execute_result"
    }
   ],
   "source": [
    "fifth = [line[4] for line in mat]\n",
    "fifth"
   ]
  },
  {
   "cell_type": "code",
   "execution_count": 5,
   "metadata": {},
   "outputs": [
    {
     "name": "stdout",
     "output_type": "stream",
     "text": [
      "Help on built-in function print in module builtins:\n",
      "\n",
      "print(...)\n",
      "    print(value, ..., sep=' ', end='\\n', file=sys.stdout, flush=False)\n",
      "    \n",
      "    Prints the values to a stream, or to sys.stdout by default.\n",
      "    Optional keyword arguments:\n",
      "    file:  a file-like object (stream); defaults to the current sys.stdout.\n",
      "    sep:   string inserted between values, default a space.\n",
      "    end:   string appended after the last value, default a newline.\n",
      "    flush: whether to forcibly flush the stream.\n",
      "\n"
     ]
    }
   ],
   "source": [
    "help(print)"
   ]
  },
  {
   "cell_type": "code",
   "execution_count": 7,
   "metadata": {},
   "outputs": [
    {
     "name": "stdout",
     "output_type": "stream",
     "text": [
      "kingkong3\n",
      "> kingkong3\n"
     ]
    }
   ],
   "source": [
    "s = input()\n",
    "print('>',s)"
   ]
  },
  {
   "cell_type": "code",
   "execution_count": 8,
   "metadata": {},
   "outputs": [],
   "source": [
    "f = open('안녕.txt')"
   ]
  },
  {
   "cell_type": "code",
   "execution_count": 9,
   "metadata": {
    "scrolled": true
   },
   "outputs": [
    {
     "data": {
      "text/plain": [
       "'안녕하세요\\n반가워요~'"
      ]
     },
     "execution_count": 9,
     "metadata": {},
     "output_type": "execute_result"
    }
   ],
   "source": [
    "f.read()"
   ]
  },
  {
   "cell_type": "code",
   "execution_count": 10,
   "metadata": {},
   "outputs": [],
   "source": [
    "f.close()"
   ]
  },
  {
   "cell_type": "code",
   "execution_count": null,
   "metadata": {},
   "outputs": [],
   "source": []
  },
  {
   "cell_type": "code",
   "execution_count": 19,
   "metadata": {},
   "outputs": [],
   "source": [
    "f = open('안녕.txt')"
   ]
  },
  {
   "cell_type": "code",
   "execution_count": 20,
   "metadata": {},
   "outputs": [
    {
     "name": "stdout",
     "output_type": "stream",
     "text": [
      "#안녕하세요#\n",
      "#반가워요~#\n"
     ]
    }
   ],
   "source": [
    "for line in f:\n",
    "    print('#' + line.strip() + '#')"
   ]
  },
  {
   "cell_type": "code",
   "execution_count": 21,
   "metadata": {},
   "outputs": [],
   "source": [
    "f.close()"
   ]
  },
  {
   "cell_type": "code",
   "execution_count": null,
   "metadata": {},
   "outputs": [],
   "source": []
  },
  {
   "cell_type": "code",
   "execution_count": 42,
   "metadata": {},
   "outputs": [],
   "source": [
    "f = open('안녕.txt')"
   ]
  },
  {
   "cell_type": "code",
   "execution_count": 43,
   "metadata": {},
   "outputs": [
    {
     "name": "stdout",
     "output_type": "stream",
     "text": [
      "['안녕하세요\\n', '반가워요~']\n"
     ]
    }
   ],
   "source": [
    "s = f.readlines() # 개행문자도 읽는다\n",
    "print(s)"
   ]
  },
  {
   "cell_type": "code",
   "execution_count": 41,
   "metadata": {},
   "outputs": [],
   "source": [
    "f.close()"
   ]
  },
  {
   "cell_type": "code",
   "execution_count": 46,
   "metadata": {},
   "outputs": [
    {
     "name": "stdout",
     "output_type": "stream",
     "text": [
      "> 안녕하세요\n",
      "> 반가워요~\n"
     ]
    }
   ],
   "source": [
    "with open('안녕.txt') as f:\n",
    "    for line in f:\n",
    "        print('>', line.strip())"
   ]
  },
  {
   "cell_type": "markdown",
   "metadata": {},
   "source": [
    "### 파이썬 기본 라이브러리(모듈)"
   ]
  },
  {
   "cell_type": "code",
   "execution_count": 48,
   "metadata": {},
   "outputs": [],
   "source": [
    "import os"
   ]
  },
  {
   "cell_type": "code",
   "execution_count": 49,
   "metadata": {},
   "outputs": [
    {
     "data": {
      "text/plain": [
       "'D:\\\\python12'"
      ]
     },
     "execution_count": 49,
     "metadata": {},
     "output_type": "execute_result"
    }
   ],
   "source": [
    "os.getcwd()"
   ]
  },
  {
   "cell_type": "code",
   "execution_count": 50,
   "metadata": {},
   "outputs": [],
   "source": [
    "import math"
   ]
  },
  {
   "cell_type": "code",
   "execution_count": 51,
   "metadata": {},
   "outputs": [
    {
     "data": {
      "text/plain": [
       "0.8414709848078965"
      ]
     },
     "execution_count": 51,
     "metadata": {},
     "output_type": "execute_result"
    }
   ],
   "source": [
    "math.sin(1)"
   ]
  },
  {
   "cell_type": "code",
   "execution_count": 52,
   "metadata": {},
   "outputs": [
    {
     "data": {
      "text/plain": [
       "1.2246467991473532e-16"
      ]
     },
     "execution_count": 52,
     "metadata": {},
     "output_type": "execute_result"
    }
   ],
   "source": [
    "math.sin(math.pi)"
   ]
  },
  {
   "cell_type": "markdown",
   "metadata": {},
   "source": [
    "### 데이터 파일 읽어오기\n",
    "- 웹에서 다운받은 'username.csv'"
   ]
  },
  {
   "cell_type": "code",
   "execution_count": null,
   "metadata": {},
   "outputs": [],
   "source": [
    "'''\n",
    "1. 파일을 한줄씩 읽는다\n",
    "2. 한줄을 분리하여 리스트에 넣는다\n",
    "3. 리스트를 큰 리스트에 넣는다\n",
    "'''"
   ]
  },
  {
   "cell_type": "code",
   "execution_count": 58,
   "metadata": {},
   "outputs": [
    {
     "data": {
      "text/plain": [
       "[['booker12', '9012', 'Rachel', 'Booker'],\n",
       " ['grey07', '2070', 'Laura', 'Grey'],\n",
       " ['johnson81', '4081', 'Craig', 'Johnson'],\n",
       " ['jenkins46', '9346', 'Mary', 'Jenkins'],\n",
       " ['smith79', '5079', 'Jamie', 'Smith']]"
      ]
     },
     "execution_count": 58,
     "metadata": {},
     "output_type": "execute_result"
    }
   ],
   "source": [
    "data = []\n",
    "\n",
    "f = open('username.csv')\n",
    "s = f.readline()\n",
    "header = s.strip().split(';')\n",
    "\n",
    "for line in f:\n",
    "    l = line.strip().split(';')\n",
    "    if len(l)==4: data.append(l)\n",
    "    \n",
    "f.close()\n",
    "\n",
    "data"
   ]
  },
  {
   "cell_type": "code",
   "execution_count": 59,
   "metadata": {},
   "outputs": [
    {
     "data": {
      "text/plain": [
       "['Username', ' Identifier', 'First name', 'Last name']"
      ]
     },
     "execution_count": 59,
     "metadata": {},
     "output_type": "execute_result"
    }
   ],
   "source": [
    "header"
   ]
  },
  {
   "cell_type": "markdown",
   "metadata": {},
   "source": [
    "### iris 읽어오기"
   ]
  },
  {
   "cell_type": "code",
   "execution_count": 67,
   "metadata": {},
   "outputs": [
    {
     "data": {
      "text/plain": [
       "[[5.1, 3.5, 1.4, 0.2, 0.0],\n",
       " [4.9, 3.0, 1.4, 0.2, 0.0],\n",
       " [4.7, 3.2, 1.3, 0.2, 0.0],\n",
       " [4.6, 3.1, 1.5, 0.2, 0.0],\n",
       " [5.0, 3.6, 1.4, 0.2, 0.0],\n",
       " [5.4, 3.9, 1.7, 0.4, 0.0],\n",
       " [4.6, 3.4, 1.4, 0.3, 0.0],\n",
       " [5.0, 3.4, 1.5, 0.2, 0.0],\n",
       " [4.4, 2.9, 1.4, 0.2, 0.0],\n",
       " [4.9, 3.1, 1.5, 0.1, 0.0],\n",
       " [5.4, 3.7, 1.5, 0.2, 0.0],\n",
       " [4.8, 3.4, 1.6, 0.2, 0.0],\n",
       " [4.8, 3.0, 1.4, 0.1, 0.0],\n",
       " [4.3, 3.0, 1.1, 0.1, 0.0],\n",
       " [5.8, 4.0, 1.2, 0.2, 0.0],\n",
       " [5.7, 4.4, 1.5, 0.4, 0.0],\n",
       " [5.4, 3.9, 1.3, 0.4, 0.0],\n",
       " [5.1, 3.5, 1.4, 0.3, 0.0],\n",
       " [5.7, 3.8, 1.7, 0.3, 0.0],\n",
       " [5.1, 3.8, 1.5, 0.3, 0.0],\n",
       " [5.4, 3.4, 1.7, 0.2, 0.0],\n",
       " [5.1, 3.7, 1.5, 0.4, 0.0],\n",
       " [4.6, 3.6, 1.0, 0.2, 0.0],\n",
       " [5.1, 3.3, 1.7, 0.5, 0.0],\n",
       " [4.8, 3.4, 1.9, 0.2, 0.0],\n",
       " [5.0, 3.0, 1.6, 0.2, 0.0],\n",
       " [5.0, 3.4, 1.6, 0.4, 0.0],\n",
       " [5.2, 3.5, 1.5, 0.2, 0.0],\n",
       " [5.2, 3.4, 1.4, 0.2, 0.0],\n",
       " [4.7, 3.2, 1.6, 0.2, 0.0],\n",
       " [4.8, 3.1, 1.6, 0.2, 0.0],\n",
       " [5.4, 3.4, 1.5, 0.4, 0.0],\n",
       " [5.2, 4.1, 1.5, 0.1, 0.0],\n",
       " [5.5, 4.2, 1.4, 0.2, 0.0],\n",
       " [4.9, 3.1, 1.5, 0.1, 0.0],\n",
       " [5.0, 3.2, 1.2, 0.2, 0.0],\n",
       " [5.5, 3.5, 1.3, 0.2, 0.0],\n",
       " [4.9, 3.1, 1.5, 0.1, 0.0],\n",
       " [4.4, 3.0, 1.3, 0.2, 0.0],\n",
       " [5.1, 3.4, 1.5, 0.2, 0.0],\n",
       " [5.0, 3.5, 1.3, 0.3, 0.0],\n",
       " [4.5, 2.3, 1.3, 0.3, 0.0],\n",
       " [4.4, 3.2, 1.3, 0.2, 0.0],\n",
       " [5.0, 3.5, 1.6, 0.6, 0.0],\n",
       " [5.1, 3.8, 1.9, 0.4, 0.0],\n",
       " [4.8, 3.0, 1.4, 0.3, 0.0],\n",
       " [5.1, 3.8, 1.6, 0.2, 0.0],\n",
       " [4.6, 3.2, 1.4, 0.2, 0.0],\n",
       " [5.3, 3.7, 1.5, 0.2, 0.0],\n",
       " [5.0, 3.3, 1.4, 0.2, 0.0],\n",
       " [7.0, 3.2, 4.7, 1.4, 1.0],\n",
       " [6.4, 3.2, 4.5, 1.5, 1.0],\n",
       " [6.9, 3.1, 4.9, 1.5, 1.0],\n",
       " [5.5, 2.3, 4.0, 1.3, 1.0],\n",
       " [6.5, 2.8, 4.6, 1.5, 1.0],\n",
       " [5.7, 2.8, 4.5, 1.3, 1.0],\n",
       " [6.3, 3.3, 4.7, 1.6, 1.0],\n",
       " [4.9, 2.4, 3.3, 1.0, 1.0],\n",
       " [6.6, 2.9, 4.6, 1.3, 1.0],\n",
       " [5.2, 2.7, 3.9, 1.4, 1.0],\n",
       " [5.0, 2.0, 3.5, 1.0, 1.0],\n",
       " [5.9, 3.0, 4.2, 1.5, 1.0],\n",
       " [6.0, 2.2, 4.0, 1.0, 1.0],\n",
       " [6.1, 2.9, 4.7, 1.4, 1.0],\n",
       " [5.6, 2.9, 3.6, 1.3, 1.0],\n",
       " [6.7, 3.1, 4.4, 1.4, 1.0],\n",
       " [5.6, 3.0, 4.5, 1.5, 1.0],\n",
       " [5.8, 2.7, 4.1, 1.0, 1.0],\n",
       " [6.2, 2.2, 4.5, 1.5, 1.0],\n",
       " [5.6, 2.5, 3.9, 1.1, 1.0],\n",
       " [5.9, 3.2, 4.8, 1.8, 1.0],\n",
       " [6.1, 2.8, 4.0, 1.3, 1.0],\n",
       " [6.3, 2.5, 4.9, 1.5, 1.0],\n",
       " [6.1, 2.8, 4.7, 1.2, 1.0],\n",
       " [6.4, 2.9, 4.3, 1.3, 1.0],\n",
       " [6.6, 3.0, 4.4, 1.4, 1.0],\n",
       " [6.8, 2.8, 4.8, 1.4, 1.0],\n",
       " [6.7, 3.0, 5.0, 1.7, 1.0],\n",
       " [6.0, 2.9, 4.5, 1.5, 1.0],\n",
       " [5.7, 2.6, 3.5, 1.0, 1.0],\n",
       " [5.5, 2.4, 3.8, 1.1, 1.0],\n",
       " [5.5, 2.4, 3.7, 1.0, 1.0],\n",
       " [5.8, 2.7, 3.9, 1.2, 1.0],\n",
       " [6.0, 2.7, 5.1, 1.6, 1.0],\n",
       " [5.4, 3.0, 4.5, 1.5, 1.0],\n",
       " [6.0, 3.4, 4.5, 1.6, 1.0],\n",
       " [6.7, 3.1, 4.7, 1.5, 1.0],\n",
       " [6.3, 2.3, 4.4, 1.3, 1.0],\n",
       " [5.6, 3.0, 4.1, 1.3, 1.0],\n",
       " [5.5, 2.5, 4.0, 1.3, 1.0],\n",
       " [5.5, 2.6, 4.4, 1.2, 1.0],\n",
       " [6.1, 3.0, 4.6, 1.4, 1.0],\n",
       " [5.8, 2.6, 4.0, 1.2, 1.0],\n",
       " [5.0, 2.3, 3.3, 1.0, 1.0],\n",
       " [5.6, 2.7, 4.2, 1.3, 1.0],\n",
       " [5.7, 3.0, 4.2, 1.2, 1.0],\n",
       " [5.7, 2.9, 4.2, 1.3, 1.0],\n",
       " [6.2, 2.9, 4.3, 1.3, 1.0],\n",
       " [5.1, 2.5, 3.0, 1.1, 1.0],\n",
       " [5.7, 2.8, 4.1, 1.3, 1.0],\n",
       " [6.3, 3.3, 6.0, 2.5, 2.0],\n",
       " [5.8, 2.7, 5.1, 1.9, 2.0],\n",
       " [7.1, 3.0, 5.9, 2.1, 2.0],\n",
       " [6.3, 2.9, 5.6, 1.8, 2.0],\n",
       " [6.5, 3.0, 5.8, 2.2, 2.0],\n",
       " [7.6, 3.0, 6.6, 2.1, 2.0],\n",
       " [4.9, 2.5, 4.5, 1.7, 2.0],\n",
       " [7.3, 2.9, 6.3, 1.8, 2.0],\n",
       " [6.7, 2.5, 5.8, 1.8, 2.0],\n",
       " [7.2, 3.6, 6.1, 2.5, 2.0],\n",
       " [6.5, 3.2, 5.1, 2.0, 2.0],\n",
       " [6.4, 2.7, 5.3, 1.9, 2.0],\n",
       " [6.8, 3.0, 5.5, 2.1, 2.0],\n",
       " [5.7, 2.5, 5.0, 2.0, 2.0],\n",
       " [5.8, 2.8, 5.1, 2.4, 2.0],\n",
       " [6.4, 3.2, 5.3, 2.3, 2.0],\n",
       " [6.5, 3.0, 5.5, 1.8, 2.0],\n",
       " [7.7, 3.8, 6.7, 2.2, 2.0],\n",
       " [7.7, 2.6, 6.9, 2.3, 2.0],\n",
       " [6.0, 2.2, 5.0, 1.5, 2.0],\n",
       " [6.9, 3.2, 5.7, 2.3, 2.0],\n",
       " [5.6, 2.8, 4.9, 2.0, 2.0],\n",
       " [7.7, 2.8, 6.7, 2.0, 2.0],\n",
       " [6.3, 2.7, 4.9, 1.8, 2.0],\n",
       " [6.7, 3.3, 5.7, 2.1, 2.0],\n",
       " [7.2, 3.2, 6.0, 1.8, 2.0],\n",
       " [6.2, 2.8, 4.8, 1.8, 2.0],\n",
       " [6.1, 3.0, 4.9, 1.8, 2.0],\n",
       " [6.4, 2.8, 5.6, 2.1, 2.0],\n",
       " [7.2, 3.0, 5.8, 1.6, 2.0],\n",
       " [7.4, 2.8, 6.1, 1.9, 2.0],\n",
       " [7.9, 3.8, 6.4, 2.0, 2.0],\n",
       " [6.4, 2.8, 5.6, 2.2, 2.0],\n",
       " [6.3, 2.8, 5.1, 1.5, 2.0],\n",
       " [6.1, 2.6, 5.6, 1.4, 2.0],\n",
       " [7.7, 3.0, 6.1, 2.3, 2.0],\n",
       " [6.3, 3.4, 5.6, 2.4, 2.0],\n",
       " [6.4, 3.1, 5.5, 1.8, 2.0],\n",
       " [6.0, 3.0, 4.8, 1.8, 2.0],\n",
       " [6.9, 3.1, 5.4, 2.1, 2.0],\n",
       " [6.7, 3.1, 5.6, 2.4, 2.0],\n",
       " [6.9, 3.1, 5.1, 2.3, 2.0],\n",
       " [5.8, 2.7, 5.1, 1.9, 2.0],\n",
       " [6.8, 3.2, 5.9, 2.3, 2.0],\n",
       " [6.7, 3.3, 5.7, 2.5, 2.0],\n",
       " [6.7, 3.0, 5.2, 2.3, 2.0],\n",
       " [6.3, 2.5, 5.0, 1.9, 2.0],\n",
       " [6.5, 3.0, 5.2, 2.0, 2.0],\n",
       " [6.2, 3.4, 5.4, 2.3, 2.0],\n",
       " [5.9, 3.0, 5.1, 1.8, 2.0]]"
      ]
     },
     "execution_count": 67,
     "metadata": {},
     "output_type": "execute_result"
    }
   ],
   "source": [
    "iris = []\n",
    "\n",
    "f = open('iris.csv')\n",
    "s = f.readline()\n",
    "header = s.strip().split(',')\n",
    "\n",
    "spec = ['Iris-setosa', 'Iris-versicolor', 'Iris-virginica']\n",
    "\n",
    "for line in f:\n",
    "    l = line.strip().split(',')\n",
    "    l = [float(i) for i in l[:4]] + [float(spec.index(l[4]))]\n",
    "    iris.append(l)\n",
    "    \n",
    "f.close()\n",
    "\n",
    "iris"
   ]
  },
  {
   "cell_type": "code",
   "execution_count": 62,
   "metadata": {},
   "outputs": [
    {
     "data": {
      "text/plain": [
       "['SepalLength', 'SepalWidth', 'PetalLength', 'PetalWidth', 'Name']"
      ]
     },
     "execution_count": 62,
     "metadata": {},
     "output_type": "execute_result"
    }
   ],
   "source": [
    "header"
   ]
  },
  {
   "cell_type": "code",
   "execution_count": 63,
   "metadata": {},
   "outputs": [
    {
     "data": {
      "text/plain": [
       "150"
      ]
     },
     "execution_count": 63,
     "metadata": {},
     "output_type": "execute_result"
    }
   ],
   "source": [
    "len(iris)"
   ]
  },
  {
   "cell_type": "code",
   "execution_count": 64,
   "metadata": {},
   "outputs": [
    {
     "data": {
      "text/plain": [
       "5"
      ]
     },
     "execution_count": 64,
     "metadata": {},
     "output_type": "execute_result"
    }
   ],
   "source": [
    "len(iris[0])"
   ]
  },
  {
   "cell_type": "code",
   "execution_count": 68,
   "metadata": {},
   "outputs": [],
   "source": [
    "import math"
   ]
  },
  {
   "cell_type": "code",
   "execution_count": 69,
   "metadata": {},
   "outputs": [
    {
     "data": {
      "text/plain": [
       "1.4142135623730951"
      ]
     },
     "execution_count": 69,
     "metadata": {},
     "output_type": "execute_result"
    }
   ],
   "source": [
    "math.sqrt(2)"
   ]
  },
  {
   "cell_type": "code",
   "execution_count": 70,
   "metadata": {},
   "outputs": [
    {
     "data": {
      "text/plain": [
       "1.7724538509055159"
      ]
     },
     "execution_count": 70,
     "metadata": {},
     "output_type": "execute_result"
    }
   ],
   "source": [
    "math.sqrt(math.pi)"
   ]
  },
  {
   "cell_type": "code",
   "execution_count": 71,
   "metadata": {},
   "outputs": [],
   "source": [
    "from math import sqrt, pi"
   ]
  },
  {
   "cell_type": "code",
   "execution_count": 72,
   "metadata": {},
   "outputs": [
    {
     "data": {
      "text/plain": [
       "1.4142135623730951"
      ]
     },
     "execution_count": 72,
     "metadata": {},
     "output_type": "execute_result"
    }
   ],
   "source": [
    "sqrt(2)"
   ]
  },
  {
   "cell_type": "code",
   "execution_count": 73,
   "metadata": {},
   "outputs": [
    {
     "data": {
      "text/plain": [
       "1.7724538509055159"
      ]
     },
     "execution_count": 73,
     "metadata": {},
     "output_type": "execute_result"
    }
   ],
   "source": [
    "sqrt(pi)"
   ]
  },
  {
   "cell_type": "code",
   "execution_count": 76,
   "metadata": {},
   "outputs": [],
   "source": [
    "# my_module.py\n",
    "#import my_module"
   ]
  }
 ],
 "metadata": {
  "kernelspec": {
   "display_name": "Python 3",
   "language": "python",
   "name": "python3"
  },
  "language_info": {
   "codemirror_mode": {
    "name": "ipython",
    "version": 3
   },
   "file_extension": ".py",
   "mimetype": "text/x-python",
   "name": "python",
   "nbconvert_exporter": "python",
   "pygments_lexer": "ipython3",
   "version": "3.6.4"
  }
 },
 "nbformat": 4,
 "nbformat_minor": 2
}
