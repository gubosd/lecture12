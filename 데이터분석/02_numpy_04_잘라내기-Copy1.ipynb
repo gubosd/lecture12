{
 "cells": [
  {
   "cell_type": "markdown",
   "metadata": {},
   "source": [
    "## 파이썬 데이터분석\n",
    "# Numpy 어레이(array) 마음대로 잘라내기"
   ]
  },
  {
   "cell_type": "code",
   "execution_count": 1,
   "metadata": {},
   "outputs": [],
   "source": [
    "import numpy as np\n",
    "import matplotlib.pyplot as plt"
   ]
  },
  {
   "cell_type": "code",
   "execution_count": 2,
   "metadata": {},
   "outputs": [],
   "source": [
    "iris = np.loadtxt('iris.csv', delimiter=',', skiprows=1, usecols=[0,1,2,3])"
   ]
  },
  {
   "cell_type": "code",
   "execution_count": 3,
   "metadata": {},
   "outputs": [
    {
     "data": {
      "text/plain": [
       "((150, 4), dtype('float64'))"
      ]
     },
     "execution_count": 3,
     "metadata": {},
     "output_type": "execute_result"
    }
   ],
   "source": [
    "iris.shape, iris.dtype"
   ]
  },
  {
   "cell_type": "code",
   "execution_count": 39,
   "metadata": {},
   "outputs": [
    {
     "data": {
      "text/plain": [
       "array([0., 0., 0., 0., 0., 0., 0., 0., 0., 0., 0., 0., 0., 0., 0., 0., 0.,\n",
       "       0., 0., 0., 0., 0., 0., 0., 0., 0., 0., 0., 0., 0., 0., 0., 0., 0.,\n",
       "       0., 0., 0., 0., 0., 0., 0., 0., 0., 0., 0., 0., 0., 0., 0., 0., 1.,\n",
       "       1., 1., 1., 1., 1., 1., 1., 1., 1., 1., 1., 1., 1., 1., 1., 1., 1.,\n",
       "       1., 1., 1., 1., 1., 1., 1., 1., 1., 1., 1., 1., 1., 1., 1., 1., 1.,\n",
       "       1., 1., 1., 1., 1., 1., 1., 1., 1., 1., 1., 1., 1., 1., 1., 2., 2.,\n",
       "       2., 2., 2., 2., 2., 2., 2., 2., 2., 2., 2., 2., 2., 2., 2., 2., 2.,\n",
       "       2., 2., 2., 2., 2., 2., 2., 2., 2., 2., 2., 2., 2., 2., 2., 2., 2.,\n",
       "       2., 2., 2., 2., 2., 2., 2., 2., 2., 2., 2., 2., 2., 2.])"
      ]
     },
     "execution_count": 39,
     "metadata": {},
     "output_type": "execute_result"
    }
   ],
   "source": [
    "# y = np.array([0]*50 + [1]*50 + [2]*50)\n",
    "y = np.zeros(150)\n",
    "y[50:100] = 1\n",
    "y[100:] = 2\n",
    "y"
   ]
  },
  {
   "cell_type": "code",
   "execution_count": 2,
   "metadata": {
    "scrolled": true
   },
   "outputs": [
    {
     "name": "stdout",
     "output_type": "stream",
     "text": [
      "Help on function loadtxt in module numpy.lib.npyio:\n",
      "\n",
      "loadtxt(fname, dtype=<class 'float'>, comments='#', delimiter=None, converters=None, skiprows=0, usecols=None, unpack=False, ndmin=0, encoding='bytes')\n",
      "    Load data from a text file.\n",
      "    \n",
      "    Each row in the text file must have the same number of values.\n",
      "    \n",
      "    Parameters\n",
      "    ----------\n",
      "    fname : file, str, or pathlib.Path\n",
      "        File, filename, or generator to read.  If the filename extension is\n",
      "        ``.gz`` or ``.bz2``, the file is first decompressed. Note that\n",
      "        generators should return byte strings for Python 3k.\n",
      "    dtype : data-type, optional\n",
      "        Data-type of the resulting array; default: float.  If this is a\n",
      "        structured data-type, the resulting array will be 1-dimensional, and\n",
      "        each row will be interpreted as an element of the array.  In this\n",
      "        case, the number of columns used must match the number of fields in\n",
      "        the data-type.\n",
      "    comments : str or sequence of str, optional\n",
      "        The characters or list of characters used to indicate the start of a\n",
      "        comment. For backwards compatibility, byte strings will be decoded as\n",
      "        'latin1'. The default is '#'.\n",
      "    delimiter : str, optional\n",
      "        The string used to separate values. For backwards compatibility, byte\n",
      "        strings will be decoded as 'latin1'. The default is whitespace.\n",
      "    converters : dict, optional\n",
      "        A dictionary mapping column number to a function that will convert\n",
      "        that column to a float.  E.g., if column 0 is a date string:\n",
      "        ``converters = {0: datestr2num}``.  Converters can also be used to\n",
      "        provide a default value for missing data (but see also `genfromtxt`):\n",
      "        ``converters = {3: lambda s: float(s.strip() or 0)}``.  Default: None.\n",
      "    skiprows : int, optional\n",
      "        Skip the first `skiprows` lines; default: 0.\n",
      "    usecols : int or sequence, optional\n",
      "        Which columns to read, with 0 being the first. For example,\n",
      "        usecols = (1,4,5) will extract the 2nd, 5th and 6th columns.\n",
      "        The default, None, results in all columns being read.\n",
      "    \n",
      "        .. versionchanged:: 1.11.0\n",
      "            When a single column has to be read it is possible to use\n",
      "            an integer instead of a tuple. E.g ``usecols = 3`` reads the\n",
      "            fourth column the same way as `usecols = (3,)`` would.\n",
      "    unpack : bool, optional\n",
      "        If True, the returned array is transposed, so that arguments may be\n",
      "        unpacked using ``x, y, z = loadtxt(...)``.  When used with a structured\n",
      "        data-type, arrays are returned for each field.  Default is False.\n",
      "    ndmin : int, optional\n",
      "        The returned array will have at least `ndmin` dimensions.\n",
      "        Otherwise mono-dimensional axes will be squeezed.\n",
      "        Legal values: 0 (default), 1 or 2.\n",
      "    \n",
      "        .. versionadded:: 1.6.0\n",
      "    encoding : str, optional\n",
      "        Encoding used to decode the inputfile. Does not apply to input streams.\n",
      "        The special value 'bytes' enables backward compatibility workarounds\n",
      "        that ensures you receive byte arrays as results if possible and passes\n",
      "        latin1 encoded strings to converters. Override this value to receive\n",
      "        unicode arrays and pass strings as input to converters.  If set to None\n",
      "        the system default is used. The default value is 'bytes'.\n",
      "    \n",
      "        .. versionadded:: 1.14.0\n",
      "    \n",
      "    Returns\n",
      "    -------\n",
      "    out : ndarray\n",
      "        Data read from the text file.\n",
      "    \n",
      "    See Also\n",
      "    --------\n",
      "    load, fromstring, fromregex\n",
      "    genfromtxt : Load data with missing values handled as specified.\n",
      "    scipy.io.loadmat : reads MATLAB data files\n",
      "    \n",
      "    Notes\n",
      "    -----\n",
      "    This function aims to be a fast reader for simply formatted files.  The\n",
      "    `genfromtxt` function provides more sophisticated handling of, e.g.,\n",
      "    lines with missing values.\n",
      "    \n",
      "    .. versionadded:: 1.10.0\n",
      "    \n",
      "    The strings produced by the Python float.hex method can be used as\n",
      "    input for floats.\n",
      "    \n",
      "    Examples\n",
      "    --------\n",
      "    >>> from io import StringIO   # StringIO behaves like a file object\n",
      "    >>> c = StringIO(\"0 1\\n2 3\")\n",
      "    >>> np.loadtxt(c)\n",
      "    array([[ 0.,  1.],\n",
      "           [ 2.,  3.]])\n",
      "    \n",
      "    >>> d = StringIO(\"M 21 72\\nF 35 58\")\n",
      "    >>> np.loadtxt(d, dtype={'names': ('gender', 'age', 'weight'),\n",
      "    ...                      'formats': ('S1', 'i4', 'f4')})\n",
      "    array([('M', 21, 72.0), ('F', 35, 58.0)],\n",
      "          dtype=[('gender', '|S1'), ('age', '<i4'), ('weight', '<f4')])\n",
      "    \n",
      "    >>> c = StringIO(\"1,0,2\\n3,0,4\")\n",
      "    >>> x, y = np.loadtxt(c, delimiter=',', usecols=(0, 2), unpack=True)\n",
      "    >>> x\n",
      "    array([ 1.,  3.])\n",
      "    >>> y\n",
      "    array([ 2.,  4.])\n",
      "\n"
     ]
    }
   ],
   "source": [
    "help(np.loadtxt)"
   ]
  },
  {
   "cell_type": "code",
   "execution_count": 9,
   "metadata": {},
   "outputs": [
    {
     "data": {
      "text/plain": [
       "array([[5.1, 3.5, 1.4, 0.2],\n",
       "       [4.9, 3. , 1.4, 0.2],\n",
       "       [4.7, 3.2, 1.3, 0.2],\n",
       "       [4.6, 3.1, 1.5, 0.2],\n",
       "       [5. , 3.6, 1.4, 0.2]])"
      ]
     },
     "execution_count": 9,
     "metadata": {},
     "output_type": "execute_result"
    }
   ],
   "source": [
    "iris[:5]"
   ]
  },
  {
   "cell_type": "markdown",
   "metadata": {},
   "source": [
    "### 팬시 색인\n",
    "- 행 부분에 목록을 넣으면 해당 행들을 골라낼 수 있다"
   ]
  },
  {
   "cell_type": "code",
   "execution_count": 5,
   "metadata": {},
   "outputs": [
    {
     "data": {
      "text/plain": [
       "array([9, 3, 7, 5, 6])"
      ]
     },
     "execution_count": 5,
     "metadata": {},
     "output_type": "execute_result"
    }
   ],
   "source": [
    "a = np.array([9,3,7,5,6])\n",
    "a"
   ]
  },
  {
   "cell_type": "code",
   "execution_count": 6,
   "metadata": {},
   "outputs": [
    {
     "data": {
      "text/plain": [
       "array([9, 7, 6])"
      ]
     },
     "execution_count": 6,
     "metadata": {},
     "output_type": "execute_result"
    }
   ],
   "source": [
    "a[::2]"
   ]
  },
  {
   "cell_type": "code",
   "execution_count": 7,
   "metadata": {},
   "outputs": [
    {
     "data": {
      "text/plain": [
       "array([7, 5, 6])"
      ]
     },
     "execution_count": 7,
     "metadata": {},
     "output_type": "execute_result"
    }
   ],
   "source": [
    "a[-3:]"
   ]
  },
  {
   "cell_type": "code",
   "execution_count": 8,
   "metadata": {},
   "outputs": [
    {
     "data": {
      "text/plain": [
       "array([14, 15])"
      ]
     },
     "execution_count": 8,
     "metadata": {},
     "output_type": "execute_result"
    }
   ],
   "source": [
    "a[0]   +   a[-2:] # 9 + np.array([5,6])"
   ]
  },
  {
   "cell_type": "code",
   "execution_count": 11,
   "metadata": {},
   "outputs": [
    {
     "data": {
      "text/plain": [
       "array([9, 5, 6])"
      ]
     },
     "execution_count": 11,
     "metadata": {},
     "output_type": "execute_result"
    }
   ],
   "source": [
    "l = []\n",
    "l.append(a[0])\n",
    "l = l + list(a[-2:])\n",
    "np.array(l)"
   ]
  },
  {
   "cell_type": "code",
   "execution_count": 14,
   "metadata": {},
   "outputs": [
    {
     "data": {
      "text/plain": [
       "array([9, 5, 6])"
      ]
     },
     "execution_count": 14,
     "metadata": {},
     "output_type": "execute_result"
    }
   ],
   "source": [
    "a[ [0,3,4] ] # 팬시 색인"
   ]
  },
  {
   "cell_type": "code",
   "execution_count": 15,
   "metadata": {},
   "outputs": [
    {
     "data": {
      "text/plain": [
       "array([7, 6])"
      ]
     },
     "execution_count": 15,
     "metadata": {},
     "output_type": "execute_result"
    }
   ],
   "source": [
    "a[[2,4]]"
   ]
  },
  {
   "cell_type": "code",
   "execution_count": 27,
   "metadata": {},
   "outputs": [
    {
     "data": {
      "text/plain": [
       "array([9, 3, 5, 6])"
      ]
     },
     "execution_count": 27,
     "metadata": {},
     "output_type": "execute_result"
    }
   ],
   "source": [
    "a[ [0,1,3,4] ] # [a[0], a[1], a[3], a[4]]"
   ]
  },
  {
   "cell_type": "code",
   "execution_count": null,
   "metadata": {},
   "outputs": [],
   "source": []
  },
  {
   "cell_type": "code",
   "execution_count": 16,
   "metadata": {},
   "outputs": [
    {
     "data": {
      "text/plain": [
       "array([[ 0,  1,  2],\n",
       "       [ 3,  4,  5],\n",
       "       [ 6,  7,  8],\n",
       "       [ 9, 10, 11]])"
      ]
     },
     "execution_count": 16,
     "metadata": {},
     "output_type": "execute_result"
    }
   ],
   "source": [
    "mat = np.arange(12).reshape(4,3)\n",
    "mat"
   ]
  },
  {
   "cell_type": "code",
   "execution_count": 29,
   "metadata": {},
   "outputs": [
    {
     "data": {
      "text/plain": [
       "array([[ 0,  1,  2],\n",
       "       [ 9, 10, 11]])"
      ]
     },
     "execution_count": 29,
     "metadata": {},
     "output_type": "execute_result"
    }
   ],
   "source": [
    "mat[[0,3]]"
   ]
  },
  {
   "cell_type": "code",
   "execution_count": 30,
   "metadata": {},
   "outputs": [
    {
     "data": {
      "text/plain": [
       "array([[ 9, 10, 11],\n",
       "       [ 6,  7,  8],\n",
       "       [ 3,  4,  5],\n",
       "       [ 0,  1,  2]])"
      ]
     },
     "execution_count": 30,
     "metadata": {},
     "output_type": "execute_result"
    }
   ],
   "source": [
    "mat[[3,2,1,0]]"
   ]
  },
  {
   "cell_type": "code",
   "execution_count": 31,
   "metadata": {},
   "outputs": [
    {
     "data": {
      "text/plain": [
       "array([[0, 1, 2],\n",
       "       [0, 1, 2],\n",
       "       [0, 1, 2],\n",
       "       [0, 1, 2]])"
      ]
     },
     "execution_count": 31,
     "metadata": {},
     "output_type": "execute_result"
    }
   ],
   "source": [
    "mat[[0,0,0,0]]"
   ]
  },
  {
   "cell_type": "code",
   "execution_count": null,
   "metadata": {},
   "outputs": [],
   "source": []
  },
  {
   "cell_type": "code",
   "execution_count": 33,
   "metadata": {},
   "outputs": [
    {
     "data": {
      "text/plain": [
       "array([[ 0,  2],\n",
       "       [ 3,  5],\n",
       "       [ 6,  8],\n",
       "       [ 9, 11]])"
      ]
     },
     "execution_count": 33,
     "metadata": {},
     "output_type": "execute_result"
    }
   ],
   "source": [
    "mat[:, [0,-1]]"
   ]
  },
  {
   "cell_type": "code",
   "execution_count": null,
   "metadata": {},
   "outputs": [],
   "source": []
  },
  {
   "cell_type": "code",
   "execution_count": 17,
   "metadata": {
    "scrolled": true
   },
   "outputs": [
    {
     "data": {
      "text/plain": [
       "array([[5.1, 3.5, 1.4, 0.2],\n",
       "       [4.7, 3.2, 1.3, 0.2],\n",
       "       [5. , 3.6, 1.4, 0.2]])"
      ]
     },
     "execution_count": 17,
     "metadata": {},
     "output_type": "execute_result"
    }
   ],
   "source": [
    "iris[ [0,2,4] ] # 행번호 0,2,4 를 골라냄"
   ]
  },
  {
   "cell_type": "code",
   "execution_count": 18,
   "metadata": {},
   "outputs": [
    {
     "data": {
      "text/plain": [
       "array([[5.1, 0.2],\n",
       "       [4.9, 0.2],\n",
       "       [4.7, 0.2],\n",
       "       [4.6, 0.2],\n",
       "       [5. , 0.2],\n",
       "       [5.4, 0.4],\n",
       "       [4.6, 0.3],\n",
       "       [5. , 0.2],\n",
       "       [4.4, 0.2],\n",
       "       [4.9, 0.1],\n",
       "       [5.4, 0.2],\n",
       "       [4.8, 0.2],\n",
       "       [4.8, 0.1],\n",
       "       [4.3, 0.1],\n",
       "       [5.8, 0.2],\n",
       "       [5.7, 0.4],\n",
       "       [5.4, 0.4],\n",
       "       [5.1, 0.3],\n",
       "       [5.7, 0.3],\n",
       "       [5.1, 0.3],\n",
       "       [5.4, 0.2],\n",
       "       [5.1, 0.4],\n",
       "       [4.6, 0.2],\n",
       "       [5.1, 0.5],\n",
       "       [4.8, 0.2],\n",
       "       [5. , 0.2],\n",
       "       [5. , 0.4],\n",
       "       [5.2, 0.2],\n",
       "       [5.2, 0.2],\n",
       "       [4.7, 0.2],\n",
       "       [4.8, 0.2],\n",
       "       [5.4, 0.4],\n",
       "       [5.2, 0.1],\n",
       "       [5.5, 0.2],\n",
       "       [4.9, 0.1],\n",
       "       [5. , 0.2],\n",
       "       [5.5, 0.2],\n",
       "       [4.9, 0.1],\n",
       "       [4.4, 0.2],\n",
       "       [5.1, 0.2],\n",
       "       [5. , 0.3],\n",
       "       [4.5, 0.3],\n",
       "       [4.4, 0.2],\n",
       "       [5. , 0.6],\n",
       "       [5.1, 0.4],\n",
       "       [4.8, 0.3],\n",
       "       [5.1, 0.2],\n",
       "       [4.6, 0.2],\n",
       "       [5.3, 0.2],\n",
       "       [5. , 0.2],\n",
       "       [7. , 1.4],\n",
       "       [6.4, 1.5],\n",
       "       [6.9, 1.5],\n",
       "       [5.5, 1.3],\n",
       "       [6.5, 1.5],\n",
       "       [5.7, 1.3],\n",
       "       [6.3, 1.6],\n",
       "       [4.9, 1. ],\n",
       "       [6.6, 1.3],\n",
       "       [5.2, 1.4],\n",
       "       [5. , 1. ],\n",
       "       [5.9, 1.5],\n",
       "       [6. , 1. ],\n",
       "       [6.1, 1.4],\n",
       "       [5.6, 1.3],\n",
       "       [6.7, 1.4],\n",
       "       [5.6, 1.5],\n",
       "       [5.8, 1. ],\n",
       "       [6.2, 1.5],\n",
       "       [5.6, 1.1],\n",
       "       [5.9, 1.8],\n",
       "       [6.1, 1.3],\n",
       "       [6.3, 1.5],\n",
       "       [6.1, 1.2],\n",
       "       [6.4, 1.3],\n",
       "       [6.6, 1.4],\n",
       "       [6.8, 1.4],\n",
       "       [6.7, 1.7],\n",
       "       [6. , 1.5],\n",
       "       [5.7, 1. ],\n",
       "       [5.5, 1.1],\n",
       "       [5.5, 1. ],\n",
       "       [5.8, 1.2],\n",
       "       [6. , 1.6],\n",
       "       [5.4, 1.5],\n",
       "       [6. , 1.6],\n",
       "       [6.7, 1.5],\n",
       "       [6.3, 1.3],\n",
       "       [5.6, 1.3],\n",
       "       [5.5, 1.3],\n",
       "       [5.5, 1.2],\n",
       "       [6.1, 1.4],\n",
       "       [5.8, 1.2],\n",
       "       [5. , 1. ],\n",
       "       [5.6, 1.3],\n",
       "       [5.7, 1.2],\n",
       "       [5.7, 1.3],\n",
       "       [6.2, 1.3],\n",
       "       [5.1, 1.1],\n",
       "       [5.7, 1.3],\n",
       "       [6.3, 2.5],\n",
       "       [5.8, 1.9],\n",
       "       [7.1, 2.1],\n",
       "       [6.3, 1.8],\n",
       "       [6.5, 2.2],\n",
       "       [7.6, 2.1],\n",
       "       [4.9, 1.7],\n",
       "       [7.3, 1.8],\n",
       "       [6.7, 1.8],\n",
       "       [7.2, 2.5],\n",
       "       [6.5, 2. ],\n",
       "       [6.4, 1.9],\n",
       "       [6.8, 2.1],\n",
       "       [5.7, 2. ],\n",
       "       [5.8, 2.4],\n",
       "       [6.4, 2.3],\n",
       "       [6.5, 1.8],\n",
       "       [7.7, 2.2],\n",
       "       [7.7, 2.3],\n",
       "       [6. , 1.5],\n",
       "       [6.9, 2.3],\n",
       "       [5.6, 2. ],\n",
       "       [7.7, 2. ],\n",
       "       [6.3, 1.8],\n",
       "       [6.7, 2.1],\n",
       "       [7.2, 1.8],\n",
       "       [6.2, 1.8],\n",
       "       [6.1, 1.8],\n",
       "       [6.4, 2.1],\n",
       "       [7.2, 1.6],\n",
       "       [7.4, 1.9],\n",
       "       [7.9, 2. ],\n",
       "       [6.4, 2.2],\n",
       "       [6.3, 1.5],\n",
       "       [6.1, 1.4],\n",
       "       [7.7, 2.3],\n",
       "       [6.3, 2.4],\n",
       "       [6.4, 1.8],\n",
       "       [6. , 1.8],\n",
       "       [6.9, 2.1],\n",
       "       [6.7, 2.4],\n",
       "       [6.9, 2.3],\n",
       "       [5.8, 1.9],\n",
       "       [6.8, 2.3],\n",
       "       [6.7, 2.5],\n",
       "       [6.7, 2.3],\n",
       "       [6.3, 1.9],\n",
       "       [6.5, 2. ],\n",
       "       [6.2, 2.3],\n",
       "       [5.9, 1.8]])"
      ]
     },
     "execution_count": 18,
     "metadata": {},
     "output_type": "execute_result"
    }
   ],
   "source": [
    "iris[:, [0,3]]"
   ]
  },
  {
   "cell_type": "code",
   "execution_count": 19,
   "metadata": {},
   "outputs": [
    {
     "data": {
      "text/plain": [
       "array([[5.1, 3.5, 1.4, 0.2],\n",
       "       [7. , 3.2, 4.7, 1.4],\n",
       "       [6.3, 3.3, 6. , 2.5]])"
      ]
     },
     "execution_count": 19,
     "metadata": {},
     "output_type": "execute_result"
    }
   ],
   "source": [
    "# 각 품종별 첫번째 샘플을 팬시색인으로 뽑으시오\n",
    "iris[[0,50,100]]"
   ]
  },
  {
   "cell_type": "code",
   "execution_count": 20,
   "metadata": {},
   "outputs": [
    {
     "data": {
      "text/plain": [
       "array([[5. , 3.6, 1.4, 0.2],\n",
       "       [4.6, 3.1, 1.5, 0.2],\n",
       "       [4.7, 3.2, 1.3, 0.2],\n",
       "       [4.9, 3. , 1.4, 0.2],\n",
       "       [5.1, 3.5, 1.4, 0.2]])"
      ]
     },
     "execution_count": 20,
     "metadata": {},
     "output_type": "execute_result"
    }
   ],
   "source": [
    "iris[ [4,3,2,1,0] ]"
   ]
  },
  {
   "cell_type": "code",
   "execution_count": 37,
   "metadata": {},
   "outputs": [
    {
     "data": {
      "text/plain": [
       "array([[5.1, 3.5, 1.4, 0.2],\n",
       "       [5.1, 3.5, 1.4, 0.2],\n",
       "       [4.9, 3. , 1.4, 0.2],\n",
       "       [4.9, 3. , 1.4, 0.2]])"
      ]
     },
     "execution_count": 37,
     "metadata": {},
     "output_type": "execute_result"
    }
   ],
   "source": [
    "iris[ [0,0,1,1] ] # 한 행을 여러번 불러올 수도 있다"
   ]
  },
  {
   "cell_type": "markdown",
   "metadata": {},
   "source": [
    "- 마찬가지 방법으로 열 부분을 골라낼 수 있다"
   ]
  },
  {
   "cell_type": "code",
   "execution_count": 40,
   "metadata": {},
   "outputs": [
    {
     "data": {
      "text/plain": [
       "array([[5.1, 1.4, 0.2],\n",
       "       [4.9, 1.4, 0.2],\n",
       "       [4.7, 1.3, 0.2],\n",
       "       [4.6, 1.5, 0.2],\n",
       "       [5. , 1.4, 0.2],\n",
       "       [5.4, 1.7, 0.4],\n",
       "       [4.6, 1.4, 0.3],\n",
       "       [5. , 1.5, 0.2],\n",
       "       [4.4, 1.4, 0.2],\n",
       "       [4.9, 1.5, 0.1],\n",
       "       [5.4, 1.5, 0.2],\n",
       "       [4.8, 1.6, 0.2],\n",
       "       [4.8, 1.4, 0.1],\n",
       "       [4.3, 1.1, 0.1],\n",
       "       [5.8, 1.2, 0.2],\n",
       "       [5.7, 1.5, 0.4],\n",
       "       [5.4, 1.3, 0.4],\n",
       "       [5.1, 1.4, 0.3],\n",
       "       [5.7, 1.7, 0.3],\n",
       "       [5.1, 1.5, 0.3],\n",
       "       [5.4, 1.7, 0.2],\n",
       "       [5.1, 1.5, 0.4],\n",
       "       [4.6, 1. , 0.2],\n",
       "       [5.1, 1.7, 0.5],\n",
       "       [4.8, 1.9, 0.2],\n",
       "       [5. , 1.6, 0.2],\n",
       "       [5. , 1.6, 0.4],\n",
       "       [5.2, 1.5, 0.2],\n",
       "       [5.2, 1.4, 0.2],\n",
       "       [4.7, 1.6, 0.2],\n",
       "       [4.8, 1.6, 0.2],\n",
       "       [5.4, 1.5, 0.4],\n",
       "       [5.2, 1.5, 0.1],\n",
       "       [5.5, 1.4, 0.2],\n",
       "       [4.9, 1.5, 0.1],\n",
       "       [5. , 1.2, 0.2],\n",
       "       [5.5, 1.3, 0.2],\n",
       "       [4.9, 1.5, 0.1],\n",
       "       [4.4, 1.3, 0.2],\n",
       "       [5.1, 1.5, 0.2],\n",
       "       [5. , 1.3, 0.3],\n",
       "       [4.5, 1.3, 0.3],\n",
       "       [4.4, 1.3, 0.2],\n",
       "       [5. , 1.6, 0.6],\n",
       "       [5.1, 1.9, 0.4],\n",
       "       [4.8, 1.4, 0.3],\n",
       "       [5.1, 1.6, 0.2],\n",
       "       [4.6, 1.4, 0.2],\n",
       "       [5.3, 1.5, 0.2],\n",
       "       [5. , 1.4, 0.2],\n",
       "       [7. , 4.7, 1.4],\n",
       "       [6.4, 4.5, 1.5],\n",
       "       [6.9, 4.9, 1.5],\n",
       "       [5.5, 4. , 1.3],\n",
       "       [6.5, 4.6, 1.5],\n",
       "       [5.7, 4.5, 1.3],\n",
       "       [6.3, 4.7, 1.6],\n",
       "       [4.9, 3.3, 1. ],\n",
       "       [6.6, 4.6, 1.3],\n",
       "       [5.2, 3.9, 1.4],\n",
       "       [5. , 3.5, 1. ],\n",
       "       [5.9, 4.2, 1.5],\n",
       "       [6. , 4. , 1. ],\n",
       "       [6.1, 4.7, 1.4],\n",
       "       [5.6, 3.6, 1.3],\n",
       "       [6.7, 4.4, 1.4],\n",
       "       [5.6, 4.5, 1.5],\n",
       "       [5.8, 4.1, 1. ],\n",
       "       [6.2, 4.5, 1.5],\n",
       "       [5.6, 3.9, 1.1],\n",
       "       [5.9, 4.8, 1.8],\n",
       "       [6.1, 4. , 1.3],\n",
       "       [6.3, 4.9, 1.5],\n",
       "       [6.1, 4.7, 1.2],\n",
       "       [6.4, 4.3, 1.3],\n",
       "       [6.6, 4.4, 1.4],\n",
       "       [6.8, 4.8, 1.4],\n",
       "       [6.7, 5. , 1.7],\n",
       "       [6. , 4.5, 1.5],\n",
       "       [5.7, 3.5, 1. ],\n",
       "       [5.5, 3.8, 1.1],\n",
       "       [5.5, 3.7, 1. ],\n",
       "       [5.8, 3.9, 1.2],\n",
       "       [6. , 5.1, 1.6],\n",
       "       [5.4, 4.5, 1.5],\n",
       "       [6. , 4.5, 1.6],\n",
       "       [6.7, 4.7, 1.5],\n",
       "       [6.3, 4.4, 1.3],\n",
       "       [5.6, 4.1, 1.3],\n",
       "       [5.5, 4. , 1.3],\n",
       "       [5.5, 4.4, 1.2],\n",
       "       [6.1, 4.6, 1.4],\n",
       "       [5.8, 4. , 1.2],\n",
       "       [5. , 3.3, 1. ],\n",
       "       [5.6, 4.2, 1.3],\n",
       "       [5.7, 4.2, 1.2],\n",
       "       [5.7, 4.2, 1.3],\n",
       "       [6.2, 4.3, 1.3],\n",
       "       [5.1, 3. , 1.1],\n",
       "       [5.7, 4.1, 1.3],\n",
       "       [6.3, 6. , 2.5],\n",
       "       [5.8, 5.1, 1.9],\n",
       "       [7.1, 5.9, 2.1],\n",
       "       [6.3, 5.6, 1.8],\n",
       "       [6.5, 5.8, 2.2],\n",
       "       [7.6, 6.6, 2.1],\n",
       "       [4.9, 4.5, 1.7],\n",
       "       [7.3, 6.3, 1.8],\n",
       "       [6.7, 5.8, 1.8],\n",
       "       [7.2, 6.1, 2.5],\n",
       "       [6.5, 5.1, 2. ],\n",
       "       [6.4, 5.3, 1.9],\n",
       "       [6.8, 5.5, 2.1],\n",
       "       [5.7, 5. , 2. ],\n",
       "       [5.8, 5.1, 2.4],\n",
       "       [6.4, 5.3, 2.3],\n",
       "       [6.5, 5.5, 1.8],\n",
       "       [7.7, 6.7, 2.2],\n",
       "       [7.7, 6.9, 2.3],\n",
       "       [6. , 5. , 1.5],\n",
       "       [6.9, 5.7, 2.3],\n",
       "       [5.6, 4.9, 2. ],\n",
       "       [7.7, 6.7, 2. ],\n",
       "       [6.3, 4.9, 1.8],\n",
       "       [6.7, 5.7, 2.1],\n",
       "       [7.2, 6. , 1.8],\n",
       "       [6.2, 4.8, 1.8],\n",
       "       [6.1, 4.9, 1.8],\n",
       "       [6.4, 5.6, 2.1],\n",
       "       [7.2, 5.8, 1.6],\n",
       "       [7.4, 6.1, 1.9],\n",
       "       [7.9, 6.4, 2. ],\n",
       "       [6.4, 5.6, 2.2],\n",
       "       [6.3, 5.1, 1.5],\n",
       "       [6.1, 5.6, 1.4],\n",
       "       [7.7, 6.1, 2.3],\n",
       "       [6.3, 5.6, 2.4],\n",
       "       [6.4, 5.5, 1.8],\n",
       "       [6. , 4.8, 1.8],\n",
       "       [6.9, 5.4, 2.1],\n",
       "       [6.7, 5.6, 2.4],\n",
       "       [6.9, 5.1, 2.3],\n",
       "       [5.8, 5.1, 1.9],\n",
       "       [6.8, 5.9, 2.3],\n",
       "       [6.7, 5.7, 2.5],\n",
       "       [6.7, 5.2, 2.3],\n",
       "       [6.3, 5. , 1.9],\n",
       "       [6.5, 5.2, 2. ],\n",
       "       [6.2, 5.4, 2.3],\n",
       "       [5.9, 5.1, 1.8]])"
      ]
     },
     "execution_count": 40,
     "metadata": {},
     "output_type": "execute_result"
    }
   ],
   "source": [
    "iris[:, [0,2,3] ]"
   ]
  },
  {
   "cell_type": "markdown",
   "metadata": {},
   "source": [
    "- 아이리스에서 샘플을 10개 뽑아라"
   ]
  },
  {
   "cell_type": "code",
   "execution_count": 27,
   "metadata": {},
   "outputs": [
    {
     "data": {
      "text/plain": [
       "array([  4, 127,   0,  51, 135,  21,  32,  83,  37,  68])"
      ]
     },
     "execution_count": 27,
     "metadata": {},
     "output_type": "execute_result"
    }
   ],
   "source": [
    "np.random.randint(150, size=10)"
   ]
  },
  {
   "cell_type": "code",
   "execution_count": 28,
   "metadata": {},
   "outputs": [
    {
     "data": {
      "text/plain": [
       "array([[6.9, 3.1, 5.4, 2.1],\n",
       "       [5.1, 3.5, 1.4, 0.2],\n",
       "       [7.9, 3.8, 6.4, 2. ],\n",
       "       [4.9, 3.1, 1.5, 0.1],\n",
       "       [6.5, 3.2, 5.1, 2. ],\n",
       "       [5. , 3.5, 1.6, 0.6],\n",
       "       [6.5, 3. , 5.8, 2.2],\n",
       "       [5. , 3.5, 1.3, 0.3],\n",
       "       [5.5, 2.6, 4.4, 1.2],\n",
       "       [5.3, 3.7, 1.5, 0.2]])"
      ]
     },
     "execution_count": 28,
     "metadata": {},
     "output_type": "execute_result"
    }
   ],
   "source": [
    "iris[np.random.randint(150, size=10)]"
   ]
  },
  {
   "cell_type": "code",
   "execution_count": 32,
   "metadata": {},
   "outputs": [
    {
     "data": {
      "text/plain": [
       "array([[6. , 3.4, 4.5, 1.6],\n",
       "       [6.2, 2.8, 4.8, 1.8],\n",
       "       [6.7, 3.1, 4.7, 1.5],\n",
       "       [6.7, 3.1, 5.6, 2.4],\n",
       "       [7.3, 2.9, 6.3, 1.8],\n",
       "       [4.8, 3.4, 1.6, 0.2],\n",
       "       [5.1, 2.5, 3. , 1.1],\n",
       "       [6.1, 2.9, 4.7, 1.4],\n",
       "       [7.7, 3. , 6.1, 2.3],\n",
       "       [5.3, 3.7, 1.5, 0.2]])"
      ]
     },
     "execution_count": 32,
     "metadata": {},
     "output_type": "execute_result"
    }
   ],
   "source": [
    "# 중복되지 않는 샘플 10개를 뽑으시오\n",
    "iris[np.random.permutation(range(150))][:10]"
   ]
  },
  {
   "cell_type": "code",
   "execution_count": 33,
   "metadata": {},
   "outputs": [
    {
     "data": {
      "text/plain": [
       "array([[5.1, 3.5, 1.4, 0.3],\n",
       "       [4.7, 3.2, 1.3, 0.2],\n",
       "       [6.6, 2.9, 4.6, 1.3],\n",
       "       [5.7, 2.8, 4.1, 1.3],\n",
       "       [5.8, 4. , 1.2, 0.2],\n",
       "       [5.7, 2.8, 4.5, 1.3],\n",
       "       [6.1, 2.8, 4.7, 1.2],\n",
       "       [5.6, 2.5, 3.9, 1.1],\n",
       "       [4.6, 3.1, 1.5, 0.2],\n",
       "       [5. , 3.6, 1.4, 0.2]])"
      ]
     },
     "execution_count": 33,
     "metadata": {},
     "output_type": "execute_result"
    }
   ],
   "source": [
    "np.random.permutation(iris)[:10]"
   ]
  },
  {
   "cell_type": "code",
   "execution_count": 34,
   "metadata": {},
   "outputs": [
    {
     "data": {
      "text/plain": [
       "array([[5.1, 2.5, 3. , 1.1],\n",
       "       [4.9, 3. , 1.4, 0.2],\n",
       "       [6.7, 3.3, 5.7, 2.1],\n",
       "       [6. , 2.9, 4.5, 1.5],\n",
       "       [6.3, 3.3, 4.7, 1.6],\n",
       "       [5.5, 2.4, 3.7, 1. ],\n",
       "       [6.8, 3. , 5.5, 2.1],\n",
       "       [4.6, 3.4, 1.4, 0.3],\n",
       "       [4.6, 3.6, 1. , 0.2],\n",
       "       [5.5, 2.5, 4. , 1.3]])"
      ]
     },
     "execution_count": 34,
     "metadata": {},
     "output_type": "execute_result"
    }
   ],
   "source": [
    "iris[np.random.choice(range(150), size=10, replace=False)]"
   ]
  },
  {
   "cell_type": "code",
   "execution_count": null,
   "metadata": {},
   "outputs": [],
   "source": []
  },
  {
   "cell_type": "code",
   "execution_count": 35,
   "metadata": {},
   "outputs": [
    {
     "data": {
      "text/plain": [
       "array([127, 136, 139,  89, 108, 131,  59, 137, 113, 115])"
      ]
     },
     "execution_count": 35,
     "metadata": {},
     "output_type": "execute_result"
    }
   ],
   "source": [
    "idx = np.random.randint(150, size=10)\n",
    "idx"
   ]
  },
  {
   "cell_type": "code",
   "execution_count": 36,
   "metadata": {},
   "outputs": [
    {
     "data": {
      "text/plain": [
       "array([[5.5, 2.4, 3.7, 1. ],\n",
       "       [5.1, 3.3, 1.7, 0.5],\n",
       "       [4.9, 2.4, 3.3, 1. ],\n",
       "       [5.1, 3.4, 1.5, 0.2],\n",
       "       [4.6, 3.2, 1.4, 0.2],\n",
       "       [6.1, 2.6, 5.6, 1.4],\n",
       "       [5.8, 4. , 1.2, 0.2],\n",
       "       [4.8, 3.4, 1.9, 0.2],\n",
       "       [4.9, 2.4, 3.3, 1. ],\n",
       "       [5.6, 3. , 4.5, 1.5]])"
      ]
     },
     "execution_count": 36,
     "metadata": {},
     "output_type": "execute_result"
    }
   ],
   "source": [
    "iris[[ 81,  23,  57,  39,  47, 134,  14,  24,  57,  66]]"
   ]
  },
  {
   "cell_type": "code",
   "execution_count": 37,
   "metadata": {},
   "outputs": [
    {
     "data": {
      "text/plain": [
       "array([[6.1, 3. , 4.9, 1.8],\n",
       "       [6.3, 3.4, 5.6, 2.4],\n",
       "       [6.9, 3.1, 5.4, 2.1],\n",
       "       [5.5, 2.5, 4. , 1.3],\n",
       "       [6.7, 2.5, 5.8, 1.8],\n",
       "       [7.9, 3.8, 6.4, 2. ],\n",
       "       [5.2, 2.7, 3.9, 1.4],\n",
       "       [6.4, 3.1, 5.5, 1.8],\n",
       "       [5.7, 2.5, 5. , 2. ],\n",
       "       [6.4, 3.2, 5.3, 2.3]])"
      ]
     },
     "execution_count": 37,
     "metadata": {},
     "output_type": "execute_result"
    }
   ],
   "source": [
    "iris[idx]"
   ]
  },
  {
   "cell_type": "code",
   "execution_count": 40,
   "metadata": {},
   "outputs": [
    {
     "data": {
      "text/plain": [
       "array([0., 0., 0., 0., 0., 0., 0., 0., 0., 0., 0., 0., 0., 0., 0., 0., 0.,\n",
       "       0., 0., 0., 0., 0., 0., 0., 0., 0., 0., 0., 0., 0., 0., 0., 0., 0.,\n",
       "       0., 0., 0., 0., 0., 0., 0., 0., 0., 0., 0., 0., 0., 0., 0., 0., 1.,\n",
       "       1., 1., 1., 1., 1., 1., 1., 1., 1., 1., 1., 1., 1., 1., 1., 1., 1.,\n",
       "       1., 1., 1., 1., 1., 1., 1., 1., 1., 1., 1., 1., 1., 1., 1., 1., 1.,\n",
       "       1., 1., 1., 1., 1., 1., 1., 1., 1., 1., 1., 1., 1., 1., 1., 2., 2.,\n",
       "       2., 2., 2., 2., 2., 2., 2., 2., 2., 2., 2., 2., 2., 2., 2., 2., 2.,\n",
       "       2., 2., 2., 2., 2., 2., 2., 2., 2., 2., 2., 2., 2., 2., 2., 2., 2.,\n",
       "       2., 2., 2., 2., 2., 2., 2., 2., 2., 2., 2., 2., 2., 2.])"
      ]
     },
     "execution_count": 40,
     "metadata": {},
     "output_type": "execute_result"
    }
   ],
   "source": [
    "y"
   ]
  },
  {
   "cell_type": "code",
   "execution_count": 41,
   "metadata": {},
   "outputs": [
    {
     "data": {
      "text/plain": [
       "array([2., 2., 2., 1., 2., 2., 1., 2., 2., 2.])"
      ]
     },
     "execution_count": 41,
     "metadata": {},
     "output_type": "execute_result"
    }
   ],
   "source": [
    "y[idx]"
   ]
  },
  {
   "cell_type": "code",
   "execution_count": null,
   "metadata": {},
   "outputs": [],
   "source": []
  },
  {
   "cell_type": "code",
   "execution_count": 44,
   "metadata": {},
   "outputs": [
    {
     "data": {
      "text/plain": [
       "array([[1, 2],\n",
       "       [3, 4],\n",
       "       [5, 6]])"
      ]
     },
     "execution_count": 44,
     "metadata": {},
     "output_type": "execute_result"
    }
   ],
   "source": [
    "data = np.array([[1,2],[3,4],[5,6]])\n",
    "data"
   ]
  },
  {
   "cell_type": "code",
   "execution_count": 45,
   "metadata": {},
   "outputs": [
    {
     "data": {
      "text/plain": [
       "array(['친구', '가족', '친구'], dtype='<U2')"
      ]
     },
     "execution_count": 45,
     "metadata": {},
     "output_type": "execute_result"
    }
   ],
   "source": [
    "label = np.array(['친구','가족','친구'])\n",
    "label"
   ]
  },
  {
   "cell_type": "code",
   "execution_count": 46,
   "metadata": {},
   "outputs": [
    {
     "data": {
      "text/plain": [
       "array([[1, 2],\n",
       "       [5, 6]])"
      ]
     },
     "execution_count": 46,
     "metadata": {},
     "output_type": "execute_result"
    }
   ],
   "source": [
    "data[[0,2]]"
   ]
  },
  {
   "cell_type": "code",
   "execution_count": 47,
   "metadata": {},
   "outputs": [
    {
     "data": {
      "text/plain": [
       "array(['친구', '친구'], dtype='<U2')"
      ]
     },
     "execution_count": 47,
     "metadata": {},
     "output_type": "execute_result"
    }
   ],
   "source": [
    "label[[0,2]]"
   ]
  },
  {
   "cell_type": "markdown",
   "metadata": {},
   "source": [
    "- 아래와 같이 행과 열에 모두 목록을 넣으면, 쌍으로 위치를 지정하게 된다"
   ]
  },
  {
   "cell_type": "code",
   "execution_count": 41,
   "metadata": {},
   "outputs": [
    {
     "data": {
      "text/plain": [
       "array([5.1, 1.3, 0.2])"
      ]
     },
     "execution_count": 41,
     "metadata": {},
     "output_type": "execute_result"
    }
   ],
   "source": [
    "iris[ [0,2,3], [0,2,3] ] # (0,0), (2,2), (3,3) 세 위치의 값을 얻는다"
   ]
  },
  {
   "cell_type": "markdown",
   "metadata": {},
   "source": [
    "### 불리언 색인\n",
    "- True/False 와 조건식 적용\n",
    "- 행과 열의 위치에 True/False 를 적용할 수 있다\n",
    "- 그리고 True/False 의 결과를 내는 조건식을 적용할 수 있다."
   ]
  },
  {
   "cell_type": "code",
   "execution_count": 49,
   "metadata": {},
   "outputs": [
    {
     "data": {
      "text/plain": [
       "array([3, 4, 1, 2, 7])"
      ]
     },
     "execution_count": 49,
     "metadata": {},
     "output_type": "execute_result"
    }
   ],
   "source": [
    "a = np.array([3,4,1,2,7])\n",
    "a"
   ]
  },
  {
   "cell_type": "code",
   "execution_count": 50,
   "metadata": {},
   "outputs": [
    {
     "data": {
      "text/plain": [
       "array([4, 7])"
      ]
     },
     "execution_count": 50,
     "metadata": {},
     "output_type": "execute_result"
    }
   ],
   "source": [
    "a[[False, True, False, False, True]]"
   ]
  },
  {
   "cell_type": "code",
   "execution_count": 51,
   "metadata": {},
   "outputs": [
    {
     "data": {
      "text/plain": [
       "array([4, 7])"
      ]
     },
     "execution_count": 51,
     "metadata": {},
     "output_type": "execute_result"
    }
   ],
   "source": [
    "a[[1,-1]]"
   ]
  },
  {
   "cell_type": "code",
   "execution_count": 52,
   "metadata": {},
   "outputs": [
    {
     "data": {
      "text/plain": [
       "array([False,  True, False, False,  True])"
      ]
     },
     "execution_count": 52,
     "metadata": {},
     "output_type": "execute_result"
    }
   ],
   "source": [
    "a>3"
   ]
  },
  {
   "cell_type": "code",
   "execution_count": 53,
   "metadata": {},
   "outputs": [
    {
     "data": {
      "text/plain": [
       "array([4, 7])"
      ]
     },
     "execution_count": 53,
     "metadata": {},
     "output_type": "execute_result"
    }
   ],
   "source": [
    "a[a>3] # !!!"
   ]
  },
  {
   "cell_type": "code",
   "execution_count": 54,
   "metadata": {},
   "outputs": [
    {
     "data": {
      "text/plain": [
       "array([1, 2])"
      ]
     },
     "execution_count": 54,
     "metadata": {},
     "output_type": "execute_result"
    }
   ],
   "source": [
    "a[a<3]"
   ]
  },
  {
   "cell_type": "code",
   "execution_count": 55,
   "metadata": {},
   "outputs": [
    {
     "data": {
      "text/plain": [
       "array([4, 1, 2, 7])"
      ]
     },
     "execution_count": 55,
     "metadata": {},
     "output_type": "execute_result"
    }
   ],
   "source": [
    "a[a!=3]"
   ]
  },
  {
   "cell_type": "code",
   "execution_count": null,
   "metadata": {},
   "outputs": [],
   "source": []
  },
  {
   "cell_type": "code",
   "execution_count": 56,
   "metadata": {},
   "outputs": [
    {
     "data": {
      "text/plain": [
       "array([[ 0,  1,  2],\n",
       "       [ 3,  4,  5],\n",
       "       [ 6,  7,  8],\n",
       "       [ 9, 10, 11]])"
      ]
     },
     "execution_count": 56,
     "metadata": {},
     "output_type": "execute_result"
    }
   ],
   "source": [
    "a = np.arange(12).reshape(4,3)\n",
    "a"
   ]
  },
  {
   "cell_type": "code",
   "execution_count": 59,
   "metadata": {},
   "outputs": [
    {
     "data": {
      "text/plain": [
       "array([[ 0,  1,  2],\n",
       "       [ 9, 10, 11]])"
      ]
     },
     "execution_count": 59,
     "metadata": {},
     "output_type": "execute_result"
    }
   ],
   "source": [
    "a[[True,False,False,True]] # a[[0,-1]]"
   ]
  },
  {
   "cell_type": "code",
   "execution_count": 61,
   "metadata": {},
   "outputs": [
    {
     "data": {
      "text/plain": [
       "array([[False, False, False],\n",
       "       [False, False,  True],\n",
       "       [ True,  True,  True],\n",
       "       [ True,  True,  True]])"
      ]
     },
     "execution_count": 61,
     "metadata": {},
     "output_type": "execute_result"
    }
   ],
   "source": [
    "a>4"
   ]
  },
  {
   "cell_type": "code",
   "execution_count": 62,
   "metadata": {},
   "outputs": [
    {
     "data": {
      "text/plain": [
       "array([ 5,  6,  7,  8,  9, 10, 11])"
      ]
     },
     "execution_count": 62,
     "metadata": {},
     "output_type": "execute_result"
    }
   ],
   "source": [
    "a[a>4]"
   ]
  },
  {
   "cell_type": "code",
   "execution_count": 67,
   "metadata": {},
   "outputs": [
    {
     "data": {
      "text/plain": [
       "array([[ 0,  1,  2],\n",
       "       [ 3,  4, -1],\n",
       "       [-1, -1, -1],\n",
       "       [-1, -1, -1]])"
      ]
     },
     "execution_count": 67,
     "metadata": {},
     "output_type": "execute_result"
    }
   ],
   "source": [
    "a[a>4] = -1\n",
    "a"
   ]
  },
  {
   "cell_type": "code",
   "execution_count": null,
   "metadata": {},
   "outputs": [],
   "source": []
  }
 ],
 "metadata": {
  "kernelspec": {
   "display_name": "Python 3",
   "language": "python",
   "name": "python3"
  },
  "language_info": {
   "codemirror_mode": {
    "name": "ipython",
    "version": 3
   },
   "file_extension": ".py",
   "mimetype": "text/x-python",
   "name": "python",
   "nbconvert_exporter": "python",
   "pygments_lexer": "ipython3",
   "version": "3.6.4"
  }
 },
 "nbformat": 4,
 "nbformat_minor": 2
}
