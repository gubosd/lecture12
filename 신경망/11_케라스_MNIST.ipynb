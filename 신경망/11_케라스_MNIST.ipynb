{
 "cells": [
  {
   "cell_type": "markdown",
   "metadata": {},
   "source": [
    "## 신경망 개념\n",
    "# 케라스 MNIST"
   ]
  },
  {
   "cell_type": "code",
   "execution_count": 1,
   "metadata": {},
   "outputs": [],
   "source": [
    "import numpy as np\n",
    "import pandas as pd\n",
    "import matplotlib.pyplot as plt"
   ]
  },
  {
   "cell_type": "code",
   "execution_count": 2,
   "metadata": {
    "scrolled": true
   },
   "outputs": [
    {
     "name": "stderr",
     "output_type": "stream",
     "text": [
      "Using TensorFlow backend.\n",
      "d:\\Anaconda3\\lib\\site-packages\\tensorflow\\python\\framework\\dtypes.py:523: FutureWarning: Passing (type, 1) or '1type' as a synonym of type is deprecated; in a future version of numpy, it will be understood as (type, (1,)) / '(1,)type'.\n",
      "  _np_qint8 = np.dtype([(\"qint8\", np.int8, 1)])\n",
      "d:\\Anaconda3\\lib\\site-packages\\tensorflow\\python\\framework\\dtypes.py:524: FutureWarning: Passing (type, 1) or '1type' as a synonym of type is deprecated; in a future version of numpy, it will be understood as (type, (1,)) / '(1,)type'.\n",
      "  _np_quint8 = np.dtype([(\"quint8\", np.uint8, 1)])\n",
      "d:\\Anaconda3\\lib\\site-packages\\tensorflow\\python\\framework\\dtypes.py:525: FutureWarning: Passing (type, 1) or '1type' as a synonym of type is deprecated; in a future version of numpy, it will be understood as (type, (1,)) / '(1,)type'.\n",
      "  _np_qint16 = np.dtype([(\"qint16\", np.int16, 1)])\n",
      "d:\\Anaconda3\\lib\\site-packages\\tensorflow\\python\\framework\\dtypes.py:526: FutureWarning: Passing (type, 1) or '1type' as a synonym of type is deprecated; in a future version of numpy, it will be understood as (type, (1,)) / '(1,)type'.\n",
      "  _np_quint16 = np.dtype([(\"quint16\", np.uint16, 1)])\n",
      "d:\\Anaconda3\\lib\\site-packages\\tensorflow\\python\\framework\\dtypes.py:527: FutureWarning: Passing (type, 1) or '1type' as a synonym of type is deprecated; in a future version of numpy, it will be understood as (type, (1,)) / '(1,)type'.\n",
      "  _np_qint32 = np.dtype([(\"qint32\", np.int32, 1)])\n",
      "d:\\Anaconda3\\lib\\site-packages\\tensorflow\\python\\framework\\dtypes.py:532: FutureWarning: Passing (type, 1) or '1type' as a synonym of type is deprecated; in a future version of numpy, it will be understood as (type, (1,)) / '(1,)type'.\n",
      "  np_resource = np.dtype([(\"resource\", np.ubyte, 1)])\n"
     ]
    }
   ],
   "source": [
    "import keras"
   ]
  },
  {
   "cell_type": "code",
   "execution_count": 3,
   "metadata": {},
   "outputs": [
    {
     "data": {
      "text/plain": [
       "'2.2.4'"
      ]
     },
     "execution_count": 3,
     "metadata": {},
     "output_type": "execute_result"
    }
   ],
   "source": [
    "keras.__version__"
   ]
  },
  {
   "cell_type": "markdown",
   "metadata": {},
   "source": [
    "### MNIST 불러오기\n",
    "- C:\\Users\\name\\\\.keras\\datasets\\mnist.npz"
   ]
  },
  {
   "cell_type": "code",
   "execution_count": 4,
   "metadata": {},
   "outputs": [],
   "source": [
    "from keras.datasets import mnist"
   ]
  },
  {
   "cell_type": "code",
   "execution_count": 5,
   "metadata": {},
   "outputs": [
    {
     "name": "stdout",
     "output_type": "stream",
     "text": [
      "Downloading data from https://s3.amazonaws.com/img-datasets/mnist.npz\n",
      "11493376/11490434 [==============================] - 2s 0us/step\n"
     ]
    },
    {
     "data": {
      "text/plain": [
       "((60000, 28, 28), (60000,), (10000, 28, 28), (10000,))"
      ]
     },
     "execution_count": 5,
     "metadata": {},
     "output_type": "execute_result"
    }
   ],
   "source": [
    "(X_train, y_train), (X_test, y_test) = mnist.load_data()\n",
    "X_train.shape, y_train.shape, X_test.shape, y_test.shape"
   ]
  },
  {
   "cell_type": "code",
   "execution_count": 6,
   "metadata": {},
   "outputs": [
    {
     "data": {
      "text/plain": [
       "(255, 0)"
      ]
     },
     "execution_count": 6,
     "metadata": {},
     "output_type": "execute_result"
    }
   ],
   "source": [
    "X_train.max(), X_train.min()"
   ]
  },
  {
   "cell_type": "code",
   "execution_count": 7,
   "metadata": {},
   "outputs": [
    {
     "data": {
      "text/plain": [
       "<matplotlib.image.AxesImage at 0x21ed4441898>"
      ]
     },
     "execution_count": 7,
     "metadata": {},
     "output_type": "execute_result"
    },
    {
     "data": {
      "image/png": "[encoded data removed]",
      "text/plain": [
       "<matplotlib.figure.Figure at 0x21ecef35f98>"
      ]
     },
     "metadata": {},
     "output_type": "display_data"
    }
   ],
   "source": [
    "plt.imshow(X_train[0], cmap='gray_r')"
   ]
  },
  {
   "cell_type": "code",
   "execution_count": 8,
   "metadata": {},
   "outputs": [
    {
     "data": {
      "text/plain": [
       "array([5, 0, 4, ..., 5, 6, 8], dtype=uint8)"
      ]
     },
     "execution_count": 8,
     "metadata": {},
     "output_type": "execute_result"
    }
   ],
   "source": [
    "y_train"
   ]
  },
  {
   "cell_type": "markdown",
   "metadata": {},
   "source": [
    "### 데이터 전처리\n",
    "- 이미지를 1차원으로 풀고, 최대값이 1이 되게 실수값으로 바꾼다\n",
    "- 목표값을 원핫인코딩으로 바꾼다"
   ]
  },
  {
   "cell_type": "code",
   "execution_count": 9,
   "metadata": {},
   "outputs": [
    {
     "data": {
      "text/plain": [
       "((60000, 784), (10000, 784))"
      ]
     },
     "execution_count": 9,
     "metadata": {},
     "output_type": "execute_result"
    }
   ],
   "source": [
    "X_train = X_train.reshape(-1,28*28)/255.\n",
    "X_test = X_test.reshape(-1,28*28)/255.\n",
    "\n",
    "X_train.shape, X_test.shape"
   ]
  },
  {
   "cell_type": "code",
   "execution_count": 10,
   "metadata": {},
   "outputs": [
    {
     "data": {
      "text/plain": [
       "((60000, 10), (10000, 10))"
      ]
     },
     "execution_count": 10,
     "metadata": {},
     "output_type": "execute_result"
    }
   ],
   "source": [
    "y_train = np.eye(10)[y_train]\n",
    "y_test = np.eye(10)[y_test]\n",
    "#y_train = pd.get_dummies(y_train).values\n",
    "#y_test = pd.get_dummies(y_test).values\n",
    "\n",
    "y_train.shape, y_test.shape"
   ]
  },
  {
   "cell_type": "markdown",
   "metadata": {},
   "source": [
    "### MNIST 신경망 구조"
   ]
  },
  {
   "cell_type": "markdown",
   "metadata": {},
   "source": [
    "<img src='https://mmlind.github.io/images/1lnn_input.svg' />\n",
    "(출처: https://mmlind.github.io/Simple_1-Layer_Neural_Network_for_MNIST_Handwriting_Recognition/)\n",
    "> 그림에서 픽셀 갯수가 잘못 표기됨 (784가 맞음)"
   ]
  },
  {
   "cell_type": "markdown",
   "metadata": {},
   "source": [
    "<img src='https://mmlind.github.io/images/1lnn_nnlayer.svg' />\n",
    "(출처: https://mmlind.github.io/Simple_1-Layer_Neural_Network_for_MNIST_Handwriting_Recognition/)"
   ]
  },
  {
   "cell_type": "markdown",
   "metadata": {},
   "source": [
    "- 픽셀 수가 784 이므로 속성 갯수가 784인 경우이다.\n",
    "- w1, w2, w3, ..., w784, b\n",
    "- w1\\*x1 + w2\\*x2 + ... + w784\\*x784 + b"
   ]
  },
  {
   "cell_type": "markdown",
   "metadata": {},
   "source": [
    "<img src='https://mmlind.github.io/images/1lnn.svg' />\n",
    "(출처: https://mmlind.github.io/Simple_1-Layer_Neural_Network_for_MNIST_Handwriting_Recognition/)"
   ]
  },
  {
   "cell_type": "markdown",
   "metadata": {},
   "source": [
    "- 타겟 클래스가 10개이므로, 가중치와 절편이 그 만큼 늘어난다.\n",
    "- 클래스값 0 => w1_1, w2_1, ..., w784_1, b1\n",
    "- 클래스값 1 -> w1_2, w2_2, ..., w784_2, b2\n",
    "- 가중치갯수 = 784\\*10, 절편갯수 = 10"
   ]
  },
  {
   "cell_type": "markdown",
   "metadata": {},
   "source": [
    "<img src='https://mmlind.github.io/images/1lnn_full.svg' />\n",
    "(출처: https://mmlind.github.io/Simple_1-Layer_Neural_Network_for_MNIST_Handwriting_Recognition/)"
   ]
  },
  {
   "cell_type": "markdown",
   "metadata": {},
   "source": [
    "### 비용함수\n",
    "- 위와 같은 결과를 얻었을 때, 손실값을 어떻게 계산할까?\n",
    "- mse = (0.003126 - 0)^2 + ... + (0.682134 - 1)^2 + ...\n",
    "- 위와 같이 mse 를 적용할 수 있다.\n",
    "- 하지만, 이런 멀티 클래스의 경우에는 다른 손실값을 적용하는 것이 일반적이다.\n",
    "- 위 그림은 숫자 6을 판별한 것이다. 그러므로 결과값은 6 위치만 값이 1이다.\n",
    "> cross\\_entropy\\_i = -log(0.682134), 입력 이미지 1개에 대한 손실값\n",
    "- 모든 숫자 이미지에 대한 크로스엔트로피를 평균한 것이 최종값이다.\n",
    "> $ cross\\_entropy = {1 \\over N} \\sum_{i=0}^{N-1} {-log(cross\\_entropy\\_i)} $"
   ]
  },
  {
   "cell_type": "markdown",
   "metadata": {},
   "source": [
    "### 활성화함수 (소프트맥스)\n",
    "<img src='https://encrypted-tbn0.gstatic.com/images?q=tbn:ANd9GcQ6QRL4yW5p4j634dzSyjZWMWWCGXaU_MZVnqDq_HErnH5RCCIizQ' />\n",
    "(출처 : https://www.google.com/search?tbm=isch&sa=1&ei=VFNCXfrICcybmAWZw6_ACQ&q=mnist+softmax&oq=mnist+softmax&gs_l=img.3..0i24l3.528.3330..3872...0.0..1.585.3193.0j1j5j2j1j1......0....1..gws-wiz-img.uKr_Bjki0oA&ved=0ahUKEwj6wvvf1ODjAhXMDaYKHZnhC5gQ4dUDCAY&uact=5#imgrc=Bwc55tfbS2SjXM:)"
   ]
  },
  {
   "cell_type": "markdown",
   "metadata": {},
   "source": [
    "- 실제로는 위와 같이 마지막 출력값을 내기 전에 softmax 라는 함수를 적용하여 출력값을 바꾸어 준다."
   ]
  },
  {
   "cell_type": "markdown",
   "metadata": {},
   "source": [
    "<img src='https://i.ytimg.com/vi/lvNdl7yg4Pg/maxresdefault.jpg' />\n",
    "(출처: https://www.youtube.com/watch?v=lvNdl7yg4Pg)"
   ]
  },
  {
   "cell_type": "markdown",
   "metadata": {},
   "source": [
    "- 출력값이 [2,1,0.1] 일때, 각각에 exponential 지수를 적용한 값의 비율을 구한 것이 softmax 이다.\n",
    "- softmax 를 적용하면 최종 출력값을 모두 더하면 1이 된다. (즉 확률 개념이 된다.)"
   ]
  },
  {
   "cell_type": "markdown",
   "metadata": {},
   "source": [
    "<img src='mnist_nn.jpg' />\n",
    "(출처: http://users.jyu.fi/~olkhriye/ties4911/lectures/Lecture03.pdf )<br>\n",
    "<img src='https://image.slidesharecdn.com/tensorflowppt-160408142819/95/tensorflow-5-638.jpg?cb=1460125744' />\n",
    "(출처: https://www.slideshare.net/jirimaterna/tensorflow-60661959 )"
   ]
  },
  {
   "cell_type": "markdown",
   "metadata": {},
   "source": [
    "### 단층 신경망 (로지스틱 회귀)\n",
    "- 입력층 : 이미지\n",
    "- 중간층 : 없음\n",
    "- 출력층 : 뉴런 10개\n",
    "- 출력층 활성화함수 : 소프트맥스\n",
    "- 비용함수 : 크로스엔트로피"
   ]
  },
  {
   "cell_type": "code",
   "execution_count": 11,
   "metadata": {},
   "outputs": [],
   "source": [
    "from keras.models import Sequential\n",
    "from keras.layers import Dense\n",
    "from keras.optimizers import SGD, RMSprop, Adagrad"
   ]
  },
  {
   "cell_type": "code",
   "execution_count": 12,
   "metadata": {},
   "outputs": [],
   "source": [
    "model = Sequential()\n",
    "model.add(Dense(10, input_shape=(784,), activation='softmax'))"
   ]
  },
  {
   "cell_type": "code",
   "execution_count": 13,
   "metadata": {},
   "outputs": [
    {
     "name": "stdout",
     "output_type": "stream",
     "text": [
      "Epoch 1/100\n",
      "60000/60000 [==============================] - 2s 28us/step - loss: 0.4386 - acc: 0.8825\n",
      "Epoch 2/100\n",
      "60000/60000 [==============================] - 1s 24us/step - loss: 0.3015 - acc: 0.9156\n",
      "Epoch 3/100\n",
      "60000/60000 [==============================] - 1s 24us/step - loss: 0.2891 - acc: 0.9202\n",
      "Epoch 4/100\n",
      "60000/60000 [==============================] - 1s 23us/step - loss: 0.2834 - acc: 0.9238\n",
      "Epoch 5/100\n",
      "60000/60000 [==============================] - 1s 23us/step - loss: 0.2802 - acc: 0.9250\n",
      "Epoch 6/100\n",
      "60000/60000 [==============================] - 1s 23us/step - loss: 0.2794 - acc: 0.9257\n",
      "Epoch 7/100\n",
      "60000/60000 [==============================] - 1s 23us/step - loss: 0.2785 - acc: 0.9273\n",
      "Epoch 8/100\n",
      "60000/60000 [==============================] - 1s 23us/step - loss: 0.2786 - acc: 0.9278\n",
      "Epoch 9/100\n",
      "60000/60000 [==============================] - 1s 23us/step - loss: 0.2777 - acc: 0.9290\n",
      "Epoch 10/100\n",
      "60000/60000 [==============================] - 1s 23us/step - loss: 0.2780 - acc: 0.9289\n",
      "Epoch 11/100\n",
      "60000/60000 [==============================] - 2s 27us/step - loss: 0.2783 - acc: 0.9296\n",
      "Epoch 12/100\n",
      "60000/60000 [==============================] - 2s 26us/step - loss: 0.2780 - acc: 0.9302\n",
      "Epoch 13/100\n",
      "60000/60000 [==============================] - 1s 22us/step - loss: 0.2783 - acc: 0.9307\n",
      "Epoch 14/100\n",
      "60000/60000 [==============================] - 1s 21us/step - loss: 0.2790 - acc: 0.9307\n",
      "Epoch 15/100\n",
      "60000/60000 [==============================] - 1s 22us/step - loss: 0.2794 - acc: 0.9309\n",
      "Epoch 16/100\n",
      "60000/60000 [==============================] - 1s 22us/step - loss: 0.2795 - acc: 0.9311\n",
      "Epoch 17/100\n",
      "60000/60000 [==============================] - 1s 21us/step - loss: 0.2799 - acc: 0.9314\n",
      "Epoch 18/100\n",
      "60000/60000 [==============================] - 1s 21us/step - loss: 0.2802 - acc: 0.9316\n",
      "Epoch 19/100\n",
      "60000/60000 [==============================] - 1s 21us/step - loss: 0.2807 - acc: 0.9317\n",
      "Epoch 20/100\n",
      "60000/60000 [==============================] - 1s 22us/step - loss: 0.2808 - acc: 0.9323\n",
      "Epoch 21/100\n",
      "60000/60000 [==============================] - 1s 22us/step - loss: 0.2814 - acc: 0.9315\n",
      "Epoch 22/100\n",
      "60000/60000 [==============================] - 1s 22us/step - loss: 0.2818 - acc: 0.9323\n",
      "Epoch 23/100\n",
      "60000/60000 [==============================] - 1s 22us/step - loss: 0.2821 - acc: 0.9325\n",
      "Epoch 24/100\n",
      "60000/60000 [==============================] - 1s 22us/step - loss: 0.2825 - acc: 0.9328\n",
      "Epoch 25/100\n",
      "60000/60000 [==============================] - 1s 22us/step - loss: 0.2828 - acc: 0.9325\n",
      "Epoch 26/100\n",
      "60000/60000 [==============================] - 1s 22us/step - loss: 0.2829 - acc: 0.9333\n",
      "Epoch 27/100\n",
      "60000/60000 [==============================] - 1s 22us/step - loss: 0.2838 - acc: 0.9328\n",
      "Epoch 28/100\n",
      "60000/60000 [==============================] - 1s 23us/step - loss: 0.2835 - acc: 0.9329\n",
      "Epoch 29/100\n",
      "60000/60000 [==============================] - 1s 22us/step - loss: 0.2839 - acc: 0.9331\n",
      "Epoch 30/100\n",
      "60000/60000 [==============================] - 1s 22us/step - loss: 0.2845 - acc: 0.9326\n",
      "Epoch 31/100\n",
      "60000/60000 [==============================] - 1s 22us/step - loss: 0.2847 - acc: 0.9335\n",
      "Epoch 32/100\n",
      "60000/60000 [==============================] - 1s 22us/step - loss: 0.2850 - acc: 0.9329\n",
      "Epoch 33/100\n",
      "60000/60000 [==============================] - 1s 22us/step - loss: 0.2854 - acc: 0.9338\n",
      "Epoch 34/100\n",
      "60000/60000 [==============================] - 1s 22us/step - loss: 0.2860 - acc: 0.9341\n",
      "Epoch 35/100\n",
      "60000/60000 [==============================] - 1s 22us/step - loss: 0.2858 - acc: 0.9338\n",
      "Epoch 36/100\n",
      "60000/60000 [==============================] - 1s 22us/step - loss: 0.2865 - acc: 0.9337\n",
      "Epoch 37/100\n",
      "60000/60000 [==============================] - 1s 23us/step - loss: 0.2869 - acc: 0.9333\n",
      "Epoch 38/100\n",
      "60000/60000 [==============================] - 1s 24us/step - loss: 0.2872 - acc: 0.9339\n",
      "Epoch 39/100\n",
      "60000/60000 [==============================] - 1s 24us/step - loss: 0.2876 - acc: 0.9337\n",
      "Epoch 40/100\n",
      "60000/60000 [==============================] - 1s 24us/step - loss: 0.2873 - acc: 0.9343\n",
      "Epoch 41/100\n",
      "60000/60000 [==============================] - 1s 24us/step - loss: 0.2880 - acc: 0.9342\n",
      "Epoch 42/100\n",
      "60000/60000 [==============================] - 1s 24us/step - loss: 0.2878 - acc: 0.9343\n",
      "Epoch 43/100\n",
      "60000/60000 [==============================] - 1s 24us/step - loss: 0.2883 - acc: 0.9342\n",
      "Epoch 44/100\n",
      "60000/60000 [==============================] - 1s 24us/step - loss: 0.2878 - acc: 0.9344\n",
      "Epoch 45/100\n",
      "60000/60000 [==============================] - 1s 24us/step - loss: 0.2891 - acc: 0.9337\n",
      "Epoch 46/100\n",
      "60000/60000 [==============================] - 1s 24us/step - loss: 0.2887 - acc: 0.9344\n",
      "Epoch 47/100\n",
      "60000/60000 [==============================] - 1s 24us/step - loss: 0.2892 - acc: 0.9347\n",
      "Epoch 48/100\n",
      "60000/60000 [==============================] - 1s 24us/step - loss: 0.2893 - acc: 0.9344\n",
      "Epoch 49/100\n",
      "60000/60000 [==============================] - 1s 24us/step - loss: 0.2892 - acc: 0.9346\n",
      "Epoch 50/100\n",
      "60000/60000 [==============================] - 1s 24us/step - loss: 0.2901 - acc: 0.9341\n",
      "Epoch 51/100\n",
      "60000/60000 [==============================] - 1s 24us/step - loss: 0.2898 - acc: 0.9348\n",
      "Epoch 52/100\n",
      "60000/60000 [==============================] - 1s 24us/step - loss: 0.2901 - acc: 0.9350\n",
      "Epoch 53/100\n",
      "60000/60000 [==============================] - 1s 24us/step - loss: 0.2897 - acc: 0.9347\n",
      "Epoch 54/100\n",
      "60000/60000 [==============================] - 1s 24us/step - loss: 0.2903 - acc: 0.9345\n",
      "Epoch 55/100\n",
      "60000/60000 [==============================] - 1s 24us/step - loss: 0.2906 - acc: 0.9346\n",
      "Epoch 56/100\n",
      "60000/60000 [==============================] - 1s 24us/step - loss: 0.2911 - acc: 0.9349\n",
      "Epoch 57/100\n",
      "60000/60000 [==============================] - 1s 24us/step - loss: 0.2908 - acc: 0.9354\n",
      "Epoch 58/100\n",
      "60000/60000 [==============================] - 1s 24us/step - loss: 0.2909 - acc: 0.9352\n",
      "Epoch 59/100\n",
      "60000/60000 [==============================] - 1s 24us/step - loss: 0.2915 - acc: 0.9351\n",
      "Epoch 60/100\n",
      "60000/60000 [==============================] - 1s 24us/step - loss: 0.2914 - acc: 0.9349\n",
      "Epoch 61/100\n",
      "60000/60000 [==============================] - 1s 24us/step - loss: 0.2916 - acc: 0.9352\n",
      "Epoch 62/100\n",
      "60000/60000 [==============================] - 1s 25us/step - loss: 0.2922 - acc: 0.9343\n",
      "Epoch 63/100\n",
      "60000/60000 [==============================] - 1s 24us/step - loss: 0.2921 - acc: 0.9353\n",
      "Epoch 64/100\n",
      "60000/60000 [==============================] - 1s 25us/step - loss: 0.2923 - acc: 0.9354\n",
      "Epoch 65/100\n",
      "60000/60000 [==============================] - 1s 24us/step - loss: 0.2926 - acc: 0.9349\n",
      "Epoch 66/100\n",
      "60000/60000 [==============================] - 1s 24us/step - loss: 0.2924 - acc: 0.9349\n",
      "Epoch 67/100\n",
      "60000/60000 [==============================] - 1s 24us/step - loss: 0.2928 - acc: 0.9352\n",
      "Epoch 68/100\n",
      "60000/60000 [==============================] - 1s 24us/step - loss: 0.2932 - acc: 0.9359\n",
      "Epoch 69/100\n",
      "60000/60000 [==============================] - 1s 24us/step - loss: 0.2929 - acc: 0.9352\n",
      "Epoch 70/100\n",
      "60000/60000 [==============================] - 1s 24us/step - loss: 0.2929 - acc: 0.9352\n",
      "Epoch 71/100\n",
      "60000/60000 [==============================] - 1s 24us/step - loss: 0.2932 - acc: 0.9355\n",
      "Epoch 72/100\n",
      "60000/60000 [==============================] - 1s 24us/step - loss: 0.2934 - acc: 0.9353\n",
      "Epoch 73/100\n",
      "60000/60000 [==============================] - 1s 24us/step - loss: 0.2936 - acc: 0.9355\n",
      "Epoch 74/100\n",
      "60000/60000 [==============================] - 2s 27us/step - loss: 0.2940 - acc: 0.9353\n",
      "Epoch 75/100\n",
      "60000/60000 [==============================] - 1s 24us/step - loss: 0.2942 - acc: 0.9354\n",
      "Epoch 76/100\n",
      "60000/60000 [==============================] - 1s 24us/step - loss: 0.2938 - acc: 0.9353\n",
      "Epoch 77/100\n",
      "60000/60000 [==============================] - 1s 24us/step - loss: 0.2945 - acc: 0.9357\n",
      "Epoch 78/100\n",
      "60000/60000 [==============================] - 1s 24us/step - loss: 0.2943 - acc: 0.9362\n",
      "Epoch 79/100\n",
      "60000/60000 [==============================] - 1s 24us/step - loss: 0.2947 - acc: 0.9356\n",
      "Epoch 80/100\n",
      "60000/60000 [==============================] - 1s 24us/step - loss: 0.2948 - acc: 0.9358\n",
      "Epoch 81/100\n"
     ]
    },
    {
     "name": "stdout",
     "output_type": "stream",
     "text": [
      "60000/60000 [==============================] - 1s 23us/step - loss: 0.2950 - acc: 0.9354\n",
      "Epoch 82/100\n",
      "60000/60000 [==============================] - 1s 24us/step - loss: 0.2954 - acc: 0.9362\n",
      "Epoch 83/100\n",
      "60000/60000 [==============================] - 1s 23us/step - loss: 0.2951 - acc: 0.9358\n",
      "Epoch 84/100\n",
      "60000/60000 [==============================] - 1s 23us/step - loss: 0.2952 - acc: 0.9355\n",
      "Epoch 85/100\n",
      "60000/60000 [==============================] - 1s 24us/step - loss: 0.2960 - acc: 0.9353\n",
      "Epoch 86/100\n",
      "60000/60000 [==============================] - 1s 23us/step - loss: 0.2958 - acc: 0.9361\n",
      "Epoch 87/100\n",
      "60000/60000 [==============================] - 1s 23us/step - loss: 0.2961 - acc: 0.9356\n",
      "Epoch 88/100\n",
      "60000/60000 [==============================] - 1s 24us/step - loss: 0.2965 - acc: 0.9359\n",
      "Epoch 89/100\n",
      "60000/60000 [==============================] - 1s 23us/step - loss: 0.2959 - acc: 0.9356\n",
      "Epoch 90/100\n",
      "60000/60000 [==============================] - 1s 24us/step - loss: 0.2968 - acc: 0.9360\n",
      "Epoch 91/100\n",
      "60000/60000 [==============================] - 1s 23us/step - loss: 0.2960 - acc: 0.9364\n",
      "Epoch 92/100\n",
      "60000/60000 [==============================] - 1s 23us/step - loss: 0.2966 - acc: 0.9356\n",
      "Epoch 93/100\n",
      "60000/60000 [==============================] - 1s 23us/step - loss: 0.2968 - acc: 0.9357\n",
      "Epoch 94/100\n",
      "60000/60000 [==============================] - 1s 24us/step - loss: 0.2966 - acc: 0.9360\n",
      "Epoch 95/100\n",
      "60000/60000 [==============================] - 1s 24us/step - loss: 0.2971 - acc: 0.9362\n",
      "Epoch 96/100\n",
      "60000/60000 [==============================] - 1s 22us/step - loss: 0.2972 - acc: 0.9365\n",
      "Epoch 97/100\n",
      "60000/60000 [==============================] - 1s 22us/step - loss: 0.2976 - acc: 0.9362\n",
      "Epoch 98/100\n",
      "60000/60000 [==============================] - 1s 23us/step - loss: 0.2973 - acc: 0.9359\n",
      "Epoch 99/100\n",
      "60000/60000 [==============================] - 1s 23us/step - loss: 0.2975 - acc: 0.9363\n",
      "Epoch 100/100\n",
      "60000/60000 [==============================] - 1s 23us/step - loss: 0.2976 - acc: 0.9360\n"
     ]
    },
    {
     "data": {
      "text/plain": [
       "<keras.callbacks.History at 0x21ecef7e5f8>"
      ]
     },
     "execution_count": 13,
     "metadata": {},
     "output_type": "execute_result"
    }
   ],
   "source": [
    "model.compile(loss='categorical_crossentropy', optimizer='rmsprop',\n",
    "              metrics=['acc'])\n",
    "model.fit(X_train, y_train, epochs=100)"
   ]
  },
  {
   "cell_type": "code",
   "execution_count": 14,
   "metadata": {},
   "outputs": [
    {
     "data": {
      "text/plain": [
       "[<matplotlib.lines.Line2D at 0x21ecf79cd30>]"
      ]
     },
     "execution_count": 14,
     "metadata": {},
     "output_type": "execute_result"
    },
    {
     "data": {
      "image/png": "[encoded data removed]",
      "text/plain": [
       "<matplotlib.figure.Figure at 0x21ecef8b390>"
      ]
     },
     "metadata": {},
     "output_type": "display_data"
    }
   ],
   "source": [
    "plt.plot(model.history.history['loss'])"
   ]
  },
  {
   "cell_type": "code",
   "execution_count": 15,
   "metadata": {},
   "outputs": [
    {
     "data": {
      "text/plain": [
       "[<matplotlib.lines.Line2D at 0x21ecf8151d0>]"
      ]
     },
     "execution_count": 15,
     "metadata": {},
     "output_type": "execute_result"
    },
    {
     "data": {
      "image/png": "[encoded data removed]",
      "text/plain": [
       "<matplotlib.figure.Figure at 0x21ecf6615f8>"
      ]
     },
     "metadata": {},
     "output_type": "display_data"
    }
   ],
   "source": [
    "plt.plot(model.history.history['acc'])"
   ]
  },
  {
   "cell_type": "code",
   "execution_count": 16,
   "metadata": {},
   "outputs": [
    {
     "data": {
      "text/plain": [
       "array([[1.6580374e-12, 3.5414197e-25, 2.8345096e-15, ..., 9.9999499e-01,\n",
       "        3.1966823e-12, 4.9539672e-06],\n",
       "       [5.2207452e-07, 6.4505845e-11, 9.9999857e-01, ..., 0.0000000e+00,\n",
       "        1.9147509e-16, 0.0000000e+00],\n",
       "       [3.5569255e-13, 9.9792826e-01, 1.6127108e-03, ..., 1.1921506e-09,\n",
       "        2.7991162e-04, 7.6761333e-11],\n",
       "       ...,\n",
       "       [9.0618417e-17, 7.2113645e-20, 2.0706011e-15, ..., 7.6496269e-04,\n",
       "        5.4595876e-03, 6.0892891e-02],\n",
       "       [2.6544172e-19, 1.7288271e-16, 2.0622212e-19, ..., 1.3764121e-17,\n",
       "        4.4585418e-04, 1.1511590e-17],\n",
       "       [2.7478596e-15, 1.9892237e-37, 1.8620081e-13, ..., 5.1154101e-26,\n",
       "        3.4942927e-19, 3.6636731e-29]], dtype=float32)"
      ]
     },
     "execution_count": 16,
     "metadata": {},
     "output_type": "execute_result"
    }
   ],
   "source": [
    "pred_y = model.predict(X_test)\n",
    "pred_y"
   ]
  },
  {
   "cell_type": "code",
   "execution_count": 17,
   "metadata": {},
   "outputs": [
    {
     "data": {
      "text/plain": [
       "0.9244"
      ]
     },
     "execution_count": 17,
     "metadata": {},
     "output_type": "execute_result"
    }
   ],
   "source": [
    "(pred_y.argmax(axis=1)==y_test.argmax(axis=1)).mean()"
   ]
  },
  {
   "cell_type": "code",
   "execution_count": 18,
   "metadata": {},
   "outputs": [
    {
     "data": {
      "text/plain": [
       "((784, 10), (10,))"
      ]
     },
     "execution_count": 18,
     "metadata": {},
     "output_type": "execute_result"
    }
   ],
   "source": [
    "ws = model.get_weights()\n",
    "ws[0].shape, ws[1].shape"
   ]
  },
  {
   "cell_type": "code",
   "execution_count": 19,
   "metadata": {},
   "outputs": [
    {
     "data": {
      "image/png": "[encoded data removed]",
      "text/plain": [
       "<matplotlib.figure.Figure at 0x21ecf828d30>"
      ]
     },
     "metadata": {},
     "output_type": "display_data"
    }
   ],
   "source": [
    "plt.figure(figsize=[12,10])\n",
    "\n",
    "for i in range(10):\n",
    "    plt.subplot(3,4,i+1)\n",
    "    plt.imshow(ws[0][:,i].reshape(28,28), cmap='bwr')\n",
    "    plt.axis('off')\n",
    "    plt.title(i)\n",
    "    plt.colorbar()"
   ]
  },
  {
   "cell_type": "markdown",
   "metadata": {},
   "source": [
    "### 중간층 추가"
   ]
  },
  {
   "cell_type": "code",
   "execution_count": 29,
   "metadata": {},
   "outputs": [],
   "source": [
    "model = Sequential()\n",
    "model.add(Dense(128, activation='relu', input_shape=(784,)))\n",
    "model.add(Dense(256, activation='relu'))\n",
    "model.add(Dense(256, activation='relu'))\n",
    "model.add(Dense(10, activation='softmax'))"
   ]
  },
  {
   "cell_type": "code",
   "execution_count": 30,
   "metadata": {},
   "outputs": [
    {
     "name": "stdout",
     "output_type": "stream",
     "text": [
      "_________________________________________________________________\n",
      "Layer (type)                 Output Shape              Param #   \n",
      "=================================================================\n",
      "dense_14 (Dense)             (None, 128)               100480    \n",
      "_________________________________________________________________\n",
      "dense_15 (Dense)             (None, 256)               33024     \n",
      "_________________________________________________________________\n",
      "dense_16 (Dense)             (None, 256)               65792     \n",
      "_________________________________________________________________\n",
      "dense_17 (Dense)             (None, 10)                2570      \n",
      "=================================================================\n",
      "Total params: 201,866\n",
      "Trainable params: 201,866\n",
      "Non-trainable params: 0\n",
      "_________________________________________________________________\n"
     ]
    }
   ],
   "source": [
    "model.summary()"
   ]
  },
  {
   "cell_type": "code",
   "execution_count": 31,
   "metadata": {},
   "outputs": [
    {
     "data": {
      "text/plain": [
       "375.0"
      ]
     },
     "execution_count": 31,
     "metadata": {},
     "output_type": "execute_result"
    }
   ],
   "source": [
    "48000/128"
   ]
  },
  {
   "cell_type": "code",
   "execution_count": 32,
   "metadata": {},
   "outputs": [
    {
     "name": "stdout",
     "output_type": "stream",
     "text": [
      "Train on 48000 samples, validate on 12000 samples\n",
      "Epoch 1/50\n",
      "48000/48000 [==============================] - 2s 44us/step - loss: 0.3131 - acc: 0.9047 - val_loss: 0.1776 - val_acc: 0.9476\n",
      "Epoch 2/50\n",
      "48000/48000 [==============================] - 2s 52us/step - loss: 0.1238 - acc: 0.9621 - val_loss: 0.1054 - val_acc: 0.9692\n",
      "Epoch 3/50\n",
      "48000/48000 [==============================] - 2s 44us/step - loss: 0.0843 - acc: 0.9739 - val_loss: 0.0930 - val_acc: 0.9734\n",
      "Epoch 4/50\n",
      "48000/48000 [==============================] - 2s 37us/step - loss: 0.0607 - acc: 0.9805 - val_loss: 0.1007 - val_acc: 0.9730\n",
      "Epoch 5/50\n",
      "48000/48000 [==============================] - 2s 37us/step - loss: 0.0483 - acc: 0.9852 - val_loss: 0.0908 - val_acc: 0.9770\n",
      "Epoch 6/50\n",
      "48000/48000 [==============================] - 2s 38us/step - loss: 0.0375 - acc: 0.9882 - val_loss: 0.1078 - val_acc: 0.9742\n",
      "Epoch 7/50\n",
      "48000/48000 [==============================] - 2s 38us/step - loss: 0.0304 - acc: 0.9903 - val_loss: 0.1042 - val_acc: 0.9752\n",
      "Epoch 8/50\n",
      "48000/48000 [==============================] - 2s 37us/step - loss: 0.0251 - acc: 0.9914 - val_loss: 0.1009 - val_acc: 0.9771\n",
      "Epoch 9/50\n",
      "48000/48000 [==============================] - 2s 39us/step - loss: 0.0212 - acc: 0.9928 - val_loss: 0.1373 - val_acc: 0.9739\n",
      "Epoch 10/50\n",
      "48000/48000 [==============================] - 2s 37us/step - loss: 0.0188 - acc: 0.9944 - val_loss: 0.1440 - val_acc: 0.9719\n",
      "Epoch 11/50\n",
      "48000/48000 [==============================] - 2s 38us/step - loss: 0.0155 - acc: 0.9948 - val_loss: 0.1346 - val_acc: 0.9763\n",
      "Epoch 12/50\n",
      "48000/48000 [==============================] - 2s 38us/step - loss: 0.0154 - acc: 0.9952 - val_loss: 0.1416 - val_acc: 0.9754\n",
      "Epoch 13/50\n",
      "48000/48000 [==============================] - 2s 38us/step - loss: 0.0125 - acc: 0.9960 - val_loss: 0.1489 - val_acc: 0.9751\n",
      "Epoch 14/50\n",
      "48000/48000 [==============================] - 2s 38us/step - loss: 0.0127 - acc: 0.9960 - val_loss: 0.1393 - val_acc: 0.9768\n",
      "Epoch 15/50\n",
      "48000/48000 [==============================] - 2s 38us/step - loss: 0.0111 - acc: 0.9967 - val_loss: 0.1515 - val_acc: 0.9749\n",
      "Epoch 16/50\n",
      "48000/48000 [==============================] - 2s 37us/step - loss: 0.0099 - acc: 0.9969 - val_loss: 0.1672 - val_acc: 0.9735\n",
      "Epoch 17/50\n",
      "48000/48000 [==============================] - 2s 38us/step - loss: 0.0094 - acc: 0.9971 - val_loss: 0.1745 - val_acc: 0.9750\n",
      "Epoch 18/50\n",
      "48000/48000 [==============================] - 2s 37us/step - loss: 0.0094 - acc: 0.9971 - val_loss: 0.1638 - val_acc: 0.9754\n",
      "Epoch 19/50\n",
      "48000/48000 [==============================] - 2s 38us/step - loss: 0.0100 - acc: 0.9973 - val_loss: 0.1616 - val_acc: 0.9757\n",
      "Epoch 20/50\n",
      "48000/48000 [==============================] - 2s 37us/step - loss: 0.0083 - acc: 0.9974 - val_loss: 0.1972 - val_acc: 0.9748\n",
      "Epoch 21/50\n",
      "48000/48000 [==============================] - 2s 38us/step - loss: 0.0063 - acc: 0.9981 - val_loss: 0.1928 - val_acc: 0.9760\n",
      "Epoch 22/50\n",
      "48000/48000 [==============================] - 2s 38us/step - loss: 0.0094 - acc: 0.9976 - val_loss: 0.1741 - val_acc: 0.9763\n",
      "Epoch 23/50\n",
      "48000/48000 [==============================] - 2s 38us/step - loss: 0.0082 - acc: 0.9980 - val_loss: 0.1878 - val_acc: 0.9758\n",
      "Epoch 24/50\n",
      "48000/48000 [==============================] - 2s 37us/step - loss: 0.0083 - acc: 0.9978 - val_loss: 0.1647 - val_acc: 0.9787\n",
      "Epoch 25/50\n",
      "48000/48000 [==============================] - 2s 38us/step - loss: 0.0054 - acc: 0.9986 - val_loss: 0.2075 - val_acc: 0.9758\n",
      "Epoch 26/50\n",
      "48000/48000 [==============================] - 2s 38us/step - loss: 0.0077 - acc: 0.9981 - val_loss: 0.1801 - val_acc: 0.9787\n",
      "Epoch 27/50\n",
      "48000/48000 [==============================] - 2s 38us/step - loss: 0.0063 - acc: 0.9984 - val_loss: 0.1935 - val_acc: 0.9763\n",
      "Epoch 28/50\n",
      "48000/48000 [==============================] - 2s 37us/step - loss: 0.0060 - acc: 0.9986 - val_loss: 0.2074 - val_acc: 0.9768\n",
      "Epoch 29/50\n",
      "48000/48000 [==============================] - 2s 38us/step - loss: 0.0072 - acc: 0.9979 - val_loss: 0.2051 - val_acc: 0.9766\n",
      "Epoch 30/50\n",
      "48000/48000 [==============================] - 2s 37us/step - loss: 0.0064 - acc: 0.9982 - val_loss: 0.2187 - val_acc: 0.9761\n",
      "Epoch 31/50\n",
      "48000/48000 [==============================] - 2s 38us/step - loss: 0.0070 - acc: 0.9983 - val_loss: 0.2004 - val_acc: 0.9771\n",
      "Epoch 32/50\n",
      "48000/48000 [==============================] - 2s 38us/step - loss: 0.0062 - acc: 0.9987 - val_loss: 0.1876 - val_acc: 0.9801\n",
      "Epoch 33/50\n",
      "48000/48000 [==============================] - 2s 38us/step - loss: 0.0059 - acc: 0.9986 - val_loss: 0.1938 - val_acc: 0.9797\n",
      "Epoch 34/50\n",
      "48000/48000 [==============================] - 2s 37us/step - loss: 0.0052 - acc: 0.9988 - val_loss: 0.2110 - val_acc: 0.9773\n",
      "Epoch 35/50\n",
      "48000/48000 [==============================] - 2s 38us/step - loss: 0.0051 - acc: 0.9986 - val_loss: 0.2077 - val_acc: 0.9783\n",
      "Epoch 36/50\n",
      "48000/48000 [==============================] - 2s 42us/step - loss: 0.0037 - acc: 0.9988 - val_loss: 0.2236 - val_acc: 0.9768\n",
      "Epoch 37/50\n",
      "48000/48000 [==============================] - 2s 43us/step - loss: 0.0048 - acc: 0.9987 - val_loss: 0.1996 - val_acc: 0.9790\n",
      "Epoch 38/50\n",
      "48000/48000 [==============================] - 2s 46us/step - loss: 0.0047 - acc: 0.9989 - val_loss: 0.2140 - val_acc: 0.9782\n",
      "Epoch 39/50\n",
      "48000/48000 [==============================] - 2s 43us/step - loss: 0.0057 - acc: 0.9986 - val_loss: 0.2233 - val_acc: 0.9776\n",
      "Epoch 40/50\n",
      "48000/48000 [==============================] - 2s 45us/step - loss: 0.0037 - acc: 0.9991 - val_loss: 0.2243 - val_acc: 0.9766\n",
      "Epoch 41/50\n",
      "48000/48000 [==============================] - 2s 43us/step - loss: 0.0055 - acc: 0.9989 - val_loss: 0.2242 - val_acc: 0.9775\n",
      "Epoch 42/50\n",
      "48000/48000 [==============================] - 2s 43us/step - loss: 0.0065 - acc: 0.9986 - val_loss: 0.2398 - val_acc: 0.9750\n",
      "Epoch 43/50\n",
      "48000/48000 [==============================] - 2s 43us/step - loss: 0.0060 - acc: 0.9989 - val_loss: 0.2099 - val_acc: 0.9787\n",
      "Epoch 44/50\n",
      "48000/48000 [==============================] - 2s 43us/step - loss: 0.0061 - acc: 0.9986 - val_loss: 0.2169 - val_acc: 0.9777\n",
      "Epoch 45/50\n",
      "48000/48000 [==============================] - 2s 43us/step - loss: 0.0029 - acc: 0.9994 - val_loss: 0.2420 - val_acc: 0.9772\n",
      "Epoch 46/50\n",
      "48000/48000 [==============================] - 2s 43us/step - loss: 0.0057 - acc: 0.9987 - val_loss: 0.2677 - val_acc: 0.9735\n",
      "Epoch 47/50\n",
      "48000/48000 [==============================] - 2s 43us/step - loss: 0.0043 - acc: 0.9989 - val_loss: 0.2390 - val_acc: 0.9776\n",
      "Epoch 48/50\n",
      "48000/48000 [==============================] - 2s 45us/step - loss: 0.0039 - acc: 0.9992 - val_loss: 0.2151 - val_acc: 0.9788\n",
      "Epoch 49/50\n",
      "48000/48000 [==============================] - 2s 43us/step - loss: 0.0051 - acc: 0.9989 - val_loss: 0.2469 - val_acc: 0.9757\n",
      "Epoch 50/50\n",
      "48000/48000 [==============================] - 2s 43us/step - loss: 0.0041 - acc: 0.9991 - val_loss: 0.2244 - val_acc: 0.9782\n"
     ]
    },
    {
     "data": {
      "text/plain": [
       "<keras.callbacks.History at 0x2746af5eef0>"
      ]
     },
     "execution_count": 32,
     "metadata": {},
     "output_type": "execute_result"
    }
   ],
   "source": [
    "model.compile(loss='categorical_crossentropy', optimizer='rmsprop',\n",
    "              metrics=['acc'])\n",
    "model.fit(X_train, y_train, epochs=50, batch_size=128, validation_split=0.2)"
   ]
  },
  {
   "cell_type": "code",
   "execution_count": 33,
   "metadata": {},
   "outputs": [
    {
     "data": {
      "text/plain": [
       "<matplotlib.legend.Legend at 0x2746d8df0f0>"
      ]
     },
     "execution_count": 33,
     "metadata": {},
     "output_type": "execute_result"
    },
    {
     "data": {
      "image/png": "[encoded data removed]",
      "text/plain": [
       "<matplotlib.figure.Figure at 0x2746d8aff28>"
      ]
     },
     "metadata": {},
     "output_type": "display_data"
    }
   ],
   "source": [
    "plt.plot(model.history.history['loss'])\n",
    "plt.plot(model.history.history['val_loss'])\n",
    "plt.title('Loss')\n",
    "plt.xlabel('epoch')\n",
    "plt.legend(['loss','val_loss'])"
   ]
  },
  {
   "cell_type": "code",
   "execution_count": 34,
   "metadata": {},
   "outputs": [
    {
     "data": {
      "text/plain": [
       "<matplotlib.legend.Legend at 0x2746d94a828>"
      ]
     },
     "execution_count": 34,
     "metadata": {},
     "output_type": "execute_result"
    },
    {
     "data": {
      "image/png": "[encoded data removed]",
      "text/plain": [
       "<matplotlib.figure.Figure at 0x2746d4182b0>"
      ]
     },
     "metadata": {},
     "output_type": "display_data"
    }
   ],
   "source": [
    "plt.plot(model.history.history['acc'])\n",
    "plt.plot(model.history.history['val_acc'])\n",
    "plt.title('Accuracy')\n",
    "plt.xlabel('epoch')\n",
    "plt.legend(['acc','val_acc'])"
   ]
  },
  {
   "cell_type": "markdown",
   "metadata": {},
   "source": [
    "- 미니배치 : 훈련데이터를 일정한 갯수만큼 나누어 훈련시키고 가중치를 업데이트한다 (batch_size=128)\n",
    "- 검증데이터 : 훈련데이터 중 일부를 검증을 위해 따로 떼어놓고 loss 와 acc 를 별도로 계산한다\n",
    "    - validation_split\n",
    "    - validation_data"
   ]
  },
  {
   "cell_type": "code",
   "execution_count": 30,
   "metadata": {
    "collapsed": true
   },
   "outputs": [
    {
     "name": "stdout",
     "output_type": "stream",
     "text": [
      "Help on method fit in module keras.engine.training:\n",
      "\n",
      "fit(x=None, y=None, batch_size=None, epochs=1, verbose=1, callbacks=None, validation_split=0.0, validation_data=None, shuffle=True, class_weight=None, sample_weight=None, initial_epoch=0, steps_per_epoch=None, validation_steps=None, **kwargs) method of keras.engine.sequential.Sequential instance\n",
      "    Trains the model for a given number of epochs (iterations on a dataset).\n",
      "    \n",
      "    # Arguments\n",
      "        x: Numpy array of training data (if the model has a single input),\n",
      "            or list of Numpy arrays (if the model has multiple inputs).\n",
      "            If input layers in the model are named, you can also pass a\n",
      "            dictionary mapping input names to Numpy arrays.\n",
      "            `x` can be `None` (default) if feeding from\n",
      "            framework-native tensors (e.g. TensorFlow data tensors).\n",
      "        y: Numpy array of target (label) data\n",
      "            (if the model has a single output),\n",
      "            or list of Numpy arrays (if the model has multiple outputs).\n",
      "            If output layers in the model are named, you can also pass a\n",
      "            dictionary mapping output names to Numpy arrays.\n",
      "            `y` can be `None` (default) if feeding from\n",
      "            framework-native tensors (e.g. TensorFlow data tensors).\n",
      "        batch_size: Integer or `None`.\n",
      "            Number of samples per gradient update.\n",
      "            If unspecified, `batch_size` will default to 32.\n",
      "        epochs: Integer. Number of epochs to train the model.\n",
      "            An epoch is an iteration over the entire `x` and `y`\n",
      "            data provided.\n",
      "            Note that in conjunction with `initial_epoch`,\n",
      "            `epochs` is to be understood as \"final epoch\".\n",
      "            The model is not trained for a number of iterations\n",
      "            given by `epochs`, but merely until the epoch\n",
      "            of index `epochs` is reached.\n",
      "        verbose: Integer. 0, 1, or 2. Verbosity mode.\n",
      "            0 = silent, 1 = progress bar, 2 = one line per epoch.\n",
      "        callbacks: List of `keras.callbacks.Callback` instances.\n",
      "            List of callbacks to apply during training.\n",
      "            See [callbacks](/callbacks).\n",
      "        validation_split: Float between 0 and 1.\n",
      "            Fraction of the training data to be used as validation data.\n",
      "            The model will set apart this fraction of the training data,\n",
      "            will not train on it, and will evaluate\n",
      "            the loss and any model metrics\n",
      "            on this data at the end of each epoch.\n",
      "            The validation data is selected from the last samples\n",
      "            in the `x` and `y` data provided, before shuffling.\n",
      "        validation_data: tuple `(x_val, y_val)` or tuple\n",
      "            `(x_val, y_val, val_sample_weights)` on which to evaluate\n",
      "            the loss and any model metrics at the end of each epoch.\n",
      "            The model will not be trained on this data.\n",
      "            `validation_data` will override `validation_split`.\n",
      "        shuffle: Boolean (whether to shuffle the training data\n",
      "            before each epoch) or str (for 'batch').\n",
      "            'batch' is a special option for dealing with the\n",
      "            limitations of HDF5 data; it shuffles in batch-sized chunks.\n",
      "            Has no effect when `steps_per_epoch` is not `None`.\n",
      "        class_weight: Optional dictionary mapping class indices (integers)\n",
      "            to a weight (float) value, used for weighting the loss function\n",
      "            (during training only).\n",
      "            This can be useful to tell the model to\n",
      "            \"pay more attention\" to samples from\n",
      "            an under-represented class.\n",
      "        sample_weight: Optional Numpy array of weights for\n",
      "            the training samples, used for weighting the loss function\n",
      "            (during training only). You can either pass a flat (1D)\n",
      "            Numpy array with the same length as the input samples\n",
      "            (1:1 mapping between weights and samples),\n",
      "            or in the case of temporal data,\n",
      "            you can pass a 2D array with shape\n",
      "            `(samples, sequence_length)`,\n",
      "            to apply a different weight to every timestep of every sample.\n",
      "            In this case you should make sure to specify\n",
      "            `sample_weight_mode=\"temporal\"` in `compile()`.\n",
      "        initial_epoch: Integer.\n",
      "            Epoch at which to start training\n",
      "            (useful for resuming a previous training run).\n",
      "        steps_per_epoch: Integer or `None`.\n",
      "            Total number of steps (batches of samples)\n",
      "            before declaring one epoch finished and starting the\n",
      "            next epoch. When training with input tensors such as\n",
      "            TensorFlow data tensors, the default `None` is equal to\n",
      "            the number of samples in your dataset divided by\n",
      "            the batch size, or 1 if that cannot be determined.\n",
      "        validation_steps: Only relevant if `steps_per_epoch`\n",
      "            is specified. Total number of steps (batches of samples)\n",
      "            to validate before stopping.\n",
      "    \n",
      "    # Returns\n",
      "        A `History` object. Its `History.history` attribute is\n",
      "        a record of training loss values and metrics values\n",
      "        at successive epochs, as well as validation loss values\n",
      "        and validation metrics values (if applicable).\n",
      "    \n",
      "    # Raises\n",
      "        RuntimeError: If the model was never compiled.\n",
      "        ValueError: In case of mismatch between the provided input data\n",
      "            and what the model expects.\n",
      "\n"
     ]
    }
   ],
   "source": [
    "help(model.fit)"
   ]
  },
  {
   "cell_type": "code",
   "execution_count": 35,
   "metadata": {},
   "outputs": [
    {
     "data": {
      "text/plain": [
       "(60000, 10)"
      ]
     },
     "execution_count": 35,
     "metadata": {},
     "output_type": "execute_result"
    }
   ],
   "source": [
    "pred_y_train = model.predict(X_train)\n",
    "pred_y_train.shape"
   ]
  },
  {
   "cell_type": "code",
   "execution_count": 36,
   "metadata": {},
   "outputs": [
    {
     "data": {
      "text/plain": [
       "0.99525468409388"
      ]
     },
     "execution_count": 36,
     "metadata": {},
     "output_type": "execute_result"
    }
   ],
   "source": [
    "(pred_y_train*y_train).sum()/len(y_train) # score of train"
   ]
  },
  {
   "cell_type": "code",
   "execution_count": 37,
   "metadata": {},
   "outputs": [
    {
     "data": {
      "text/plain": [
       "(10000, 10)"
      ]
     },
     "execution_count": 37,
     "metadata": {},
     "output_type": "execute_result"
    }
   ],
   "source": [
    "pred_y_test = model.predict(X_test)\n",
    "pred_y_test.shape"
   ]
  },
  {
   "cell_type": "code",
   "execution_count": 38,
   "metadata": {},
   "outputs": [
    {
     "data": {
      "text/plain": [
       "0.9777991885025654"
      ]
     },
     "execution_count": 38,
     "metadata": {},
     "output_type": "execute_result"
    }
   ],
   "source": [
    "(pred_y_test*y_test).sum()/len(y_test) # score of test"
   ]
  },
  {
   "cell_type": "markdown",
   "metadata": {},
   "source": [
    "> **연습문제**\n",
    "> - 오류가 발생한 이미지를 출력하시오"
   ]
  },
  {
   "cell_type": "code",
   "execution_count": 40,
   "metadata": {},
   "outputs": [
    {
     "data": {
      "text/plain": [
       "array([7, 2, 1, ..., 4, 5, 6], dtype=int64)"
      ]
     },
     "execution_count": 40,
     "metadata": {},
     "output_type": "execute_result"
    }
   ],
   "source": [
    "y_test.argmax(axis=1)"
   ]
  },
  {
   "cell_type": "code",
   "execution_count": 42,
   "metadata": {},
   "outputs": [
    {
     "data": {
      "text/plain": [
       "array([7, 2, 1, ..., 4, 5, 6], dtype=int64)"
      ]
     },
     "execution_count": 42,
     "metadata": {},
     "output_type": "execute_result"
    }
   ],
   "source": [
    "pred_y_test.argmax(axis=1)"
   ]
  },
  {
   "cell_type": "code",
   "execution_count": 43,
   "metadata": {},
   "outputs": [],
   "source": [
    "idx = np.where(y_test.argmax(axis=1)!=pred_y_test.argmax(axis=1))"
   ]
  },
  {
   "cell_type": "code",
   "execution_count": 44,
   "metadata": {},
   "outputs": [
    {
     "data": {
      "text/plain": [
       "(array([ 115,  119,  247,  340,  409,  432,  445,  448,  495,  582,  646,\n",
       "         684,  691,  810,  895,  900,  938,  947,  951,  965, 1014, 1039,\n",
       "        1050, 1101, 1112, 1156, 1178, 1182, 1192, 1194, 1226, 1242, 1247,\n",
       "        1272, 1299, 1319, 1378, 1393, 1414, 1527, 1530, 1549, 1553, 1609,\n",
       "        1654, 1670, 1681, 1709, 1751, 1754, 1790, 1901, 1952, 1981, 1984,\n",
       "        2004, 2018, 2024, 2029, 2035, 2053, 2098, 2109, 2118, 2129, 2130,\n",
       "        2135, 2161, 2162, 2189, 2293, 2299, 2325, 2339, 2387, 2406, 2414,\n",
       "        2426, 2433, 2480, 2582, 2597, 2607, 2610, 2648, 2654, 2743, 2760,\n",
       "        2771, 2863, 2877, 2921, 2927, 2930, 2939, 2953, 3030, 3060, 3062,\n",
       "        3073, 3115, 3117, 3422, 3451, 3503, 3520, 3534, 3549, 3558, 3559,\n",
       "        3597, 3681, 3727, 3749, 3751, 3780, 3808, 3838, 3853, 3871, 3893,\n",
       "        3902, 3941, 3943, 3976, 3985, 4000, 4027, 4065, 4075, 4140, 4154,\n",
       "        4163, 4176, 4205, 4224, 4248, 4271, 4289, 4321, 4355, 4359, 4360,\n",
       "        4369, 4419, 4425, 4433, 4439, 4497, 4536, 4551, 4571, 4601, 4723,\n",
       "        4731, 4761, 4814, 4823, 4880, 4915, 4943, 4950, 5457, 5642, 5654,\n",
       "        5676, 5745, 5887, 5936, 5937, 5955, 5972, 5973, 6011, 6059, 6166,\n",
       "        6168, 6173, 6555, 6560, 6568, 6571, 6576, 6597, 6625, 6651, 6755,\n",
       "        6783, 6817, 6945, 7216, 7259, 7268, 7487, 7539, 7921, 7945, 8062,\n",
       "        8094, 8246, 8255, 8272, 8277, 8408, 8527, 9009, 9015, 9019, 9024,\n",
       "        9382, 9587, 9634, 9664, 9669, 9679, 9700, 9719, 9729, 9745, 9749,\n",
       "        9770, 9808, 9858], dtype=int64),)"
      ]
     },
     "execution_count": 44,
     "metadata": {},
     "output_type": "execute_result"
    }
   ],
   "source": [
    "idx"
   ]
  },
  {
   "cell_type": "code",
   "execution_count": 53,
   "metadata": {},
   "outputs": [
    {
     "data": {
      "text/plain": [
       "(7, 2)"
      ]
     },
     "execution_count": 53,
     "metadata": {},
     "output_type": "execute_result"
    },
    {
     "data": {
      "image/png": "[encoded data removed]",
      "text/plain": [
       "<matplotlib.figure.Figure at 0x27472c27860>"
      ]
     },
     "metadata": {},
     "output_type": "display_data"
    }
   ],
   "source": [
    "id = 4433\n",
    "plt.imshow(X_test[id].reshape(28,28), cmap='gray')\n",
    "y_test.argmax(axis=1)[id], pred_y_test.argmax(axis=1)[id]"
   ]
  },
  {
   "cell_type": "markdown",
   "metadata": {},
   "source": [
    "### 모델 저장"
   ]
  },
  {
   "cell_type": "code",
   "execution_count": 36,
   "metadata": {},
   "outputs": [],
   "source": [
    "model.save('mnist_model_01.h5') # creates a HDF5 file"
   ]
  },
  {
   "cell_type": "code",
   "execution_count": 39,
   "metadata": {},
   "outputs": [],
   "source": [
    "from keras.models import load_model\n",
    "\n",
    "model2 = load_model('mnist_model_01.h5')"
   ]
  },
  {
   "cell_type": "code",
   "execution_count": 42,
   "metadata": {},
   "outputs": [
    {
     "name": "stdout",
     "output_type": "stream",
     "text": [
      "_________________________________________________________________\n",
      "Layer (type)                 Output Shape              Param #   \n",
      "=================================================================\n",
      "dense_3 (Dense)              (None, 128)               100480    \n",
      "_________________________________________________________________\n",
      "dense_4 (Dense)              (None, 256)               33024     \n",
      "_________________________________________________________________\n",
      "dense_5 (Dense)              (None, 256)               65792     \n",
      "_________________________________________________________________\n",
      "dense_6 (Dense)              (None, 10)                2570      \n",
      "=================================================================\n",
      "Total params: 201,866\n",
      "Trainable params: 201,866\n",
      "Non-trainable params: 0\n",
      "_________________________________________________________________\n"
     ]
    }
   ],
   "source": [
    "model2.summary()"
   ]
  },
  {
   "cell_type": "code",
   "execution_count": 40,
   "metadata": {},
   "outputs": [
    {
     "data": {
      "text/plain": [
       "array([[1.7897082e-18, 1.2604499e-14, 1.4408841e-12, ..., 1.0000000e+00,\n",
       "        1.5553001e-17, 8.6794649e-10],\n",
       "       [2.2513420e-24, 1.3519225e-10, 1.0000000e+00, ..., 3.6946021e-16,\n",
       "        4.7015980e-20, 1.3197994e-25],\n",
       "       [1.9272220e-10, 9.9997580e-01, 1.7852156e-07, ..., 2.1316106e-05,\n",
       "        2.4139629e-08, 4.9846496e-09],\n",
       "       ...,\n",
       "       [1.1987138e-27, 4.3853409e-23, 5.8669306e-25, ..., 1.4196603e-16,\n",
       "        3.5619537e-23, 8.0281834e-15],\n",
       "       [8.6556915e-25, 2.5036305e-26, 1.9347526e-25, ..., 1.2481194e-22,\n",
       "        1.9484564e-16, 3.3102383e-25],\n",
       "       [2.1923046e-24, 1.4936362e-32, 1.3257251e-30, ..., 4.9728456e-38,\n",
       "        1.6158497e-25, 1.5502201e-29]], dtype=float32)"
      ]
     },
     "execution_count": 40,
     "metadata": {},
     "output_type": "execute_result"
    }
   ],
   "source": [
    "model2.predict(X_test)"
   ]
  },
  {
   "cell_type": "markdown",
   "metadata": {},
   "source": [
    "- 가중치 저장 및 로딩"
   ]
  },
  {
   "cell_type": "code",
   "execution_count": null,
   "metadata": {},
   "outputs": [],
   "source": [
    "model.save_weights(\"mnist_weights_01.h5\")\n",
    "model2.load_weights(\"mnist_weights_01.h5\")"
   ]
  },
  {
   "cell_type": "markdown",
   "metadata": {},
   "source": [
    "### Flatten\n",
    "- 출력값을 1차원으로 풀어준다"
   ]
  },
  {
   "cell_type": "code",
   "execution_count": 48,
   "metadata": {},
   "outputs": [
    {
     "data": {
      "text/plain": [
       "((60000, 28, 28), (60000,), (10000, 28, 28), (10000,))"
      ]
     },
     "execution_count": 48,
     "metadata": {},
     "output_type": "execute_result"
    }
   ],
   "source": [
    "(X_train, y_train), (X_test, y_test) = mnist.load_data()\n",
    "X_train.shape, y_train.shape, X_test.shape, y_test.shape"
   ]
  },
  {
   "cell_type": "code",
   "execution_count": 49,
   "metadata": {},
   "outputs": [],
   "source": [
    "X_train = X_train/255\n",
    "X_test = X_test/255"
   ]
  },
  {
   "cell_type": "code",
   "execution_count": 60,
   "metadata": {},
   "outputs": [],
   "source": [
    "from keras.layers import Flatten"
   ]
  },
  {
   "cell_type": "code",
   "execution_count": 50,
   "metadata": {},
   "outputs": [],
   "source": [
    "model = Sequential()\n",
    "model.add(Flatten(input_shape=(28,28)))\n",
    "model.add(Dense(128, activation='relu'))\n",
    "model.add(Dense(256, activation='relu'))\n",
    "model.add(Dense(256, activation='relu'))\n",
    "model.add(Dense(10, activation='softmax'))"
   ]
  },
  {
   "cell_type": "code",
   "execution_count": 51,
   "metadata": {},
   "outputs": [
    {
     "name": "stdout",
     "output_type": "stream",
     "text": [
      "_________________________________________________________________\n",
      "Layer (type)                 Output Shape              Param #   \n",
      "=================================================================\n",
      "flatten_2 (Flatten)          (None, 784)               0         \n",
      "_________________________________________________________________\n",
      "dense_11 (Dense)             (None, 128)               100480    \n",
      "_________________________________________________________________\n",
      "dense_12 (Dense)             (None, 256)               33024     \n",
      "_________________________________________________________________\n",
      "dense_13 (Dense)             (None, 256)               65792     \n",
      "_________________________________________________________________\n",
      "dense_14 (Dense)             (None, 10)                2570      \n",
      "=================================================================\n",
      "Total params: 201,866\n",
      "Trainable params: 201,866\n",
      "Non-trainable params: 0\n",
      "_________________________________________________________________\n"
     ]
    }
   ],
   "source": [
    "model.summary()"
   ]
  },
  {
   "cell_type": "code",
   "execution_count": 52,
   "metadata": {},
   "outputs": [
    {
     "name": "stdout",
     "output_type": "stream",
     "text": [
      "Train on 48000 samples, validate on 12000 samples\n",
      "Epoch 1/2\n",
      "48000/48000 [==============================] - 14s 296us/step - loss: 0.3087 - acc: 0.9046 - val_loss: 0.1806 - val_acc: 0.9437\n",
      "Epoch 2/2\n",
      "48000/48000 [==============================] - 13s 270us/step - loss: 0.1212 - acc: 0.9628 - val_loss: 0.1149 - val_acc: 0.9656\n"
     ]
    },
    {
     "data": {
      "text/plain": [
       "<keras.callbacks.History at 0x2678a4c04a8>"
      ]
     },
     "execution_count": 52,
     "metadata": {},
     "output_type": "execute_result"
    }
   ],
   "source": [
    "model.compile(loss='categorical_crossentropy', optimizer='rmsprop', metrics=['acc'])\n",
    "model.fit(X_train, np.eye(10)[y_train], epochs=2, batch_size=128, validation_split=0.2)"
   ]
  },
  {
   "cell_type": "code",
   "execution_count": 53,
   "metadata": {},
   "outputs": [],
   "source": [
    "pred_y_train = model.predict(X_train)"
   ]
  },
  {
   "cell_type": "code",
   "execution_count": 54,
   "metadata": {},
   "outputs": [
    {
     "data": {
      "text/plain": [
       "0.9737"
      ]
     },
     "execution_count": 54,
     "metadata": {},
     "output_type": "execute_result"
    }
   ],
   "source": [
    "(pred_y_train.argmax(axis=1)==y_train).mean()"
   ]
  },
  {
   "cell_type": "markdown",
   "metadata": {},
   "source": [
    "### Dropout\n",
    "- Dropout 은 고의적으로 중간 단계의 출력값 들을 누락시키는 것이다.\n",
    "- 이렇게 하면 모델이 좀 더 예외상황에 견딜 수 있게 하여, 새로운 데이터에 대한 예측 능력을 키울 수 있다고 알려져 있다.\n",
    "- 사진의 일부분을 가리거나 시야가 흐릿해 지는 등의 효과와 비슷하다.\n",
    "- 여러가지 예외사항에 대처가 가능한 강건한 모델을 만들 수 있다.\n",
    "- 훈련시에는 출력값을 누락시키지만, 검증시에는 모든 출력값을 사용한다. (단 누락비율에 맞게 출력값을 줄여준다)"
   ]
  },
  {
   "cell_type": "code",
   "execution_count": 61,
   "metadata": {},
   "outputs": [
    {
     "data": {
      "text/plain": [
       "((60000, 28, 28), (60000,), (10000, 28, 28), (10000,))"
      ]
     },
     "execution_count": 61,
     "metadata": {},
     "output_type": "execute_result"
    }
   ],
   "source": [
    "(X_train, y_train), (X_test, y_test) = mnist.load_data()\n",
    "X_train.shape, y_train.shape, X_test.shape, y_test.shape"
   ]
  },
  {
   "cell_type": "code",
   "execution_count": 62,
   "metadata": {},
   "outputs": [],
   "source": [
    "X_train = X_train/255\n",
    "X_test = X_test/255"
   ]
  },
  {
   "cell_type": "code",
   "execution_count": 63,
   "metadata": {},
   "outputs": [],
   "source": [
    "from keras.layers import Flatten, Dropout"
   ]
  },
  {
   "cell_type": "code",
   "execution_count": 64,
   "metadata": {},
   "outputs": [],
   "source": [
    "model = Sequential()\n",
    "model.add(Flatten(input_shape=(28,28)))\n",
    "model.add(Dense(128, activation='relu'))\n",
    "model.add(Dropout(0.5))\n",
    "model.add(Dense(256, activation='relu'))\n",
    "model.add(Dropout(0.5))\n",
    "model.add(Dense(256, activation='relu'))\n",
    "model.add(Dropout(0.25))\n",
    "model.add(Dense(10, activation='softmax'))"
   ]
  },
  {
   "cell_type": "code",
   "execution_count": 65,
   "metadata": {},
   "outputs": [
    {
     "name": "stdout",
     "output_type": "stream",
     "text": [
      "_________________________________________________________________\n",
      "Layer (type)                 Output Shape              Param #   \n",
      "=================================================================\n",
      "flatten_1 (Flatten)          (None, 784)               0         \n",
      "_________________________________________________________________\n",
      "dense_18 (Dense)             (None, 128)               100480    \n",
      "_________________________________________________________________\n",
      "dropout_1 (Dropout)          (None, 128)               0         \n",
      "_________________________________________________________________\n",
      "dense_19 (Dense)             (None, 256)               33024     \n",
      "_________________________________________________________________\n",
      "dropout_2 (Dropout)          (None, 256)               0         \n",
      "_________________________________________________________________\n",
      "dense_20 (Dense)             (None, 256)               65792     \n",
      "_________________________________________________________________\n",
      "dropout_3 (Dropout)          (None, 256)               0         \n",
      "_________________________________________________________________\n",
      "dense_21 (Dense)             (None, 10)                2570      \n",
      "=================================================================\n",
      "Total params: 201,866\n",
      "Trainable params: 201,866\n",
      "Non-trainable params: 0\n",
      "_________________________________________________________________\n"
     ]
    }
   ],
   "source": [
    "model.summary()"
   ]
  },
  {
   "cell_type": "code",
   "execution_count": 66,
   "metadata": {},
   "outputs": [
    {
     "name": "stdout",
     "output_type": "stream",
     "text": [
      "Train on 48000 samples, validate on 12000 samples\n",
      "Epoch 1/100\n",
      "48000/48000 [==============================] - 3s 65us/step - loss: 0.6193 - acc: 0.8024 - val_loss: 0.2130 - val_acc: 0.9384\n",
      "Epoch 2/100\n",
      "48000/48000 [==============================] - 3s 58us/step - loss: 0.3234 - acc: 0.9054 - val_loss: 0.1605 - val_acc: 0.9554\n",
      "Epoch 3/100\n",
      "48000/48000 [==============================] - 2s 47us/step - loss: 0.2680 - acc: 0.9225 - val_loss: 0.1449 - val_acc: 0.9589\n",
      "Epoch 4/100\n",
      "48000/48000 [==============================] - 2s 48us/step - loss: 0.2348 - acc: 0.9319 - val_loss: 0.1309 - val_acc: 0.9642\n",
      "Epoch 5/100\n",
      "48000/48000 [==============================] - 3s 54us/step - loss: 0.2221 - acc: 0.9375 - val_loss: 0.1256 - val_acc: 0.9658\n",
      "Epoch 6/100\n",
      "48000/48000 [==============================] - 2s 46us/step - loss: 0.2052 - acc: 0.9419 - val_loss: 0.1183 - val_acc: 0.9670\n",
      "Epoch 7/100\n",
      "48000/48000 [==============================] - 2s 46us/step - loss: 0.1934 - acc: 0.9459 - val_loss: 0.1133 - val_acc: 0.9690\n",
      "Epoch 8/100\n",
      "48000/48000 [==============================] - 2s 49us/step - loss: 0.1890 - acc: 0.9484 - val_loss: 0.1097 - val_acc: 0.9708\n",
      "Epoch 9/100\n",
      "48000/48000 [==============================] - 2s 49us/step - loss: 0.1845 - acc: 0.9493 - val_loss: 0.1195 - val_acc: 0.9687\n",
      "Epoch 10/100\n",
      "48000/48000 [==============================] - 2s 46us/step - loss: 0.1743 - acc: 0.9521 - val_loss: 0.1125 - val_acc: 0.9702\n",
      "Epoch 11/100\n",
      "48000/48000 [==============================] - 2s 47us/step - loss: 0.1796 - acc: 0.9512 - val_loss: 0.1094 - val_acc: 0.9715\n",
      "Epoch 12/100\n",
      "48000/48000 [==============================] - 2s 51us/step - loss: 0.1732 - acc: 0.9533 - val_loss: 0.1132 - val_acc: 0.9726\n",
      "Epoch 13/100\n",
      "48000/48000 [==============================] - 2s 46us/step - loss: 0.1709 - acc: 0.9552 - val_loss: 0.1136 - val_acc: 0.9715\n",
      "Epoch 14/100\n",
      "48000/48000 [==============================] - 2s 47us/step - loss: 0.1712 - acc: 0.9548 - val_loss: 0.1091 - val_acc: 0.9734\n",
      "Epoch 15/100\n",
      "48000/48000 [==============================] - 2s 46us/step - loss: 0.1680 - acc: 0.9549 - val_loss: 0.1091 - val_acc: 0.9734\n",
      "Epoch 16/100\n",
      "48000/48000 [==============================] - 2s 47us/step - loss: 0.1675 - acc: 0.9568 - val_loss: 0.1129 - val_acc: 0.9737\n",
      "Epoch 17/100\n",
      "48000/48000 [==============================] - 2s 47us/step - loss: 0.1634 - acc: 0.9568 - val_loss: 0.1123 - val_acc: 0.9727\n",
      "Epoch 18/100\n",
      "48000/48000 [==============================] - 2s 46us/step - loss: 0.1625 - acc: 0.9586 - val_loss: 0.1121 - val_acc: 0.9742\n",
      "Epoch 19/100\n",
      "48000/48000 [==============================] - 2s 47us/step - loss: 0.1633 - acc: 0.9576 - val_loss: 0.1140 - val_acc: 0.9737\n",
      "Epoch 20/100\n",
      "48000/48000 [==============================] - 2s 47us/step - loss: 0.1639 - acc: 0.9574 - val_loss: 0.1155 - val_acc: 0.9737\n",
      "Epoch 21/100\n",
      "48000/48000 [==============================] - 2s 47us/step - loss: 0.1629 - acc: 0.9572 - val_loss: 0.1118 - val_acc: 0.9745\n",
      "Epoch 22/100\n",
      "48000/48000 [==============================] - 2s 47us/step - loss: 0.1585 - acc: 0.9597 - val_loss: 0.1129 - val_acc: 0.9737\n",
      "Epoch 23/100\n",
      "48000/48000 [==============================] - 2s 47us/step - loss: 0.1567 - acc: 0.9605 - val_loss: 0.1136 - val_acc: 0.9736\n",
      "Epoch 24/100\n",
      "48000/48000 [==============================] - 2s 47us/step - loss: 0.1536 - acc: 0.9606 - val_loss: 0.1123 - val_acc: 0.9743\n",
      "Epoch 25/100\n",
      "48000/48000 [==============================] - 2s 47us/step - loss: 0.1573 - acc: 0.9602 - val_loss: 0.1315 - val_acc: 0.9713\n",
      "Epoch 26/100\n",
      "48000/48000 [==============================] - 2s 47us/step - loss: 0.1572 - acc: 0.9604 - val_loss: 0.1144 - val_acc: 0.9752\n",
      "Epoch 27/100\n",
      "48000/48000 [==============================] - 2s 47us/step - loss: 0.1580 - acc: 0.9604 - val_loss: 0.1132 - val_acc: 0.9749\n",
      "Epoch 28/100\n",
      "48000/48000 [==============================] - 3s 53us/step - loss: 0.1555 - acc: 0.9610 - val_loss: 0.1136 - val_acc: 0.9752\n",
      "Epoch 29/100\n",
      "48000/48000 [==============================] - 3s 54us/step - loss: 0.1572 - acc: 0.9604 - val_loss: 0.1272 - val_acc: 0.9745\n",
      "Epoch 30/100\n",
      "48000/48000 [==============================] - 3s 54us/step - loss: 0.1563 - acc: 0.9605 - val_loss: 0.1241 - val_acc: 0.9733\n",
      "Epoch 31/100\n",
      "48000/48000 [==============================] - 3s 54us/step - loss: 0.1530 - acc: 0.9617 - val_loss: 0.1205 - val_acc: 0.9732\n",
      "Epoch 32/100\n",
      "48000/48000 [==============================] - 3s 54us/step - loss: 0.1525 - acc: 0.9634 - val_loss: 0.1220 - val_acc: 0.9728\n",
      "Epoch 33/100\n",
      "48000/48000 [==============================] - 3s 54us/step - loss: 0.1545 - acc: 0.9623 - val_loss: 0.1169 - val_acc: 0.9758\n",
      "Epoch 34/100\n",
      "48000/48000 [==============================] - 3s 54us/step - loss: 0.1514 - acc: 0.9628 - val_loss: 0.1231 - val_acc: 0.9753\n",
      "Epoch 35/100\n",
      "48000/48000 [==============================] - 3s 54us/step - loss: 0.1508 - acc: 0.9626 - val_loss: 0.1204 - val_acc: 0.9759\n",
      "Epoch 36/100\n",
      "48000/48000 [==============================] - 3s 54us/step - loss: 0.1542 - acc: 0.9641 - val_loss: 0.1213 - val_acc: 0.9758\n",
      "Epoch 37/100\n",
      "48000/48000 [==============================] - 3s 53us/step - loss: 0.1480 - acc: 0.9645 - val_loss: 0.1189 - val_acc: 0.9759\n",
      "Epoch 38/100\n",
      "48000/48000 [==============================] - 3s 54us/step - loss: 0.1480 - acc: 0.9642 - val_loss: 0.1224 - val_acc: 0.9752\n",
      "Epoch 39/100\n",
      "48000/48000 [==============================] - 3s 53us/step - loss: 0.1494 - acc: 0.9625 - val_loss: 0.1259 - val_acc: 0.9755\n",
      "Epoch 40/100\n",
      "48000/48000 [==============================] - 3s 53us/step - loss: 0.1506 - acc: 0.9648 - val_loss: 0.1214 - val_acc: 0.9750\n",
      "Epoch 41/100\n",
      "48000/48000 [==============================] - 3s 54us/step - loss: 0.1558 - acc: 0.9628 - val_loss: 0.1196 - val_acc: 0.9744\n",
      "Epoch 42/100\n",
      "48000/48000 [==============================] - 3s 53us/step - loss: 0.1467 - acc: 0.9648 - val_loss: 0.1223 - val_acc: 0.9737\n",
      "Epoch 43/100\n",
      "48000/48000 [==============================] - 3s 54us/step - loss: 0.1495 - acc: 0.9650 - val_loss: 0.1261 - val_acc: 0.9751\n",
      "Epoch 44/100\n",
      "48000/48000 [==============================] - 3s 53us/step - loss: 0.1503 - acc: 0.9646 - val_loss: 0.1263 - val_acc: 0.9750\n",
      "Epoch 45/100\n",
      "48000/48000 [==============================] - 3s 54us/step - loss: 0.1534 - acc: 0.9648 - val_loss: 0.1239 - val_acc: 0.9753\n",
      "Epoch 46/100\n",
      "48000/48000 [==============================] - 3s 54us/step - loss: 0.1518 - acc: 0.9643 - val_loss: 0.1249 - val_acc: 0.9751\n",
      "Epoch 47/100\n",
      "48000/48000 [==============================] - 3s 53us/step - loss: 0.1508 - acc: 0.9634 - val_loss: 0.1299 - val_acc: 0.9758\n",
      "Epoch 48/100\n",
      "48000/48000 [==============================] - 3s 54us/step - loss: 0.1518 - acc: 0.9647 - val_loss: 0.1227 - val_acc: 0.9756\n",
      "Epoch 49/100\n",
      "48000/48000 [==============================] - 3s 54us/step - loss: 0.1470 - acc: 0.9652 - val_loss: 0.1343 - val_acc: 0.9751\n",
      "Epoch 50/100\n",
      "48000/48000 [==============================] - 3s 55us/step - loss: 0.1469 - acc: 0.9650 - val_loss: 0.1209 - val_acc: 0.9770\n",
      "Epoch 51/100\n",
      "48000/48000 [==============================] - 3s 54us/step - loss: 0.1505 - acc: 0.9656 - val_loss: 0.1294 - val_acc: 0.9768\n",
      "Epoch 52/100\n",
      "48000/48000 [==============================] - 3s 55us/step - loss: 0.1464 - acc: 0.9658 - val_loss: 0.1209 - val_acc: 0.9773\n",
      "Epoch 53/100\n",
      "48000/48000 [==============================] - 3s 54us/step - loss: 0.1503 - acc: 0.9641 - val_loss: 0.1253 - val_acc: 0.9763\n",
      "Epoch 54/100\n",
      "48000/48000 [==============================] - 3s 53us/step - loss: 0.1462 - acc: 0.9660 - val_loss: 0.1204 - val_acc: 0.9769\n",
      "Epoch 55/100\n",
      "48000/48000 [==============================] - 3s 55us/step - loss: 0.1479 - acc: 0.9662 - val_loss: 0.1243 - val_acc: 0.9762\n",
      "Epoch 56/100\n",
      "48000/48000 [==============================] - 3s 55us/step - loss: 0.1495 - acc: 0.9667 - val_loss: 0.1180 - val_acc: 0.9772\n",
      "Epoch 57/100\n",
      "48000/48000 [==============================] - 3s 54us/step - loss: 0.1473 - acc: 0.9669 - val_loss: 0.1213 - val_acc: 0.9769\n",
      "Epoch 58/100\n",
      "48000/48000 [==============================] - 3s 54us/step - loss: 0.1449 - acc: 0.9674 - val_loss: 0.1202 - val_acc: 0.9766\n",
      "Epoch 59/100\n",
      "48000/48000 [==============================] - 3s 53us/step - loss: 0.1496 - acc: 0.9662 - val_loss: 0.1230 - val_acc: 0.9768\n",
      "Epoch 60/100\n",
      "48000/48000 [==============================] - 3s 53us/step - loss: 0.1452 - acc: 0.9663 - val_loss: 0.1215 - val_acc: 0.9751\n",
      "Epoch 61/100\n",
      "48000/48000 [==============================] - 3s 53us/step - loss: 0.1529 - acc: 0.9645 - val_loss: 0.1201 - val_acc: 0.9762\n",
      "Epoch 62/100\n",
      "48000/48000 [==============================] - 3s 53us/step - loss: 0.1463 - acc: 0.9668 - val_loss: 0.1290 - val_acc: 0.9747\n",
      "Epoch 63/100\n",
      "48000/48000 [==============================] - 3s 53us/step - loss: 0.1531 - acc: 0.9653 - val_loss: 0.1244 - val_acc: 0.9752\n",
      "Epoch 64/100\n",
      "48000/48000 [==============================] - 3s 53us/step - loss: 0.1528 - acc: 0.9653 - val_loss: 0.1237 - val_acc: 0.9752\n",
      "Epoch 65/100\n",
      "48000/48000 [==============================] - 3s 54us/step - loss: 0.1486 - acc: 0.9673 - val_loss: 0.1337 - val_acc: 0.9753\n",
      "Epoch 66/100\n",
      "48000/48000 [==============================] - 3s 54us/step - loss: 0.1513 - acc: 0.9666 - val_loss: 0.1248 - val_acc: 0.9753\n",
      "Epoch 67/100\n",
      "48000/48000 [==============================] - 3s 54us/step - loss: 0.1507 - acc: 0.9664 - val_loss: 0.1298 - val_acc: 0.9766\n",
      "Epoch 68/100\n",
      "48000/48000 [==============================] - 3s 54us/step - loss: 0.1539 - acc: 0.9659 - val_loss: 0.1265 - val_acc: 0.9758\n",
      "Epoch 69/100\n",
      "48000/48000 [==============================] - 3s 53us/step - loss: 0.1445 - acc: 0.9673 - val_loss: 0.1365 - val_acc: 0.9745\n",
      "Epoch 70/100\n",
      "48000/48000 [==============================] - 3s 53us/step - loss: 0.1501 - acc: 0.9669 - val_loss: 0.1263 - val_acc: 0.9767\n",
      "Epoch 71/100\n",
      "48000/48000 [==============================] - 3s 53us/step - loss: 0.1472 - acc: 0.9683 - val_loss: 0.1343 - val_acc: 0.9742\n",
      "Epoch 72/100\n",
      "48000/48000 [==============================] - 3s 53us/step - loss: 0.1545 - acc: 0.9663 - val_loss: 0.1346 - val_acc: 0.9753\n",
      "Epoch 73/100\n",
      "48000/48000 [==============================] - 3s 54us/step - loss: 0.1472 - acc: 0.9668 - val_loss: 0.1368 - val_acc: 0.9769\n",
      "Epoch 74/100\n",
      "48000/48000 [==============================] - 3s 54us/step - loss: 0.1572 - acc: 0.9658 - val_loss: 0.1390 - val_acc: 0.9743\n",
      "Epoch 75/100\n",
      "48000/48000 [==============================] - 3s 54us/step - loss: 0.1502 - acc: 0.9678 - val_loss: 0.1355 - val_acc: 0.9755\n",
      "Epoch 76/100\n",
      "48000/48000 [==============================] - 3s 53us/step - loss: 0.1492 - acc: 0.9680 - val_loss: 0.1412 - val_acc: 0.9763\n",
      "Epoch 77/100\n",
      "48000/48000 [==============================] - 3s 53us/step - loss: 0.1549 - acc: 0.9671 - val_loss: 0.1333 - val_acc: 0.9758\n",
      "Epoch 78/100\n",
      "48000/48000 [==============================] - 3s 53us/step - loss: 0.1518 - acc: 0.9679 - val_loss: 0.1342 - val_acc: 0.9762\n",
      "Epoch 79/100\n",
      "48000/48000 [==============================] - 3s 53us/step - loss: 0.1506 - acc: 0.9680 - val_loss: 0.1300 - val_acc: 0.9755\n",
      "Epoch 80/100\n",
      "48000/48000 [==============================] - 3s 53us/step - loss: 0.1490 - acc: 0.9679 - val_loss: 0.1314 - val_acc: 0.9763\n",
      "Epoch 81/100\n",
      "48000/48000 [==============================] - 3s 53us/step - loss: 0.1503 - acc: 0.9679 - val_loss: 0.1463 - val_acc: 0.9744\n",
      "Epoch 82/100\n",
      "48000/48000 [==============================] - 3s 53us/step - loss: 0.1489 - acc: 0.9683 - val_loss: 0.1490 - val_acc: 0.9756\n",
      "Epoch 83/100\n",
      "48000/48000 [==============================] - 3s 53us/step - loss: 0.1474 - acc: 0.9681 - val_loss: 0.1475 - val_acc: 0.9755\n",
      "Epoch 84/100\n",
      "48000/48000 [==============================] - 3s 53us/step - loss: 0.1548 - acc: 0.9675 - val_loss: 0.1430 - val_acc: 0.9753\n",
      "Epoch 85/100\n",
      "48000/48000 [==============================] - 3s 55us/step - loss: 0.1552 - acc: 0.9674 - val_loss: 0.1362 - val_acc: 0.9756\n",
      "Epoch 86/100\n",
      "48000/48000 [==============================] - 3s 55us/step - loss: 0.1496 - acc: 0.9678 - val_loss: 0.1414 - val_acc: 0.9761\n",
      "Epoch 87/100\n",
      "48000/48000 [==============================] - 3s 54us/step - loss: 0.1489 - acc: 0.9690 - val_loss: 0.1411 - val_acc: 0.9758\n",
      "Epoch 88/100\n",
      "48000/48000 [==============================] - 3s 53us/step - loss: 0.1571 - acc: 0.9673 - val_loss: 0.1403 - val_acc: 0.9755\n",
      "Epoch 89/100\n",
      "48000/48000 [==============================] - 3s 54us/step - loss: 0.1552 - acc: 0.9676 - val_loss: 0.1387 - val_acc: 0.9760\n",
      "Epoch 90/100\n",
      "48000/48000 [==============================] - 3s 54us/step - loss: 0.1511 - acc: 0.9692 - val_loss: 0.1389 - val_acc: 0.9752\n",
      "Epoch 91/100\n",
      "48000/48000 [==============================] - 3s 53us/step - loss: 0.1594 - acc: 0.9673 - val_loss: 0.1437 - val_acc: 0.9763\n",
      "Epoch 92/100\n",
      "48000/48000 [==============================] - 3s 53us/step - loss: 0.1572 - acc: 0.9670 - val_loss: 0.1362 - val_acc: 0.9760\n",
      "Epoch 93/100\n",
      "48000/48000 [==============================] - 3s 54us/step - loss: 0.1502 - acc: 0.9692 - val_loss: 0.1473 - val_acc: 0.9763\n",
      "Epoch 94/100\n",
      "48000/48000 [==============================] - 3s 54us/step - loss: 0.1513 - acc: 0.9684 - val_loss: 0.1468 - val_acc: 0.9754\n",
      "Epoch 95/100\n",
      "48000/48000 [==============================] - 3s 54us/step - loss: 0.1590 - acc: 0.9678 - val_loss: 0.1311 - val_acc: 0.9773\n",
      "Epoch 96/100\n",
      "48000/48000 [==============================] - 3s 53us/step - loss: 0.1633 - acc: 0.9653 - val_loss: 0.1375 - val_acc: 0.9761\n",
      "Epoch 97/100\n",
      "48000/48000 [==============================] - 3s 53us/step - loss: 0.1566 - acc: 0.9685 - val_loss: 0.1414 - val_acc: 0.9743\n",
      "Epoch 98/100\n",
      "48000/48000 [==============================] - 3s 54us/step - loss: 0.1561 - acc: 0.9674 - val_loss: 0.1467 - val_acc: 0.9740\n",
      "Epoch 99/100\n",
      "48000/48000 [==============================] - 3s 55us/step - loss: 0.1510 - acc: 0.9683 - val_loss: 0.1459 - val_acc: 0.9745\n",
      "Epoch 100/100\n",
      "48000/48000 [==============================] - 3s 54us/step - loss: 0.1572 - acc: 0.9677 - val_loss: 0.1355 - val_acc: 0.9749\n"
     ]
    },
    {
     "data": {
      "text/plain": [
       "<keras.callbacks.History at 0x274731fbb38>"
      ]
     },
     "execution_count": 66,
     "metadata": {},
     "output_type": "execute_result"
    }
   ],
   "source": [
    "model.compile(loss='categorical_crossentropy', optimizer='rmsprop', metrics=['acc'])\n",
    "model.fit(X_train, np.eye(10)[y_train], epochs=100, batch_size=128, validation_split=0.2)"
   ]
  },
  {
   "cell_type": "code",
   "execution_count": 62,
   "metadata": {},
   "outputs": [
    {
     "data": {
      "text/plain": [
       "0.9776833333333333"
      ]
     },
     "execution_count": 62,
     "metadata": {},
     "output_type": "execute_result"
    }
   ],
   "source": [
    "pred_y_train = model.predict(X_train)\n",
    "(pred_y_train.argmax(axis=1)==y_train).mean()"
   ]
  },
  {
   "cell_type": "code",
   "execution_count": 63,
   "metadata": {},
   "outputs": [
    {
     "data": {
      "text/plain": [
       "0.9709"
      ]
     },
     "execution_count": 63,
     "metadata": {},
     "output_type": "execute_result"
    }
   ],
   "source": [
    "pred_y_test = model.predict(X_test)\n",
    "(pred_y_test.argmax(axis=1)==y_test).mean()"
   ]
  },
  {
   "cell_type": "code",
   "execution_count": 64,
   "metadata": {},
   "outputs": [
    {
     "data": {
      "text/plain": [
       "<matplotlib.legend.Legend at 0x267c3516f60>"
      ]
     },
     "execution_count": 64,
     "metadata": {},
     "output_type": "execute_result"
    },
    {
     "data": {
      "image/png": "[encoded data removed]",
      "text/plain": [
       "<Figure size 720x360 with 2 Axes>"
      ]
     },
     "metadata": {},
     "output_type": "display_data"
    }
   ],
   "source": [
    "plt.figure(figsize=[10,5])\n",
    "\n",
    "plt.subplot(1,2,1)\n",
    "plt.plot(model.history.history['loss'])\n",
    "plt.plot(model.history.history['val_loss'])\n",
    "plt.title('Loss')\n",
    "plt.xlabel('epoch')\n",
    "plt.legend(['loss','val_loss'])\n",
    "\n",
    "plt.subplot(1,2,2)\n",
    "plt.plot(model.history.history['acc'])\n",
    "plt.plot(model.history.history['val_acc'])\n",
    "plt.title('Accuracy')\n",
    "plt.xlabel('epoch')\n",
    "plt.legend(['acc','val_acc'])"
   ]
  },
  {
   "cell_type": "markdown",
   "metadata": {},
   "source": [
    "### cifar-10 이미지 적용\n",
    "- http://www.cs.toronto.edu/~kriz/cifar.html\n",
    "- cifar-10-python.tar.gz"
   ]
  },
  {
   "cell_type": "code",
   "execution_count": 67,
   "metadata": {
    "collapsed": true
   },
   "outputs": [
    {
     "ename": "FileNotFoundError",
     "evalue": "[Errno 2] No such file or directory: '../프로그래밍/keras_new/cifar10/data_batch_1'",
     "output_type": "error",
     "traceback": [
      "\u001b[1;31m---------------------------------------------------------------------------\u001b[0m",
      "\u001b[1;31mFileNotFoundError\u001b[0m                         Traceback (most recent call last)",
      "\u001b[1;32m<ipython-input-67-13f941ea9f55>\u001b[0m in \u001b[0;36m<module>\u001b[1;34m()\u001b[0m\n\u001b[0;32m      5\u001b[0m \u001b[1;33m\u001b[0m\u001b[0m\n\u001b[0;32m      6\u001b[0m \u001b[1;32mfor\u001b[0m \u001b[0mi\u001b[0m \u001b[1;32min\u001b[0m \u001b[0mrange\u001b[0m\u001b[1;33m(\u001b[0m\u001b[1;36m1\u001b[0m\u001b[1;33m,\u001b[0m\u001b[1;36m6\u001b[0m\u001b[1;33m)\u001b[0m\u001b[1;33m:\u001b[0m\u001b[1;33m\u001b[0m\u001b[0m\n\u001b[1;32m----> 7\u001b[1;33m     \u001b[0mf\u001b[0m \u001b[1;33m=\u001b[0m \u001b[0mopen\u001b[0m\u001b[1;33m(\u001b[0m\u001b[1;34m'../프로그래밍/keras_new/cifar10/data_batch_'\u001b[0m\u001b[1;33m+\u001b[0m\u001b[0mstr\u001b[0m\u001b[1;33m(\u001b[0m\u001b[0mi\u001b[0m\u001b[1;33m)\u001b[0m\u001b[1;33m,\u001b[0m \u001b[1;34m'rb'\u001b[0m\u001b[1;33m)\u001b[0m\u001b[1;33m\u001b[0m\u001b[0m\n\u001b[0m\u001b[0;32m      8\u001b[0m     \u001b[0md\u001b[0m \u001b[1;33m=\u001b[0m \u001b[0mpickle\u001b[0m\u001b[1;33m.\u001b[0m\u001b[0mload\u001b[0m\u001b[1;33m(\u001b[0m\u001b[0mf\u001b[0m\u001b[1;33m,\u001b[0m \u001b[0mencoding\u001b[0m\u001b[1;33m=\u001b[0m\u001b[1;34m'bytes'\u001b[0m\u001b[1;33m)\u001b[0m \u001b[1;31m# [b'batch_label', b'labels', b'data', b'filenames']\u001b[0m\u001b[1;33m\u001b[0m\u001b[0m\n\u001b[0;32m      9\u001b[0m     \u001b[0mf\u001b[0m\u001b[1;33m.\u001b[0m\u001b[0mclose\u001b[0m\u001b[1;33m(\u001b[0m\u001b[1;33m)\u001b[0m\u001b[1;33m\u001b[0m\u001b[0m\n",
      "\u001b[1;31mFileNotFoundError\u001b[0m: [Errno 2] No such file or directory: '../프로그래밍/keras_new/cifar10/data_batch_1'"
     ]
    }
   ],
   "source": [
    "import pickle\n",
    "\n",
    "X_train = None\n",
    "y_train = []\n",
    "\n",
    "for i in range(1,6):\n",
    "    f = open('../프로그래밍/keras_new/cifar10/data_batch_'+str(i), 'rb')\n",
    "    d = pickle.load(f, encoding='bytes') # [b'batch_label', b'labels', b'data', b'filenames']\n",
    "    f.close()\n",
    "    \n",
    "    X_now = d[b'data']\n",
    "    if i==1:\n",
    "        X_train = X_now\n",
    "    else:\n",
    "        X_train = np.r_[X_train, X_now]\n",
    "        \n",
    "    y_train += d[b'labels']"
   ]
  },
  {
   "cell_type": "code",
   "execution_count": null,
   "metadata": {},
   "outputs": [],
   "source": [
    "X_train = np.moveaxis(X_train.reshape(-1,3,32,32), 1, -1)"
   ]
  }
 ],
 "metadata": {
  "kernelspec": {
   "display_name": "Python 3",
   "language": "python",
   "name": "python3"
  },
  "language_info": {
   "codemirror_mode": {
    "name": "ipython",
    "version": 3
   },
   "file_extension": ".py",
   "mimetype": "text/x-python",
   "name": "python",
   "nbconvert_exporter": "python",
   "pygments_lexer": "ipython3",
   "version": "3.6.4"
  }
 },
 "nbformat": 4,
 "nbformat_minor": 2
}
